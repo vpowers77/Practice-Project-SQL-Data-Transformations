{
    "metadata": {
        "kernelspec": {
            "name": "SQL",
            "display_name": "SQL",
            "language": "sql"
        },
        "language_info": {
            "name": "sql",
            "version": ""
        }
    },
    "nbformat_minor": 2,
    "nbformat": 4,
    "cells": [
        {
            "cell_type": "markdown",
            "source": [
                "Part 1"
            ],
            "metadata": {
                "language": "sql",
                "azdata_cell_guid": "6b06e06c-f9d9-45a3-be33-0f09268660fc"
            },
            "attachments": {}
        },
        {
            "cell_type": "code",
            "source": [
                "SELECT \r\n",
                "    prod_id, \r\n",
                "    COALESCE(prod_name, 'No shock') AS prod_name\r\n",
                "FROM \r\n",
                "    dsci_504.products\r\n",
                "LIMIT 100;"
            ],
            "metadata": {
                "language": "sql",
                "azdata_cell_guid": "0daeaaa8-fa1f-4c15-9d15-5a744bcbfe4b"
            },
            "outputs": [
                {
                    "output_type": "display_data",
                    "data": {
                        "text/html": "(69 row(s) affected)"
                    },
                    "metadata": {}
                },
                {
                    "output_type": "display_data",
                    "data": {
                        "text/html": "Total execution time: 00:00:00.010"
                    },
                    "metadata": {}
                },
                {
                    "output_type": "execute_result",
                    "metadata": {},
                    "execution_count": 22,
                    "data": {
                        "application/vnd.dataresource+json": {
                            "schema": {
                                "fields": [
                                    {
                                        "name": "prod_id"
                                    },
                                    {
                                        "name": "prod_name"
                                    }
                                ]
                            },
                            "data": [
                                {
                                    "prod_id": "9",
                                    "prod_name": "Tallboy"
                                },
                                {
                                    "prod_id": "68",
                                    "prod_name": "Occam"
                                },
                                {
                                    "prod_id": "43",
                                    "prod_name": "Troy"
                                },
                                {
                                    "prod_id": "37",
                                    "prod_name": "DV9"
                                },
                                {
                                    "prod_id": "26",
                                    "prod_name": "Process 153"
                                },
                                {
                                    "prod_id": "69",
                                    "prod_name": "Occam"
                                },
                                {
                                    "prod_id": "27",
                                    "prod_name": "Hei Hei"
                                },
                                {
                                    "prod_id": "38",
                                    "prod_name": "Ripmo"
                                },
                                {
                                    "prod_id": "54",
                                    "prod_name": "G-Series"
                                },
                                {
                                    "prod_id": "13",
                                    "prod_name": "SB140"
                                },
                                {
                                    "prod_id": "52",
                                    "prod_name": "Snabb"
                                },
                                {
                                    "prod_id": "51",
                                    "prod_name": "Define"
                                },
                                {
                                    "prod_id": "67",
                                    "prod_name": "OIZ"
                                },
                                {
                                    "prod_id": "47",
                                    "prod_name": "Megatrail"
                                },
                                {
                                    "prod_id": "50",
                                    "prod_name": "Stereo"
                                },
                                {
                                    "prod_id": "55",
                                    "prod_name": "T-Series"
                                },
                                {
                                    "prod_id": "28",
                                    "prod_name": "Sniper"
                                },
                                {
                                    "prod_id": "30",
                                    "prod_name": "Tracer"
                                },
                                {
                                    "prod_id": "5",
                                    "prod_name": "Sensor"
                                },
                                {
                                    "prod_id": "65",
                                    "prod_name": "Rip9"
                                },
                                {
                                    "prod_id": "22",
                                    "prod_name": "Wreckoning"
                                },
                                {
                                    "prod_id": "57",
                                    "prod_name": "Scout"
                                },
                                {
                                    "prod_id": "42",
                                    "prod_name": "Onset"
                                },
                                {
                                    "prod_id": "41",
                                    "prod_name": "Haste"
                                },
                                {
                                    "prod_id": "15",
                                    "prod_name": "SB160"
                                },
                                {
                                    "prod_id": "36",
                                    "prod_name": "Thunderbolt"
                                },
                                {
                                    "prod_id": "35",
                                    "prod_name": "Instinct"
                                },
                                {
                                    "prod_id": "10",
                                    "prod_name": "SB100"
                                },
                                {
                                    "prod_id": "40",
                                    "prod_name": "Ripley"
                                },
                                {
                                    "prod_id": "49",
                                    "prod_name": "AMD"
                                },
                                {
                                    "prod_id": "25",
                                    "prod_name": "Process 134"
                                },
                                {
                                    "prod_id": "58",
                                    "prod_name": "Reactor"
                                },
                                {
                                    "prod_id": "2",
                                    "prod_name": "Trance"
                                },
                                {
                                    "prod_id": "59",
                                    "prod_name": "Meta Am"
                                },
                                {
                                    "prod_id": "3",
                                    "prod_name": "X Trance"
                                },
                                {
                                    "prod_id": "60",
                                    "prod_name": "Clash"
                                },
                                {
                                    "prod_id": "53",
                                    "prod_name": "E-Series"
                                },
                                {
                                    "prod_id": "23",
                                    "prod_name": "Insurgent"
                                },
                                {
                                    "prod_id": "16",
                                    "prod_name": "Enduro"
                                },
                                {
                                    "prod_id": "31",
                                    "prod_name": "Sight"
                                },
                                {
                                    "prod_id": "6",
                                    "prod_name": "Chameleon"
                                },
                                {
                                    "prod_id": "14",
                                    "prod_name": "SB150"
                                },
                                {
                                    "prod_id": "61",
                                    "prod_name": "Foxy"
                                },
                                {
                                    "prod_id": "56",
                                    "prod_name": "Mega"
                                },
                                {
                                    "prod_id": "63",
                                    "prod_name": "Air9"
                                },
                                {
                                    "prod_id": "46",
                                    "prod_name": "Trail Pistol"
                                },
                                {
                                    "prod_id": "1",
                                    "prod_name": "Firebird"
                                },
                                {
                                    "prod_id": "8",
                                    "prod_name": "Megatower"
                                },
                                {
                                    "prod_id": "39",
                                    "prod_name": "Mojo"
                                },
                                {
                                    "prod_id": "17",
                                    "prod_name": "Stumpjumper"
                                },
                                {
                                    "prod_id": "18",
                                    "prod_name": "Scalpel"
                                },
                                {
                                    "prod_id": "12",
                                    "prod_name": "SB130"
                                },
                                {
                                    "prod_id": "66",
                                    "prod_name": "Jet9"
                                },
                                {
                                    "prod_id": "11",
                                    "prod_name": "SB115"
                                },
                                {
                                    "prod_id": "32",
                                    "prod_name": "Optic"
                                },
                                {
                                    "prod_id": "7",
                                    "prod_name": "Hightower"
                                },
                                {
                                    "prod_id": "62",
                                    "prod_name": "SuperFoxy"
                                },
                                {
                                    "prod_id": "21",
                                    "prod_name": "Following"
                                },
                                {
                                    "prod_id": "44",
                                    "prod_name": "Gnarvana"
                                },
                                {
                                    "prod_id": "64",
                                    "prod_name": "RKT9"
                                },
                                {
                                    "prod_id": "48",
                                    "prod_name": "Shredd Dog"
                                },
                                {
                                    "prod_id": "19",
                                    "prod_name": "Jekyll"
                                },
                                {
                                    "prod_id": "33",
                                    "prod_name": "Element"
                                },
                                {
                                    "prod_id": "4",
                                    "prod_name": "Force"
                                },
                                {
                                    "prod_id": "45",
                                    "prod_name": "The Smash"
                                },
                                {
                                    "prod_id": "20",
                                    "prod_name": "Habit"
                                },
                                {
                                    "prod_id": "24",
                                    "prod_name": "Rail"
                                },
                                {
                                    "prod_id": "34",
                                    "prod_name": "Altitude"
                                },
                                {
                                    "prod_id": "29",
                                    "prod_name": "Primer"
                                }
                            ]
                        },
                        "text/html": [
                            "<table>",
                            "<tr><th>prod_id</th><th>prod_name</th></tr>",
                            "<tr><td>9</td><td>Tallboy</td></tr>",
                            "<tr><td>68</td><td>Occam</td></tr>",
                            "<tr><td>43</td><td>Troy</td></tr>",
                            "<tr><td>37</td><td>DV9</td></tr>",
                            "<tr><td>26</td><td>Process 153</td></tr>",
                            "<tr><td>69</td><td>Occam</td></tr>",
                            "<tr><td>27</td><td>Hei Hei</td></tr>",
                            "<tr><td>38</td><td>Ripmo</td></tr>",
                            "<tr><td>54</td><td>G-Series</td></tr>",
                            "<tr><td>13</td><td>SB140</td></tr>",
                            "<tr><td>52</td><td>Snabb</td></tr>",
                            "<tr><td>51</td><td>Define</td></tr>",
                            "<tr><td>67</td><td>OIZ</td></tr>",
                            "<tr><td>47</td><td>Megatrail</td></tr>",
                            "<tr><td>50</td><td>Stereo</td></tr>",
                            "<tr><td>55</td><td>T-Series</td></tr>",
                            "<tr><td>28</td><td>Sniper</td></tr>",
                            "<tr><td>30</td><td>Tracer</td></tr>",
                            "<tr><td>5</td><td>Sensor</td></tr>",
                            "<tr><td>65</td><td>Rip9</td></tr>",
                            "<tr><td>22</td><td>Wreckoning</td></tr>",
                            "<tr><td>57</td><td>Scout</td></tr>",
                            "<tr><td>42</td><td>Onset</td></tr>",
                            "<tr><td>41</td><td>Haste</td></tr>",
                            "<tr><td>15</td><td>SB160</td></tr>",
                            "<tr><td>36</td><td>Thunderbolt</td></tr>",
                            "<tr><td>35</td><td>Instinct</td></tr>",
                            "<tr><td>10</td><td>SB100</td></tr>",
                            "<tr><td>40</td><td>Ripley</td></tr>",
                            "<tr><td>49</td><td>AMD</td></tr>",
                            "<tr><td>25</td><td>Process 134</td></tr>",
                            "<tr><td>58</td><td>Reactor</td></tr>",
                            "<tr><td>2</td><td>Trance</td></tr>",
                            "<tr><td>59</td><td>Meta Am</td></tr>",
                            "<tr><td>3</td><td>X Trance</td></tr>",
                            "<tr><td>60</td><td>Clash</td></tr>",
                            "<tr><td>53</td><td>E-Series</td></tr>",
                            "<tr><td>23</td><td>Insurgent</td></tr>",
                            "<tr><td>16</td><td>Enduro</td></tr>",
                            "<tr><td>31</td><td>Sight</td></tr>",
                            "<tr><td>6</td><td>Chameleon</td></tr>",
                            "<tr><td>14</td><td>SB150</td></tr>",
                            "<tr><td>61</td><td>Foxy</td></tr>",
                            "<tr><td>56</td><td>Mega</td></tr>",
                            "<tr><td>63</td><td>Air9</td></tr>",
                            "<tr><td>46</td><td>Trail Pistol</td></tr>",
                            "<tr><td>1</td><td>Firebird</td></tr>",
                            "<tr><td>8</td><td>Megatower</td></tr>",
                            "<tr><td>39</td><td>Mojo</td></tr>",
                            "<tr><td>17</td><td>Stumpjumper</td></tr>",
                            "<tr><td>18</td><td>Scalpel</td></tr>",
                            "<tr><td>12</td><td>SB130</td></tr>",
                            "<tr><td>66</td><td>Jet9</td></tr>",
                            "<tr><td>11</td><td>SB115</td></tr>",
                            "<tr><td>32</td><td>Optic</td></tr>",
                            "<tr><td>7</td><td>Hightower</td></tr>",
                            "<tr><td>62</td><td>SuperFoxy</td></tr>",
                            "<tr><td>21</td><td>Following</td></tr>",
                            "<tr><td>44</td><td>Gnarvana</td></tr>",
                            "<tr><td>64</td><td>RKT9</td></tr>",
                            "<tr><td>48</td><td>Shredd Dog</td></tr>",
                            "<tr><td>19</td><td>Jekyll</td></tr>",
                            "<tr><td>33</td><td>Element</td></tr>",
                            "<tr><td>4</td><td>Force</td></tr>",
                            "<tr><td>45</td><td>The Smash</td></tr>",
                            "<tr><td>20</td><td>Habit</td></tr>",
                            "<tr><td>24</td><td>Rail</td></tr>",
                            "<tr><td>34</td><td>Altitude</td></tr>",
                            "<tr><td>29</td><td>Primer</td></tr>",
                            "</table>"
                        ]
                    }
                }
            ],
            "execution_count": 22
        },
        {
            "cell_type": "code",
            "source": [
                "UPDATE dsci_504.components\r\n",
                "SET comp_name = 'No shock'\r\n",
                "WHERE comp_name IS NULL;\r\n",
                ""
            ],
            "metadata": {
                "language": "sql",
                "azdata_cell_guid": "53a33fc3-b7a2-4b69-83bb-7fc29978125a"
            },
            "outputs": [
                {
                    "output_type": "display_data",
                    "data": {
                        "text/html": "UPDATE 0"
                    },
                    "metadata": {}
                },
                {
                    "output_type": "display_data",
                    "data": {
                        "text/html": "Total execution time: 00:00:00.006"
                    },
                    "metadata": {}
                }
            ],
            "execution_count": 30
        },
        {
            "cell_type": "code",
            "source": [
                "SELECT \r\n",
                "    comp_id, \r\n",
                "    COALESCE(comp_name, 'No shock') AS comp_name\r\n",
                "FROM \r\n",
                "    dsci_504.components\r\n",
                "LIMIT 100;"
            ],
            "metadata": {
                "language": "sql",
                "azdata_cell_guid": "f52950f2-047e-4427-828a-7ec5601da5e6"
            },
            "outputs": [
                {
                    "output_type": "display_data",
                    "data": {
                        "text/html": "(100 row(s) affected)"
                    },
                    "metadata": {}
                },
                {
                    "output_type": "display_data",
                    "data": {
                        "text/html": "Total execution time: 00:00:00.005"
                    },
                    "metadata": {}
                },
                {
                    "output_type": "execute_result",
                    "metadata": {},
                    "execution_count": 39,
                    "data": {
                        "application/vnd.dataresource+json": {
                            "schema": {
                                "fields": [
                                    {
                                        "name": "comp_id"
                                    },
                                    {
                                        "name": "comp_name"
                                    }
                                ]
                            },
                            "data": [
                                {
                                    "comp_id": "1",
                                    "comp_name": "Giant Contact SLR"
                                },
                                {
                                    "comp_id": "2",
                                    "comp_name": "Rida Alpha R27"
                                },
                                {
                                    "comp_id": "3",
                                    "comp_name": "Niner Flat Top"
                                },
                                {
                                    "comp_id": "4",
                                    "comp_name": "Enve M7 Carb"
                                },
                                {
                                    "comp_id": "5",
                                    "comp_name": "e13 base"
                                },
                                {
                                    "comp_id": "6",
                                    "comp_name": "RaceFace NextR Carbon"
                                },
                                {
                                    "comp_id": "7",
                                    "comp_name": "OC1"
                                },
                                {
                                    "comp_id": "46",
                                    "comp_name": "Shimano Deore M6100 2"
                                },
                                {
                                    "comp_id": "47",
                                    "comp_name": "Sram Guide RE"
                                },
                                {
                                    "comp_id": "49",
                                    "comp_name": "Magura MT7"
                                },
                                {
                                    "comp_id": "50",
                                    "comp_name": "TRP Gspec Trail S"
                                },
                                {
                                    "comp_id": "51",
                                    "comp_name": "Sram Code R"
                                },
                                {
                                    "comp_id": "52",
                                    "comp_name": "Shimano M6120"
                                },
                                {
                                    "comp_id": "53",
                                    "comp_name": "Tektro HDM 735"
                                },
                                {
                                    "comp_id": "54",
                                    "comp_name": "Shimano MT500"
                                },
                                {
                                    "comp_id": "55",
                                    "comp_name": "Sram G2 ULT"
                                },
                                {
                                    "comp_id": "56",
                                    "comp_name": "Sram Code RSC"
                                },
                                {
                                    "comp_id": "57",
                                    "comp_name": "Sram G2 RSC"
                                },
                                {
                                    "comp_id": "58",
                                    "comp_name": "Shimano Deore M6120 4"
                                },
                                {
                                    "comp_id": "59",
                                    "comp_name": "Shimano SLX M7100"
                                },
                                {
                                    "comp_id": "60",
                                    "comp_name": "Sram Code RS"
                                },
                                {
                                    "comp_id": "61",
                                    "comp_name": "Shimano XT M8100"
                                },
                                {
                                    "comp_id": "62",
                                    "comp_name": "Sram Guide T"
                                },
                                {
                                    "comp_id": "64",
                                    "comp_name": "Sram Level"
                                },
                                {
                                    "comp_id": "65",
                                    "comp_name": "Sram Guide R"
                                },
                                {
                                    "comp_id": "66",
                                    "comp_name": "Shimano XTR Trail"
                                },
                                {
                                    "comp_id": "67",
                                    "comp_name": "Shimano XT M8120"
                                },
                                {
                                    "comp_id": "68",
                                    "comp_name": "Sram G2 R"
                                },
                                {
                                    "comp_id": "69",
                                    "comp_name": "Shimnano Deore M6100 4"
                                },
                                {
                                    "comp_id": "70",
                                    "comp_name": "Whyte 30mm Carbon"
                                },
                                {
                                    "comp_id": "71",
                                    "comp_name": "Stand NoTubes MK3"
                                },
                                {
                                    "comp_id": "73",
                                    "comp_name": "Octane One Solar"
                                },
                                {
                                    "comp_id": "74",
                                    "comp_name": "Giant TRX-2"
                                },
                                {
                                    "comp_id": "76",
                                    "comp_name": "Stans Flow MK3"
                                },
                                {
                                    "comp_id": "77",
                                    "comp_name": "DT Swiss M1700"
                                },
                                {
                                    "comp_id": "78",
                                    "comp_name": "DT Swiss XR-1650"
                                },
                                {
                                    "comp_id": "79",
                                    "comp_name": "DT Swiss EX1900"
                                },
                                {
                                    "comp_id": "80",
                                    "comp_name": "Crankbrothers Synth EN"
                                },
                                {
                                    "comp_id": "81",
                                    "comp_name": "WTB ST i29"
                                },
                                {
                                    "comp_id": "82",
                                    "comp_name": "E13 LG1 EN Race"
                                },
                                {
                                    "comp_id": "83",
                                    "comp_name": "E13 XCX XC"
                                },
                                {
                                    "comp_id": "84",
                                    "comp_name": "i9 Hydra Enduro S"
                                },
                                {
                                    "comp_id": "85",
                                    "comp_name": "i9 Enduro 305"
                                },
                                {
                                    "comp_id": "86",
                                    "comp_name": "Ibis S35 AL"
                                },
                                {
                                    "comp_id": "87",
                                    "comp_name": "NS Enigma Roll"
                                },
                                {
                                    "comp_id": "88",
                                    "comp_name": "DT Swixx Custom EX1700"
                                },
                                {
                                    "comp_id": "89",
                                    "comp_name": "Stans Floiw S1"
                                },
                                {
                                    "comp_id": "90",
                                    "comp_name": "DT Swiss XMC1200"
                                },
                                {
                                    "comp_id": "91",
                                    "comp_name": "DT Swiss Custom EX-1700"
                                },
                                {
                                    "comp_id": "92",
                                    "comp_name": "DT Swiss M-1900"
                                },
                                {
                                    "comp_id": "93",
                                    "comp_name": "Roval Traverse Alloy"
                                },
                                {
                                    "comp_id": "94",
                                    "comp_name": "E13 LG1 DH Base"
                                },
                                {
                                    "comp_id": "95",
                                    "comp_name": "Niner Alloy"
                                },
                                {
                                    "comp_id": "96",
                                    "comp_name": "WTB ST Light i30"
                                },
                                {
                                    "comp_id": "97",
                                    "comp_name": "E13 LG1"
                                },
                                {
                                    "comp_id": "98",
                                    "comp_name": "WTB KOM Trail i30"
                                },
                                {
                                    "comp_id": "99",
                                    "comp_name": "i9 RW30"
                                },
                                {
                                    "comp_id": "100",
                                    "comp_name": "WTB ST i30"
                                },
                                {
                                    "comp_id": "101",
                                    "comp_name": "WTB KOM Light i30"
                                },
                                {
                                    "comp_id": "102",
                                    "comp_name": "WTM KOM i27"
                                },
                                {
                                    "comp_id": "103",
                                    "comp_name": "RaceFace AR Offset 30"
                                },
                                {
                                    "comp_id": "104",
                                    "comp_name": "Stand Arch MK3"
                                },
                                {
                                    "comp_id": "105",
                                    "comp_name": "Giant AM"
                                },
                                {
                                    "comp_id": "106",
                                    "comp_name": "DT Swiss XT1501"
                                },
                                {
                                    "comp_id": "107",
                                    "comp_name": "DT Swiss XR1700"
                                },
                                {
                                    "comp_id": "108",
                                    "comp_name": "WTB ST i25"
                                },
                                {
                                    "comp_id": "109",
                                    "comp_name": "Stans Crest S1"
                                },
                                {
                                    "comp_id": "110",
                                    "comp_name": "DT Swiss EX-511"
                                },
                                {
                                    "comp_id": "111",
                                    "comp_name": "MDK DP1"
                                },
                                {
                                    "comp_id": "112",
                                    "comp_name": "Sun Ringle Duroc 35"
                                },
                                {
                                    "comp_id": "113",
                                    "comp_name": "Fox 34 Rhythm 120"
                                },
                                {
                                    "comp_id": "114",
                                    "comp_name": "Fox 38 Factory Grip 2 180 Air"
                                },
                                {
                                    "comp_id": "115",
                                    "comp_name": "DVO Onyx D1 160"
                                },
                                {
                                    "comp_id": "116",
                                    "comp_name": "Fox 36 Rhythm Fit 3 150"
                                },
                                {
                                    "comp_id": "117",
                                    "comp_name": "RockShox Recon RL 120"
                                },
                                {
                                    "comp_id": "27",
                                    "comp_name": "RaceFace Ride"
                                },
                                {
                                    "comp_id": "48",
                                    "comp_name": "Sram G2 RS"
                                },
                                {
                                    "comp_id": "145",
                                    "comp_name": "RockShox Pike Ult RC 130 Air"
                                },
                                {
                                    "comp_id": "146",
                                    "comp_name": "Fox 36 Perf Elite 150 Air"
                                },
                                {
                                    "comp_id": "147",
                                    "comp_name": "Fox 34 Perf 130 Air"
                                },
                                {
                                    "comp_id": "148",
                                    "comp_name": "Fox 36 Perf Elite 180 Air"
                                },
                                {
                                    "comp_id": "149",
                                    "comp_name": "RockShox Lyric Ult RC2 170"
                                },
                                {
                                    "comp_id": "150",
                                    "comp_name": "Fox 34 Float Factory Grip 2 140"
                                },
                                {
                                    "comp_id": "151",
                                    "comp_name": "RockShox 35 Gold RL 150 Air"
                                },
                                {
                                    "comp_id": "152",
                                    "comp_name": "RockShox Pike Sel+ 140 Air"
                                },
                                {
                                    "comp_id": "153",
                                    "comp_name": "Fox 34 Float Perf 140"
                                },
                                {
                                    "comp_id": "154",
                                    "comp_name": "RockShox YarRC 180 Air"
                                },
                                {
                                    "comp_id": "155",
                                    "comp_name": "Fox 36 Float Factory 160 Air"
                                },
                                {
                                    "comp_id": "156",
                                    "comp_name": "RockShox ZEB Ult 170 Air"
                                },
                                {
                                    "comp_id": "157",
                                    "comp_name": "RockShox Pike Ult 150 Air"
                                },
                                {
                                    "comp_id": "158",
                                    "comp_name": "Fox 36 Perf 1650 Air"
                                },
                                {
                                    "comp_id": "159",
                                    "comp_name": "Marzocchi Bomber Z2 Rail 120 Air"
                                },
                                {
                                    "comp_id": "160",
                                    "comp_name": "Fox 36 Rhythm 160 Air"
                                },
                                {
                                    "comp_id": "161",
                                    "comp_name": "RockShox 35 Gold RL 160 Air"
                                },
                                {
                                    "comp_id": "162",
                                    "comp_name": "Fox 34 Float Perf 140 Air"
                                },
                                {
                                    "comp_id": "163",
                                    "comp_name": "Fox 36 Float Factory 170 Air"
                                },
                                {
                                    "comp_id": "164",
                                    "comp_name": "Fox 34 Float Factory Grip 2 120"
                                },
                                {
                                    "comp_id": "165",
                                    "comp_name": "Fox 36 Perf Elite 140 Air"
                                },
                                {
                                    "comp_id": "166",
                                    "comp_name": "Fox 36 Perf Elite 160 Air"
                                },
                                {
                                    "comp_id": "167",
                                    "comp_name": "RockShox Lyric Sel 150 Air"
                                }
                            ]
                        },
                        "text/html": [
                            "<table>",
                            "<tr><th>comp_id</th><th>comp_name</th></tr>",
                            "<tr><td>1</td><td>Giant Contact SLR</td></tr>",
                            "<tr><td>2</td><td>Rida Alpha R27</td></tr>",
                            "<tr><td>3</td><td>Niner Flat Top</td></tr>",
                            "<tr><td>4</td><td>Enve M7 Carb</td></tr>",
                            "<tr><td>5</td><td>e13 base</td></tr>",
                            "<tr><td>6</td><td>RaceFace NextR Carbon</td></tr>",
                            "<tr><td>7</td><td>OC1</td></tr>",
                            "<tr><td>46</td><td>Shimano Deore M6100 2</td></tr>",
                            "<tr><td>47</td><td>Sram Guide RE</td></tr>",
                            "<tr><td>49</td><td>Magura MT7</td></tr>",
                            "<tr><td>50</td><td>TRP Gspec Trail S</td></tr>",
                            "<tr><td>51</td><td>Sram Code R</td></tr>",
                            "<tr><td>52</td><td>Shimano M6120</td></tr>",
                            "<tr><td>53</td><td>Tektro HDM 735</td></tr>",
                            "<tr><td>54</td><td>Shimano MT500</td></tr>",
                            "<tr><td>55</td><td>Sram G2 ULT</td></tr>",
                            "<tr><td>56</td><td>Sram Code RSC</td></tr>",
                            "<tr><td>57</td><td>Sram G2 RSC</td></tr>",
                            "<tr><td>58</td><td>Shimano Deore M6120 4</td></tr>",
                            "<tr><td>59</td><td>Shimano SLX M7100</td></tr>",
                            "<tr><td>60</td><td>Sram Code RS</td></tr>",
                            "<tr><td>61</td><td>Shimano XT M8100</td></tr>",
                            "<tr><td>62</td><td>Sram Guide T</td></tr>",
                            "<tr><td>64</td><td>Sram Level</td></tr>",
                            "<tr><td>65</td><td>Sram Guide R</td></tr>",
                            "<tr><td>66</td><td>Shimano XTR Trail</td></tr>",
                            "<tr><td>67</td><td>Shimano XT M8120</td></tr>",
                            "<tr><td>68</td><td>Sram G2 R</td></tr>",
                            "<tr><td>69</td><td>Shimnano Deore M6100 4</td></tr>",
                            "<tr><td>70</td><td>Whyte 30mm Carbon</td></tr>",
                            "<tr><td>71</td><td>Stand NoTubes MK3</td></tr>",
                            "<tr><td>73</td><td>Octane One Solar</td></tr>",
                            "<tr><td>74</td><td>Giant TRX-2</td></tr>",
                            "<tr><td>76</td><td>Stans Flow MK3</td></tr>",
                            "<tr><td>77</td><td>DT Swiss M1700</td></tr>",
                            "<tr><td>78</td><td>DT Swiss XR-1650</td></tr>",
                            "<tr><td>79</td><td>DT Swiss EX1900</td></tr>",
                            "<tr><td>80</td><td>Crankbrothers Synth EN</td></tr>",
                            "<tr><td>81</td><td>WTB ST i29</td></tr>",
                            "<tr><td>82</td><td>E13 LG1 EN Race</td></tr>",
                            "<tr><td>83</td><td>E13 XCX XC</td></tr>",
                            "<tr><td>84</td><td>i9 Hydra Enduro S</td></tr>",
                            "<tr><td>85</td><td>i9 Enduro 305</td></tr>",
                            "<tr><td>86</td><td>Ibis S35 AL</td></tr>",
                            "<tr><td>87</td><td>NS Enigma Roll</td></tr>",
                            "<tr><td>88</td><td>DT Swixx Custom EX1700</td></tr>",
                            "<tr><td>89</td><td>Stans Floiw S1</td></tr>",
                            "<tr><td>90</td><td>DT Swiss XMC1200</td></tr>",
                            "<tr><td>91</td><td>DT Swiss Custom EX-1700</td></tr>",
                            "<tr><td>92</td><td>DT Swiss M-1900</td></tr>",
                            "<tr><td>93</td><td>Roval Traverse Alloy</td></tr>",
                            "<tr><td>94</td><td>E13 LG1 DH Base</td></tr>",
                            "<tr><td>95</td><td>Niner Alloy</td></tr>",
                            "<tr><td>96</td><td>WTB ST Light i30</td></tr>",
                            "<tr><td>97</td><td>E13 LG1</td></tr>",
                            "<tr><td>98</td><td>WTB KOM Trail i30</td></tr>",
                            "<tr><td>99</td><td>i9 RW30</td></tr>",
                            "<tr><td>100</td><td>WTB ST i30</td></tr>",
                            "<tr><td>101</td><td>WTB KOM Light i30</td></tr>",
                            "<tr><td>102</td><td>WTM KOM i27</td></tr>",
                            "<tr><td>103</td><td>RaceFace AR Offset 30</td></tr>",
                            "<tr><td>104</td><td>Stand Arch MK3</td></tr>",
                            "<tr><td>105</td><td>Giant AM</td></tr>",
                            "<tr><td>106</td><td>DT Swiss XT1501</td></tr>",
                            "<tr><td>107</td><td>DT Swiss XR1700</td></tr>",
                            "<tr><td>108</td><td>WTB ST i25</td></tr>",
                            "<tr><td>109</td><td>Stans Crest S1</td></tr>",
                            "<tr><td>110</td><td>DT Swiss EX-511</td></tr>",
                            "<tr><td>111</td><td>MDK DP1</td></tr>",
                            "<tr><td>112</td><td>Sun Ringle Duroc 35</td></tr>",
                            "<tr><td>113</td><td>Fox 34 Rhythm 120</td></tr>",
                            "<tr><td>114</td><td>Fox 38 Factory Grip 2 180 Air</td></tr>",
                            "<tr><td>115</td><td>DVO Onyx D1 160</td></tr>",
                            "<tr><td>116</td><td>Fox 36 Rhythm Fit 3 150</td></tr>",
                            "<tr><td>117</td><td>RockShox Recon RL 120</td></tr>",
                            "<tr><td>27</td><td>RaceFace Ride</td></tr>",
                            "<tr><td>48</td><td>Sram G2 RS</td></tr>",
                            "<tr><td>145</td><td>RockShox Pike Ult RC 130 Air</td></tr>",
                            "<tr><td>146</td><td>Fox 36 Perf Elite 150 Air</td></tr>",
                            "<tr><td>147</td><td>Fox 34 Perf 130 Air</td></tr>",
                            "<tr><td>148</td><td>Fox 36 Perf Elite 180 Air</td></tr>",
                            "<tr><td>149</td><td>RockShox Lyric Ult RC2 170</td></tr>",
                            "<tr><td>150</td><td>Fox 34 Float Factory Grip 2 140</td></tr>",
                            "<tr><td>151</td><td>RockShox 35 Gold RL 150 Air</td></tr>",
                            "<tr><td>152</td><td>RockShox Pike Sel+ 140 Air</td></tr>",
                            "<tr><td>153</td><td>Fox 34 Float Perf 140</td></tr>",
                            "<tr><td>154</td><td>RockShox YarRC 180 Air</td></tr>",
                            "<tr><td>155</td><td>Fox 36 Float Factory 160 Air</td></tr>",
                            "<tr><td>156</td><td>RockShox ZEB Ult 170 Air</td></tr>",
                            "<tr><td>157</td><td>RockShox Pike Ult 150 Air</td></tr>",
                            "<tr><td>158</td><td>Fox 36 Perf 1650 Air</td></tr>",
                            "<tr><td>159</td><td>Marzocchi Bomber Z2 Rail 120 Air</td></tr>",
                            "<tr><td>160</td><td>Fox 36 Rhythm 160 Air</td></tr>",
                            "<tr><td>161</td><td>RockShox 35 Gold RL 160 Air</td></tr>",
                            "<tr><td>162</td><td>Fox 34 Float Perf 140 Air</td></tr>",
                            "<tr><td>163</td><td>Fox 36 Float Factory 170 Air</td></tr>",
                            "<tr><td>164</td><td>Fox 34 Float Factory Grip 2 120</td></tr>",
                            "<tr><td>165</td><td>Fox 36 Perf Elite 140 Air</td></tr>",
                            "<tr><td>166</td><td>Fox 36 Perf Elite 160 Air</td></tr>",
                            "<tr><td>167</td><td>RockShox Lyric Sel 150 Air</td></tr>",
                            "</table>"
                        ]
                    }
                }
            ],
            "execution_count": 39
        },
        {
            "cell_type": "code",
            "source": [
                "SELECT \r\n",
                "    comp_id, \r\n",
                "    COALESCE(comp_name, 'No shock') AS comp_name\r\n",
                "FROM \r\n",
                "    components\r\n",
                "LIMIT 100;"
            ],
            "metadata": {
                "language": "sql",
                "azdata_cell_guid": "1215e6a8-7b2e-4905-bfd2-cc90034bdbc9"
            },
            "outputs": [
                {
                    "output_type": "error",
                    "evalue": "column \"comp_name\" does not exist",
                    "ename": "",
                    "traceback": []
                },
                {
                    "output_type": "display_data",
                    "data": {
                        "text/html": "Total execution time: 00:00:00.002"
                    },
                    "metadata": {}
                }
            ],
            "execution_count": 41
        },
        {
            "cell_type": "code",
            "source": [
                "SELECT \r\n",
                "    prod_id, \r\n",
                "    prod_name\r\n",
                "FROM \r\n",
                "    dsci_504.products\r\n",
                "LIMIT 100;\r\n",
                ""
            ],
            "metadata": {
                "language": "sql",
                "azdata_cell_guid": "d19b7751-af2d-4518-8bdd-0d9a0ad22847"
            },
            "outputs": [
                {
                    "output_type": "display_data",
                    "data": {
                        "text/html": "(69 row(s) affected)"
                    },
                    "metadata": {}
                },
                {
                    "output_type": "display_data",
                    "data": {
                        "text/html": "Total execution time: 00:00:00.005"
                    },
                    "metadata": {}
                },
                {
                    "output_type": "execute_result",
                    "metadata": {},
                    "execution_count": 33,
                    "data": {
                        "application/vnd.dataresource+json": {
                            "schema": {
                                "fields": [
                                    {
                                        "name": "prod_id"
                                    },
                                    {
                                        "name": "prod_name"
                                    }
                                ]
                            },
                            "data": [
                                {
                                    "prod_id": "9",
                                    "prod_name": "Tallboy"
                                },
                                {
                                    "prod_id": "68",
                                    "prod_name": "Occam"
                                },
                                {
                                    "prod_id": "43",
                                    "prod_name": "Troy"
                                },
                                {
                                    "prod_id": "37",
                                    "prod_name": "DV9"
                                },
                                {
                                    "prod_id": "26",
                                    "prod_name": "Process 153"
                                },
                                {
                                    "prod_id": "69",
                                    "prod_name": "Occam"
                                },
                                {
                                    "prod_id": "27",
                                    "prod_name": "Hei Hei"
                                },
                                {
                                    "prod_id": "38",
                                    "prod_name": "Ripmo"
                                },
                                {
                                    "prod_id": "54",
                                    "prod_name": "G-Series"
                                },
                                {
                                    "prod_id": "13",
                                    "prod_name": "SB140"
                                },
                                {
                                    "prod_id": "52",
                                    "prod_name": "Snabb"
                                },
                                {
                                    "prod_id": "51",
                                    "prod_name": "Define"
                                },
                                {
                                    "prod_id": "67",
                                    "prod_name": "OIZ"
                                },
                                {
                                    "prod_id": "47",
                                    "prod_name": "Megatrail"
                                },
                                {
                                    "prod_id": "50",
                                    "prod_name": "Stereo"
                                },
                                {
                                    "prod_id": "55",
                                    "prod_name": "T-Series"
                                },
                                {
                                    "prod_id": "28",
                                    "prod_name": "Sniper"
                                },
                                {
                                    "prod_id": "30",
                                    "prod_name": "Tracer"
                                },
                                {
                                    "prod_id": "5",
                                    "prod_name": "Sensor"
                                },
                                {
                                    "prod_id": "65",
                                    "prod_name": "Rip9"
                                },
                                {
                                    "prod_id": "22",
                                    "prod_name": "Wreckoning"
                                },
                                {
                                    "prod_id": "57",
                                    "prod_name": "Scout"
                                },
                                {
                                    "prod_id": "42",
                                    "prod_name": "Onset"
                                },
                                {
                                    "prod_id": "41",
                                    "prod_name": "Haste"
                                },
                                {
                                    "prod_id": "15",
                                    "prod_name": "SB160"
                                },
                                {
                                    "prod_id": "36",
                                    "prod_name": "Thunderbolt"
                                },
                                {
                                    "prod_id": "35",
                                    "prod_name": "Instinct"
                                },
                                {
                                    "prod_id": "10",
                                    "prod_name": "SB100"
                                },
                                {
                                    "prod_id": "40",
                                    "prod_name": "Ripley"
                                },
                                {
                                    "prod_id": "49",
                                    "prod_name": "AMD"
                                },
                                {
                                    "prod_id": "25",
                                    "prod_name": "Process 134"
                                },
                                {
                                    "prod_id": "58",
                                    "prod_name": "Reactor"
                                },
                                {
                                    "prod_id": "2",
                                    "prod_name": "Trance"
                                },
                                {
                                    "prod_id": "59",
                                    "prod_name": "Meta Am"
                                },
                                {
                                    "prod_id": "3",
                                    "prod_name": "X Trance"
                                },
                                {
                                    "prod_id": "60",
                                    "prod_name": "Clash"
                                },
                                {
                                    "prod_id": "53",
                                    "prod_name": "E-Series"
                                },
                                {
                                    "prod_id": "23",
                                    "prod_name": "Insurgent"
                                },
                                {
                                    "prod_id": "16",
                                    "prod_name": "Enduro"
                                },
                                {
                                    "prod_id": "31",
                                    "prod_name": "Sight"
                                },
                                {
                                    "prod_id": "6",
                                    "prod_name": "Chameleon"
                                },
                                {
                                    "prod_id": "14",
                                    "prod_name": "SB150"
                                },
                                {
                                    "prod_id": "61",
                                    "prod_name": "Foxy"
                                },
                                {
                                    "prod_id": "56",
                                    "prod_name": "Mega"
                                },
                                {
                                    "prod_id": "63",
                                    "prod_name": "Air9"
                                },
                                {
                                    "prod_id": "46",
                                    "prod_name": "Trail Pistol"
                                },
                                {
                                    "prod_id": "1",
                                    "prod_name": "Firebird"
                                },
                                {
                                    "prod_id": "8",
                                    "prod_name": "Megatower"
                                },
                                {
                                    "prod_id": "39",
                                    "prod_name": "Mojo"
                                },
                                {
                                    "prod_id": "17",
                                    "prod_name": "Stumpjumper"
                                },
                                {
                                    "prod_id": "18",
                                    "prod_name": "Scalpel"
                                },
                                {
                                    "prod_id": "12",
                                    "prod_name": "SB130"
                                },
                                {
                                    "prod_id": "66",
                                    "prod_name": "Jet9"
                                },
                                {
                                    "prod_id": "11",
                                    "prod_name": "SB115"
                                },
                                {
                                    "prod_id": "32",
                                    "prod_name": "Optic"
                                },
                                {
                                    "prod_id": "7",
                                    "prod_name": "Hightower"
                                },
                                {
                                    "prod_id": "62",
                                    "prod_name": "SuperFoxy"
                                },
                                {
                                    "prod_id": "21",
                                    "prod_name": "Following"
                                },
                                {
                                    "prod_id": "44",
                                    "prod_name": "Gnarvana"
                                },
                                {
                                    "prod_id": "64",
                                    "prod_name": "RKT9"
                                },
                                {
                                    "prod_id": "48",
                                    "prod_name": "Shredd Dog"
                                },
                                {
                                    "prod_id": "19",
                                    "prod_name": "Jekyll"
                                },
                                {
                                    "prod_id": "33",
                                    "prod_name": "Element"
                                },
                                {
                                    "prod_id": "4",
                                    "prod_name": "Force"
                                },
                                {
                                    "prod_id": "45",
                                    "prod_name": "The Smash"
                                },
                                {
                                    "prod_id": "20",
                                    "prod_name": "Habit"
                                },
                                {
                                    "prod_id": "24",
                                    "prod_name": "Rail"
                                },
                                {
                                    "prod_id": "34",
                                    "prod_name": "Altitude"
                                },
                                {
                                    "prod_id": "29",
                                    "prod_name": "Primer"
                                }
                            ]
                        },
                        "text/html": [
                            "<table>",
                            "<tr><th>prod_id</th><th>prod_name</th></tr>",
                            "<tr><td>9</td><td>Tallboy</td></tr>",
                            "<tr><td>68</td><td>Occam</td></tr>",
                            "<tr><td>43</td><td>Troy</td></tr>",
                            "<tr><td>37</td><td>DV9</td></tr>",
                            "<tr><td>26</td><td>Process 153</td></tr>",
                            "<tr><td>69</td><td>Occam</td></tr>",
                            "<tr><td>27</td><td>Hei Hei</td></tr>",
                            "<tr><td>38</td><td>Ripmo</td></tr>",
                            "<tr><td>54</td><td>G-Series</td></tr>",
                            "<tr><td>13</td><td>SB140</td></tr>",
                            "<tr><td>52</td><td>Snabb</td></tr>",
                            "<tr><td>51</td><td>Define</td></tr>",
                            "<tr><td>67</td><td>OIZ</td></tr>",
                            "<tr><td>47</td><td>Megatrail</td></tr>",
                            "<tr><td>50</td><td>Stereo</td></tr>",
                            "<tr><td>55</td><td>T-Series</td></tr>",
                            "<tr><td>28</td><td>Sniper</td></tr>",
                            "<tr><td>30</td><td>Tracer</td></tr>",
                            "<tr><td>5</td><td>Sensor</td></tr>",
                            "<tr><td>65</td><td>Rip9</td></tr>",
                            "<tr><td>22</td><td>Wreckoning</td></tr>",
                            "<tr><td>57</td><td>Scout</td></tr>",
                            "<tr><td>42</td><td>Onset</td></tr>",
                            "<tr><td>41</td><td>Haste</td></tr>",
                            "<tr><td>15</td><td>SB160</td></tr>",
                            "<tr><td>36</td><td>Thunderbolt</td></tr>",
                            "<tr><td>35</td><td>Instinct</td></tr>",
                            "<tr><td>10</td><td>SB100</td></tr>",
                            "<tr><td>40</td><td>Ripley</td></tr>",
                            "<tr><td>49</td><td>AMD</td></tr>",
                            "<tr><td>25</td><td>Process 134</td></tr>",
                            "<tr><td>58</td><td>Reactor</td></tr>",
                            "<tr><td>2</td><td>Trance</td></tr>",
                            "<tr><td>59</td><td>Meta Am</td></tr>",
                            "<tr><td>3</td><td>X Trance</td></tr>",
                            "<tr><td>60</td><td>Clash</td></tr>",
                            "<tr><td>53</td><td>E-Series</td></tr>",
                            "<tr><td>23</td><td>Insurgent</td></tr>",
                            "<tr><td>16</td><td>Enduro</td></tr>",
                            "<tr><td>31</td><td>Sight</td></tr>",
                            "<tr><td>6</td><td>Chameleon</td></tr>",
                            "<tr><td>14</td><td>SB150</td></tr>",
                            "<tr><td>61</td><td>Foxy</td></tr>",
                            "<tr><td>56</td><td>Mega</td></tr>",
                            "<tr><td>63</td><td>Air9</td></tr>",
                            "<tr><td>46</td><td>Trail Pistol</td></tr>",
                            "<tr><td>1</td><td>Firebird</td></tr>",
                            "<tr><td>8</td><td>Megatower</td></tr>",
                            "<tr><td>39</td><td>Mojo</td></tr>",
                            "<tr><td>17</td><td>Stumpjumper</td></tr>",
                            "<tr><td>18</td><td>Scalpel</td></tr>",
                            "<tr><td>12</td><td>SB130</td></tr>",
                            "<tr><td>66</td><td>Jet9</td></tr>",
                            "<tr><td>11</td><td>SB115</td></tr>",
                            "<tr><td>32</td><td>Optic</td></tr>",
                            "<tr><td>7</td><td>Hightower</td></tr>",
                            "<tr><td>62</td><td>SuperFoxy</td></tr>",
                            "<tr><td>21</td><td>Following</td></tr>",
                            "<tr><td>44</td><td>Gnarvana</td></tr>",
                            "<tr><td>64</td><td>RKT9</td></tr>",
                            "<tr><td>48</td><td>Shredd Dog</td></tr>",
                            "<tr><td>19</td><td>Jekyll</td></tr>",
                            "<tr><td>33</td><td>Element</td></tr>",
                            "<tr><td>4</td><td>Force</td></tr>",
                            "<tr><td>45</td><td>The Smash</td></tr>",
                            "<tr><td>20</td><td>Habit</td></tr>",
                            "<tr><td>24</td><td>Rail</td></tr>",
                            "<tr><td>34</td><td>Altitude</td></tr>",
                            "<tr><td>29</td><td>Primer</td></tr>",
                            "</table>"
                        ]
                    }
                }
            ],
            "execution_count": 33
        },
        {
            "cell_type": "code",
            "source": [
                "SELECT \r\n",
                "    comp_id, \r\n",
                "    comp_name\r\n",
                "FROM \r\n",
                "    dsci_504.components\r\n",
                "LIMIT 100;\r\n",
                ""
            ],
            "metadata": {
                "language": "sql",
                "azdata_cell_guid": "c8f63d8c-0f44-4356-a6d6-e493505fb856"
            },
            "outputs": [
                {
                    "output_type": "display_data",
                    "data": {
                        "text/html": "(100 row(s) affected)"
                    },
                    "metadata": {}
                },
                {
                    "output_type": "display_data",
                    "data": {
                        "text/html": "Total execution time: 00:00:00.005"
                    },
                    "metadata": {}
                },
                {
                    "output_type": "execute_result",
                    "metadata": {},
                    "execution_count": 36,
                    "data": {
                        "application/vnd.dataresource+json": {
                            "schema": {
                                "fields": [
                                    {
                                        "name": "comp_id"
                                    },
                                    {
                                        "name": "comp_name"
                                    }
                                ]
                            },
                            "data": [
                                {
                                    "comp_id": "1",
                                    "comp_name": "Giant Contact SLR"
                                },
                                {
                                    "comp_id": "2",
                                    "comp_name": "Rida Alpha R27"
                                },
                                {
                                    "comp_id": "3",
                                    "comp_name": "Niner Flat Top"
                                },
                                {
                                    "comp_id": "4",
                                    "comp_name": "Enve M7 Carb"
                                },
                                {
                                    "comp_id": "5",
                                    "comp_name": "e13 base"
                                },
                                {
                                    "comp_id": "6",
                                    "comp_name": "RaceFace NextR Carbon"
                                },
                                {
                                    "comp_id": "7",
                                    "comp_name": "OC1"
                                },
                                {
                                    "comp_id": "46",
                                    "comp_name": "Shimano Deore M6100 2"
                                },
                                {
                                    "comp_id": "47",
                                    "comp_name": "Sram Guide RE"
                                },
                                {
                                    "comp_id": "49",
                                    "comp_name": "Magura MT7"
                                },
                                {
                                    "comp_id": "50",
                                    "comp_name": "TRP Gspec Trail S"
                                },
                                {
                                    "comp_id": "51",
                                    "comp_name": "Sram Code R"
                                },
                                {
                                    "comp_id": "52",
                                    "comp_name": "Shimano M6120"
                                },
                                {
                                    "comp_id": "53",
                                    "comp_name": "Tektro HDM 735"
                                },
                                {
                                    "comp_id": "54",
                                    "comp_name": "Shimano MT500"
                                },
                                {
                                    "comp_id": "55",
                                    "comp_name": "Sram G2 ULT"
                                },
                                {
                                    "comp_id": "56",
                                    "comp_name": "Sram Code RSC"
                                },
                                {
                                    "comp_id": "57",
                                    "comp_name": "Sram G2 RSC"
                                },
                                {
                                    "comp_id": "58",
                                    "comp_name": "Shimano Deore M6120 4"
                                },
                                {
                                    "comp_id": "59",
                                    "comp_name": "Shimano SLX M7100"
                                },
                                {
                                    "comp_id": "60",
                                    "comp_name": "Sram Code RS"
                                },
                                {
                                    "comp_id": "61",
                                    "comp_name": "Shimano XT M8100"
                                },
                                {
                                    "comp_id": "62",
                                    "comp_name": "Sram Guide T"
                                },
                                {
                                    "comp_id": "64",
                                    "comp_name": "Sram Level"
                                },
                                {
                                    "comp_id": "65",
                                    "comp_name": "Sram Guide R"
                                },
                                {
                                    "comp_id": "66",
                                    "comp_name": "Shimano XTR Trail"
                                },
                                {
                                    "comp_id": "67",
                                    "comp_name": "Shimano XT M8120"
                                },
                                {
                                    "comp_id": "68",
                                    "comp_name": "Sram G2 R"
                                },
                                {
                                    "comp_id": "69",
                                    "comp_name": "Shimnano Deore M6100 4"
                                },
                                {
                                    "comp_id": "70",
                                    "comp_name": "Whyte 30mm Carbon"
                                },
                                {
                                    "comp_id": "71",
                                    "comp_name": "Stand NoTubes MK3"
                                },
                                {
                                    "comp_id": "73",
                                    "comp_name": "Octane One Solar"
                                },
                                {
                                    "comp_id": "74",
                                    "comp_name": "Giant TRX-2"
                                },
                                {
                                    "comp_id": "76",
                                    "comp_name": "Stans Flow MK3"
                                },
                                {
                                    "comp_id": "77",
                                    "comp_name": "DT Swiss M1700"
                                },
                                {
                                    "comp_id": "78",
                                    "comp_name": "DT Swiss XR-1650"
                                },
                                {
                                    "comp_id": "79",
                                    "comp_name": "DT Swiss EX1900"
                                },
                                {
                                    "comp_id": "80",
                                    "comp_name": "Crankbrothers Synth EN"
                                },
                                {
                                    "comp_id": "81",
                                    "comp_name": "WTB ST i29"
                                },
                                {
                                    "comp_id": "82",
                                    "comp_name": "E13 LG1 EN Race"
                                },
                                {
                                    "comp_id": "83",
                                    "comp_name": "E13 XCX XC"
                                },
                                {
                                    "comp_id": "84",
                                    "comp_name": "i9 Hydra Enduro S"
                                },
                                {
                                    "comp_id": "85",
                                    "comp_name": "i9 Enduro 305"
                                },
                                {
                                    "comp_id": "86",
                                    "comp_name": "Ibis S35 AL"
                                },
                                {
                                    "comp_id": "87",
                                    "comp_name": "NS Enigma Roll"
                                },
                                {
                                    "comp_id": "88",
                                    "comp_name": "DT Swixx Custom EX1700"
                                },
                                {
                                    "comp_id": "89",
                                    "comp_name": "Stans Floiw S1"
                                },
                                {
                                    "comp_id": "90",
                                    "comp_name": "DT Swiss XMC1200"
                                },
                                {
                                    "comp_id": "91",
                                    "comp_name": "DT Swiss Custom EX-1700"
                                },
                                {
                                    "comp_id": "92",
                                    "comp_name": "DT Swiss M-1900"
                                },
                                {
                                    "comp_id": "93",
                                    "comp_name": "Roval Traverse Alloy"
                                },
                                {
                                    "comp_id": "94",
                                    "comp_name": "E13 LG1 DH Base"
                                },
                                {
                                    "comp_id": "95",
                                    "comp_name": "Niner Alloy"
                                },
                                {
                                    "comp_id": "96",
                                    "comp_name": "WTB ST Light i30"
                                },
                                {
                                    "comp_id": "97",
                                    "comp_name": "E13 LG1"
                                },
                                {
                                    "comp_id": "98",
                                    "comp_name": "WTB KOM Trail i30"
                                },
                                {
                                    "comp_id": "99",
                                    "comp_name": "i9 RW30"
                                },
                                {
                                    "comp_id": "100",
                                    "comp_name": "WTB ST i30"
                                },
                                {
                                    "comp_id": "101",
                                    "comp_name": "WTB KOM Light i30"
                                },
                                {
                                    "comp_id": "102",
                                    "comp_name": "WTM KOM i27"
                                },
                                {
                                    "comp_id": "103",
                                    "comp_name": "RaceFace AR Offset 30"
                                },
                                {
                                    "comp_id": "104",
                                    "comp_name": "Stand Arch MK3"
                                },
                                {
                                    "comp_id": "105",
                                    "comp_name": "Giant AM"
                                },
                                {
                                    "comp_id": "106",
                                    "comp_name": "DT Swiss XT1501"
                                },
                                {
                                    "comp_id": "107",
                                    "comp_name": "DT Swiss XR1700"
                                },
                                {
                                    "comp_id": "108",
                                    "comp_name": "WTB ST i25"
                                },
                                {
                                    "comp_id": "109",
                                    "comp_name": "Stans Crest S1"
                                },
                                {
                                    "comp_id": "110",
                                    "comp_name": "DT Swiss EX-511"
                                },
                                {
                                    "comp_id": "111",
                                    "comp_name": "MDK DP1"
                                },
                                {
                                    "comp_id": "112",
                                    "comp_name": "Sun Ringle Duroc 35"
                                },
                                {
                                    "comp_id": "113",
                                    "comp_name": "Fox 34 Rhythm 120"
                                },
                                {
                                    "comp_id": "114",
                                    "comp_name": "Fox 38 Factory Grip 2 180 Air"
                                },
                                {
                                    "comp_id": "115",
                                    "comp_name": "DVO Onyx D1 160"
                                },
                                {
                                    "comp_id": "116",
                                    "comp_name": "Fox 36 Rhythm Fit 3 150"
                                },
                                {
                                    "comp_id": "117",
                                    "comp_name": "RockShox Recon RL 120"
                                },
                                {
                                    "comp_id": "27",
                                    "comp_name": "RaceFace Ride"
                                },
                                {
                                    "comp_id": "48",
                                    "comp_name": "Sram G2 RS"
                                },
                                {
                                    "comp_id": "145",
                                    "comp_name": "RockShox Pike Ult RC 130 Air"
                                },
                                {
                                    "comp_id": "146",
                                    "comp_name": "Fox 36 Perf Elite 150 Air"
                                },
                                {
                                    "comp_id": "147",
                                    "comp_name": "Fox 34 Perf 130 Air"
                                },
                                {
                                    "comp_id": "148",
                                    "comp_name": "Fox 36 Perf Elite 180 Air"
                                },
                                {
                                    "comp_id": "149",
                                    "comp_name": "RockShox Lyric Ult RC2 170"
                                },
                                {
                                    "comp_id": "150",
                                    "comp_name": "Fox 34 Float Factory Grip 2 140"
                                },
                                {
                                    "comp_id": "151",
                                    "comp_name": "RockShox 35 Gold RL 150 Air"
                                },
                                {
                                    "comp_id": "152",
                                    "comp_name": "RockShox Pike Sel+ 140 Air"
                                },
                                {
                                    "comp_id": "153",
                                    "comp_name": "Fox 34 Float Perf 140"
                                },
                                {
                                    "comp_id": "154",
                                    "comp_name": "RockShox YarRC 180 Air"
                                },
                                {
                                    "comp_id": "155",
                                    "comp_name": "Fox 36 Float Factory 160 Air"
                                },
                                {
                                    "comp_id": "156",
                                    "comp_name": "RockShox ZEB Ult 170 Air"
                                },
                                {
                                    "comp_id": "157",
                                    "comp_name": "RockShox Pike Ult 150 Air"
                                },
                                {
                                    "comp_id": "158",
                                    "comp_name": "Fox 36 Perf 1650 Air"
                                },
                                {
                                    "comp_id": "159",
                                    "comp_name": "Marzocchi Bomber Z2 Rail 120 Air"
                                },
                                {
                                    "comp_id": "160",
                                    "comp_name": "Fox 36 Rhythm 160 Air"
                                },
                                {
                                    "comp_id": "161",
                                    "comp_name": "RockShox 35 Gold RL 160 Air"
                                },
                                {
                                    "comp_id": "162",
                                    "comp_name": "Fox 34 Float Perf 140 Air"
                                },
                                {
                                    "comp_id": "163",
                                    "comp_name": "Fox 36 Float Factory 170 Air"
                                },
                                {
                                    "comp_id": "164",
                                    "comp_name": "Fox 34 Float Factory Grip 2 120"
                                },
                                {
                                    "comp_id": "165",
                                    "comp_name": "Fox 36 Perf Elite 140 Air"
                                },
                                {
                                    "comp_id": "166",
                                    "comp_name": "Fox 36 Perf Elite 160 Air"
                                },
                                {
                                    "comp_id": "167",
                                    "comp_name": "RockShox Lyric Sel 150 Air"
                                }
                            ]
                        },
                        "text/html": [
                            "<table>",
                            "<tr><th>comp_id</th><th>comp_name</th></tr>",
                            "<tr><td>1</td><td>Giant Contact SLR</td></tr>",
                            "<tr><td>2</td><td>Rida Alpha R27</td></tr>",
                            "<tr><td>3</td><td>Niner Flat Top</td></tr>",
                            "<tr><td>4</td><td>Enve M7 Carb</td></tr>",
                            "<tr><td>5</td><td>e13 base</td></tr>",
                            "<tr><td>6</td><td>RaceFace NextR Carbon</td></tr>",
                            "<tr><td>7</td><td>OC1</td></tr>",
                            "<tr><td>46</td><td>Shimano Deore M6100 2</td></tr>",
                            "<tr><td>47</td><td>Sram Guide RE</td></tr>",
                            "<tr><td>49</td><td>Magura MT7</td></tr>",
                            "<tr><td>50</td><td>TRP Gspec Trail S</td></tr>",
                            "<tr><td>51</td><td>Sram Code R</td></tr>",
                            "<tr><td>52</td><td>Shimano M6120</td></tr>",
                            "<tr><td>53</td><td>Tektro HDM 735</td></tr>",
                            "<tr><td>54</td><td>Shimano MT500</td></tr>",
                            "<tr><td>55</td><td>Sram G2 ULT</td></tr>",
                            "<tr><td>56</td><td>Sram Code RSC</td></tr>",
                            "<tr><td>57</td><td>Sram G2 RSC</td></tr>",
                            "<tr><td>58</td><td>Shimano Deore M6120 4</td></tr>",
                            "<tr><td>59</td><td>Shimano SLX M7100</td></tr>",
                            "<tr><td>60</td><td>Sram Code RS</td></tr>",
                            "<tr><td>61</td><td>Shimano XT M8100</td></tr>",
                            "<tr><td>62</td><td>Sram Guide T</td></tr>",
                            "<tr><td>64</td><td>Sram Level</td></tr>",
                            "<tr><td>65</td><td>Sram Guide R</td></tr>",
                            "<tr><td>66</td><td>Shimano XTR Trail</td></tr>",
                            "<tr><td>67</td><td>Shimano XT M8120</td></tr>",
                            "<tr><td>68</td><td>Sram G2 R</td></tr>",
                            "<tr><td>69</td><td>Shimnano Deore M6100 4</td></tr>",
                            "<tr><td>70</td><td>Whyte 30mm Carbon</td></tr>",
                            "<tr><td>71</td><td>Stand NoTubes MK3</td></tr>",
                            "<tr><td>73</td><td>Octane One Solar</td></tr>",
                            "<tr><td>74</td><td>Giant TRX-2</td></tr>",
                            "<tr><td>76</td><td>Stans Flow MK3</td></tr>",
                            "<tr><td>77</td><td>DT Swiss M1700</td></tr>",
                            "<tr><td>78</td><td>DT Swiss XR-1650</td></tr>",
                            "<tr><td>79</td><td>DT Swiss EX1900</td></tr>",
                            "<tr><td>80</td><td>Crankbrothers Synth EN</td></tr>",
                            "<tr><td>81</td><td>WTB ST i29</td></tr>",
                            "<tr><td>82</td><td>E13 LG1 EN Race</td></tr>",
                            "<tr><td>83</td><td>E13 XCX XC</td></tr>",
                            "<tr><td>84</td><td>i9 Hydra Enduro S</td></tr>",
                            "<tr><td>85</td><td>i9 Enduro 305</td></tr>",
                            "<tr><td>86</td><td>Ibis S35 AL</td></tr>",
                            "<tr><td>87</td><td>NS Enigma Roll</td></tr>",
                            "<tr><td>88</td><td>DT Swixx Custom EX1700</td></tr>",
                            "<tr><td>89</td><td>Stans Floiw S1</td></tr>",
                            "<tr><td>90</td><td>DT Swiss XMC1200</td></tr>",
                            "<tr><td>91</td><td>DT Swiss Custom EX-1700</td></tr>",
                            "<tr><td>92</td><td>DT Swiss M-1900</td></tr>",
                            "<tr><td>93</td><td>Roval Traverse Alloy</td></tr>",
                            "<tr><td>94</td><td>E13 LG1 DH Base</td></tr>",
                            "<tr><td>95</td><td>Niner Alloy</td></tr>",
                            "<tr><td>96</td><td>WTB ST Light i30</td></tr>",
                            "<tr><td>97</td><td>E13 LG1</td></tr>",
                            "<tr><td>98</td><td>WTB KOM Trail i30</td></tr>",
                            "<tr><td>99</td><td>i9 RW30</td></tr>",
                            "<tr><td>100</td><td>WTB ST i30</td></tr>",
                            "<tr><td>101</td><td>WTB KOM Light i30</td></tr>",
                            "<tr><td>102</td><td>WTM KOM i27</td></tr>",
                            "<tr><td>103</td><td>RaceFace AR Offset 30</td></tr>",
                            "<tr><td>104</td><td>Stand Arch MK3</td></tr>",
                            "<tr><td>105</td><td>Giant AM</td></tr>",
                            "<tr><td>106</td><td>DT Swiss XT1501</td></tr>",
                            "<tr><td>107</td><td>DT Swiss XR1700</td></tr>",
                            "<tr><td>108</td><td>WTB ST i25</td></tr>",
                            "<tr><td>109</td><td>Stans Crest S1</td></tr>",
                            "<tr><td>110</td><td>DT Swiss EX-511</td></tr>",
                            "<tr><td>111</td><td>MDK DP1</td></tr>",
                            "<tr><td>112</td><td>Sun Ringle Duroc 35</td></tr>",
                            "<tr><td>113</td><td>Fox 34 Rhythm 120</td></tr>",
                            "<tr><td>114</td><td>Fox 38 Factory Grip 2 180 Air</td></tr>",
                            "<tr><td>115</td><td>DVO Onyx D1 160</td></tr>",
                            "<tr><td>116</td><td>Fox 36 Rhythm Fit 3 150</td></tr>",
                            "<tr><td>117</td><td>RockShox Recon RL 120</td></tr>",
                            "<tr><td>27</td><td>RaceFace Ride</td></tr>",
                            "<tr><td>48</td><td>Sram G2 RS</td></tr>",
                            "<tr><td>145</td><td>RockShox Pike Ult RC 130 Air</td></tr>",
                            "<tr><td>146</td><td>Fox 36 Perf Elite 150 Air</td></tr>",
                            "<tr><td>147</td><td>Fox 34 Perf 130 Air</td></tr>",
                            "<tr><td>148</td><td>Fox 36 Perf Elite 180 Air</td></tr>",
                            "<tr><td>149</td><td>RockShox Lyric Ult RC2 170</td></tr>",
                            "<tr><td>150</td><td>Fox 34 Float Factory Grip 2 140</td></tr>",
                            "<tr><td>151</td><td>RockShox 35 Gold RL 150 Air</td></tr>",
                            "<tr><td>152</td><td>RockShox Pike Sel+ 140 Air</td></tr>",
                            "<tr><td>153</td><td>Fox 34 Float Perf 140</td></tr>",
                            "<tr><td>154</td><td>RockShox YarRC 180 Air</td></tr>",
                            "<tr><td>155</td><td>Fox 36 Float Factory 160 Air</td></tr>",
                            "<tr><td>156</td><td>RockShox ZEB Ult 170 Air</td></tr>",
                            "<tr><td>157</td><td>RockShox Pike Ult 150 Air</td></tr>",
                            "<tr><td>158</td><td>Fox 36 Perf 1650 Air</td></tr>",
                            "<tr><td>159</td><td>Marzocchi Bomber Z2 Rail 120 Air</td></tr>",
                            "<tr><td>160</td><td>Fox 36 Rhythm 160 Air</td></tr>",
                            "<tr><td>161</td><td>RockShox 35 Gold RL 160 Air</td></tr>",
                            "<tr><td>162</td><td>Fox 34 Float Perf 140 Air</td></tr>",
                            "<tr><td>163</td><td>Fox 36 Float Factory 170 Air</td></tr>",
                            "<tr><td>164</td><td>Fox 34 Float Factory Grip 2 120</td></tr>",
                            "<tr><td>165</td><td>Fox 36 Perf Elite 140 Air</td></tr>",
                            "<tr><td>166</td><td>Fox 36 Perf Elite 160 Air</td></tr>",
                            "<tr><td>167</td><td>RockShox Lyric Sel 150 Air</td></tr>",
                            "</table>"
                        ]
                    }
                }
            ],
            "execution_count": 36
        },
        {
            "cell_type": "code",
            "source": [
                "UPDATE dsci_504.components\r\n",
                "SET comp_cost = COALESCE(comp_cost, 0.00), \r\n",
                "    comp_name = COALESCE(comp_name, 'No Part');"
            ],
            "metadata": {
                "language": "sql",
                "azdata_cell_guid": "297c84dc-6403-4b03-be32-6cdc260bc1f2",
                "tags": []
            },
            "outputs": [
                {
                    "output_type": "display_data",
                    "data": {
                        "text/html": "UPDATE 271"
                    },
                    "metadata": {}
                },
                {
                    "output_type": "display_data",
                    "data": {
                        "text/html": "Total execution time: 00:00:00.006"
                    },
                    "metadata": {}
                }
            ],
            "execution_count": 65
        },
        {
            "cell_type": "code",
            "source": [
                "UPDATE dsci_504.components\r\n",
                "SET comp_cost = COALESCE(comp_cost, 0.00),\r\n",
                "    comp_supplier = COALESCE(comp_supplier, 'No Part');"
            ],
            "metadata": {
                "language": "sql",
                "azdata_cell_guid": "337a0260-1696-4e1b-827d-2407a66a25d9"
            },
            "outputs": [
                {
                    "output_type": "error",
                    "evalue": "invalid input syntax for type integer: \"No Part\"",
                    "ename": "",
                    "traceback": []
                },
                {
                    "output_type": "display_data",
                    "data": {
                        "text/html": "Total execution time: 00:00:00.001"
                    },
                    "metadata": {}
                }
            ],
            "execution_count": 66
        },
        {
            "cell_type": "code",
            "source": [
                "SELECT * FROM dsci_504.suppliers WHERE sup_name = 'No Part';\r\n",
                "\r\n",
                "INSERT INTO dsci_504.suppliers (sup_name)\r\n",
                "VALUES ('No Part')\r\n",
                "ON CONFLICT DO NOTHING;"
            ],
            "metadata": {
                "language": "sql",
                "azdata_cell_guid": "74f3d671-de9e-409f-b6de-0e97d20c5ba1"
            },
            "outputs": [
                {
                    "output_type": "display_data",
                    "data": {
                        "text/html": "(1 row(s) affected)"
                    },
                    "metadata": {}
                },
                {
                    "output_type": "display_data",
                    "data": {
                        "text/html": "Total execution time: 00:00:00.011"
                    },
                    "metadata": {}
                },
                {
                    "output_type": "execute_result",
                    "metadata": {},
                    "execution_count": 55,
                    "data": {
                        "application/vnd.dataresource+json": {
                            "schema": {
                                "fields": [
                                    {
                                        "name": "sup_id"
                                    },
                                    {
                                        "name": "sup_name"
                                    },
                                    {
                                        "name": "sup_ctry"
                                    }
                                ]
                            },
                            "data": [
                                {
                                    "sup_id": "75",
                                    "sup_name": "No Part",
                                    "sup_ctry": "NA"
                                }
                            ]
                        },
                        "text/html": [
                            "<table>",
                            "<tr><th>sup_id</th><th>sup_name</th><th>sup_ctry</th></tr>",
                            "<tr><td>75</td><td>No Part</td><td>NA</td></tr>",
                            "</table>"
                        ]
                    }
                },
                {
                    "output_type": "error",
                    "evalue": "null value in column \"sup_id\" of relation \"suppliers\" violates not-null constraint",
                    "ename": "",
                    "traceback": []
                }
            ],
            "execution_count": 55
        },
        {
            "cell_type": "code",
            "source": [
                "UPDATE dsci_504.components\r\n",
                "SET comp_supplier = (\r\n",
                "    SELECT sup_id \r\n",
                "    FROM dsci_504.suppliers\r\n",
                "    WHERE sup_name = 'Default Supplier'\r\n",
                ")\r\n",
                "WHERE comp_supplier IS NULL;"
            ],
            "metadata": {
                "language": "sql",
                "azdata_cell_guid": "43782e81-89a7-443f-a07d-6ea1d37db5d0"
            },
            "outputs": [
                {
                    "output_type": "display_data",
                    "data": {
                        "text/html": "UPDATE 0"
                    },
                    "metadata": {}
                },
                {
                    "output_type": "display_data",
                    "data": {
                        "text/html": "Total execution time: 00:00:00.004"
                    },
                    "metadata": {}
                }
            ],
            "execution_count": 61
        },
        {
            "cell_type": "code",
            "source": [
                "SELECT \r\n",
                "    comp_id, \r\n",
                "    comp_cost, \r\n",
                "    COALESCE(comp_name, 'No Part') AS comp_name, \r\n",
                "    COALESCE(comp_supplier, 0) AS comp_supplier\r\n",
                "FROM \r\n",
                "    dsci_504.components\r\n",
                "LIMIT 100;"
            ],
            "metadata": {
                "language": "sql",
                "azdata_cell_guid": "1f380dd7-b4e1-4c8f-81b6-8093b964f956"
            },
            "outputs": [
                {
                    "output_type": "display_data",
                    "data": {
                        "text/html": "(100 row(s) affected)"
                    },
                    "metadata": {}
                },
                {
                    "output_type": "display_data",
                    "data": {
                        "text/html": "Total execution time: 00:00:00.005"
                    },
                    "metadata": {}
                },
                {
                    "output_type": "execute_result",
                    "metadata": {},
                    "execution_count": 75,
                    "data": {
                        "application/vnd.dataresource+json": {
                            "schema": {
                                "fields": [
                                    {
                                        "name": "comp_id"
                                    },
                                    {
                                        "name": "comp_cost"
                                    },
                                    {
                                        "name": "comp_name"
                                    },
                                    {
                                        "name": "comp_supplier"
                                    }
                                ]
                            },
                            "data": [
                                {
                                    "comp_id": "87",
                                    "comp_cost": "333.99",
                                    "comp_name": "NS Enigma Roll",
                                    "comp_supplier": "71"
                                },
                                {
                                    "comp_id": "88",
                                    "comp_cost": "390",
                                    "comp_name": "DT Swixx Custom EX1700",
                                    "comp_supplier": "48"
                                },
                                {
                                    "comp_id": "89",
                                    "comp_cost": "375",
                                    "comp_name": "Stans Floiw S1",
                                    "comp_supplier": "47"
                                },
                                {
                                    "comp_id": "90",
                                    "comp_cost": "1721.9",
                                    "comp_name": "DT Swiss XMC1200",
                                    "comp_supplier": "48"
                                },
                                {
                                    "comp_id": "91",
                                    "comp_cost": "1450",
                                    "comp_name": "DT Swiss Custom EX-1700",
                                    "comp_supplier": "48"
                                },
                                {
                                    "comp_id": "92",
                                    "comp_cost": "265.9",
                                    "comp_name": "DT Swiss M-1900",
                                    "comp_supplier": "48"
                                },
                                {
                                    "comp_id": "93",
                                    "comp_cost": "1350",
                                    "comp_name": "Roval Traverse Alloy",
                                    "comp_supplier": "53"
                                },
                                {
                                    "comp_id": "94",
                                    "comp_cost": "420",
                                    "comp_name": "E13 LG1 DH Base",
                                    "comp_supplier": "5"
                                },
                                {
                                    "comp_id": "95",
                                    "comp_cost": "180",
                                    "comp_name": "Niner Alloy",
                                    "comp_supplier": "3"
                                },
                                {
                                    "comp_id": "96",
                                    "comp_cost": "195",
                                    "comp_name": "WTB ST Light i30",
                                    "comp_supplier": "51"
                                },
                                {
                                    "comp_id": "97",
                                    "comp_cost": "203.15",
                                    "comp_name": "E13 LG1",
                                    "comp_supplier": "5"
                                },
                                {
                                    "comp_id": "98",
                                    "comp_cost": "269",
                                    "comp_name": "WTB KOM Trail i30",
                                    "comp_supplier": "51"
                                },
                                {
                                    "comp_id": "99",
                                    "comp_cost": "2199",
                                    "comp_name": "i9 RW30",
                                    "comp_supplier": "52"
                                },
                                {
                                    "comp_id": "100",
                                    "comp_cost": "210",
                                    "comp_name": "WTB ST i30",
                                    "comp_supplier": "51"
                                },
                                {
                                    "comp_id": "101",
                                    "comp_cost": "227",
                                    "comp_name": "WTB KOM Light i30",
                                    "comp_supplier": "51"
                                },
                                {
                                    "comp_id": "102",
                                    "comp_cost": "235",
                                    "comp_name": "WTM KOM i27",
                                    "comp_supplier": "51"
                                },
                                {
                                    "comp_id": "103",
                                    "comp_cost": "275",
                                    "comp_name": "RaceFace AR Offset 30",
                                    "comp_supplier": "6"
                                },
                                {
                                    "comp_id": "104",
                                    "comp_cost": "425",
                                    "comp_name": "Stand Arch MK3",
                                    "comp_supplier": "47"
                                },
                                {
                                    "comp_id": "105",
                                    "comp_cost": "175",
                                    "comp_name": "Giant AM",
                                    "comp_supplier": "1"
                                },
                                {
                                    "comp_id": "106",
                                    "comp_cost": "605",
                                    "comp_name": "DT Swiss XT1501",
                                    "comp_supplier": "48"
                                },
                                {
                                    "comp_id": "107",
                                    "comp_cost": "564.9",
                                    "comp_name": "DT Swiss XR1700",
                                    "comp_supplier": "48"
                                },
                                {
                                    "comp_id": "108",
                                    "comp_cost": "175",
                                    "comp_name": "WTB ST i25",
                                    "comp_supplier": "51"
                                },
                                {
                                    "comp_id": "109",
                                    "comp_cost": "370",
                                    "comp_name": "Stans Crest S1",
                                    "comp_supplier": "47"
                                },
                                {
                                    "comp_id": "110",
                                    "comp_cost": "457.99",
                                    "comp_name": "DT Swiss EX-511",
                                    "comp_supplier": "48"
                                },
                                {
                                    "comp_id": "111",
                                    "comp_cost": "379",
                                    "comp_name": "MDK DP1",
                                    "comp_supplier": "54"
                                },
                                {
                                    "comp_id": "112",
                                    "comp_cost": "179.99",
                                    "comp_name": "Sun Ringle Duroc 35",
                                    "comp_supplier": "55"
                                },
                                {
                                    "comp_id": "113",
                                    "comp_cost": "429",
                                    "comp_name": "Fox 34 Rhythm 120",
                                    "comp_supplier": "28"
                                },
                                {
                                    "comp_id": "114",
                                    "comp_cost": "1249",
                                    "comp_name": "Fox 38 Factory Grip 2 180 Air",
                                    "comp_supplier": "28"
                                },
                                {
                                    "comp_id": "115",
                                    "comp_cost": "785",
                                    "comp_name": "DVO Onyx D1 160",
                                    "comp_supplier": "29"
                                },
                                {
                                    "comp_id": "116",
                                    "comp_cost": "849",
                                    "comp_name": "Fox 36 Rhythm Fit 3 150",
                                    "comp_supplier": "28"
                                },
                                {
                                    "comp_id": "117",
                                    "comp_cost": "274",
                                    "comp_name": "RockShox Recon RL 120",
                                    "comp_supplier": "30"
                                },
                                {
                                    "comp_id": "27",
                                    "comp_cost": "99",
                                    "comp_name": "RaceFace Ride",
                                    "comp_supplier": "6"
                                },
                                {
                                    "comp_id": "48",
                                    "comp_cost": "158",
                                    "comp_name": "Sram G2 RS",
                                    "comp_supplier": "45"
                                },
                                {
                                    "comp_id": "145",
                                    "comp_cost": "917",
                                    "comp_name": "RockShox Pike Ult RC 130 Air",
                                    "comp_supplier": "30"
                                },
                                {
                                    "comp_id": "146",
                                    "comp_cost": "899",
                                    "comp_name": "Fox 36 Perf Elite 150 Air",
                                    "comp_supplier": "28"
                                },
                                {
                                    "comp_id": "147",
                                    "comp_cost": "429",
                                    "comp_name": "Fox 34 Perf 130 Air",
                                    "comp_supplier": "28"
                                },
                                {
                                    "comp_id": "148",
                                    "comp_cost": "1024",
                                    "comp_name": "Fox 36 Perf Elite 180 Air",
                                    "comp_supplier": "28"
                                },
                                {
                                    "comp_id": "149",
                                    "comp_cost": "975",
                                    "comp_name": "RockShox Lyric Ult RC2 170",
                                    "comp_supplier": "30"
                                },
                                {
                                    "comp_id": "150",
                                    "comp_cost": "789",
                                    "comp_name": "Fox 34 Float Factory Grip 2 140",
                                    "comp_supplier": "28"
                                },
                                {
                                    "comp_id": "151",
                                    "comp_cost": "458",
                                    "comp_name": "RockShox 35 Gold RL 150 Air",
                                    "comp_supplier": "30"
                                },
                                {
                                    "comp_id": "152",
                                    "comp_cost": "713",
                                    "comp_name": "RockShox Pike Sel+ 140 Air",
                                    "comp_supplier": "30"
                                },
                                {
                                    "comp_id": "153",
                                    "comp_cost": "410",
                                    "comp_name": "Fox 34 Float Perf 140",
                                    "comp_supplier": "28"
                                },
                                {
                                    "comp_id": "154",
                                    "comp_cost": "509",
                                    "comp_name": "RockShox YarRC 180 Air",
                                    "comp_supplier": "30"
                                },
                                {
                                    "comp_id": "155",
                                    "comp_cost": "605",
                                    "comp_name": "Fox 36 Float Factory 160 Air",
                                    "comp_supplier": "28"
                                },
                                {
                                    "comp_id": "156",
                                    "comp_cost": "915",
                                    "comp_name": "RockShox ZEB Ult 170 Air",
                                    "comp_supplier": "30"
                                },
                                {
                                    "comp_id": "157",
                                    "comp_cost": "917",
                                    "comp_name": "RockShox Pike Ult 150 Air",
                                    "comp_supplier": "30"
                                },
                                {
                                    "comp_id": "158",
                                    "comp_cost": "893",
                                    "comp_name": "Fox 36 Perf 1650 Air",
                                    "comp_supplier": "28"
                                },
                                {
                                    "comp_id": "159",
                                    "comp_cost": "519",
                                    "comp_name": "Marzocchi Bomber Z2 Rail 120 Air",
                                    "comp_supplier": "32"
                                },
                                {
                                    "comp_id": "160",
                                    "comp_cost": "556",
                                    "comp_name": "Fox 36 Rhythm 160 Air",
                                    "comp_supplier": "28"
                                },
                                {
                                    "comp_id": "161",
                                    "comp_cost": "458",
                                    "comp_name": "RockShox 35 Gold RL 160 Air",
                                    "comp_supplier": "30"
                                },
                                {
                                    "comp_id": "162",
                                    "comp_cost": "429",
                                    "comp_name": "Fox 34 Float Perf 140 Air",
                                    "comp_supplier": "28"
                                },
                                {
                                    "comp_id": "163",
                                    "comp_cost": "999",
                                    "comp_name": "Fox 36 Float Factory 170 Air",
                                    "comp_supplier": "28"
                                },
                                {
                                    "comp_id": "164",
                                    "comp_cost": "969",
                                    "comp_name": "Fox 34 Float Factory Grip 2 120",
                                    "comp_supplier": "28"
                                },
                                {
                                    "comp_id": "165",
                                    "comp_cost": "789",
                                    "comp_name": "Fox 36 Perf Elite 140 Air",
                                    "comp_supplier": "28"
                                },
                                {
                                    "comp_id": "166",
                                    "comp_cost": "789",
                                    "comp_name": "Fox 36 Perf Elite 160 Air",
                                    "comp_supplier": "28"
                                },
                                {
                                    "comp_id": "167",
                                    "comp_cost": "765",
                                    "comp_name": "RockShox Lyric Sel 150 Air",
                                    "comp_supplier": "30"
                                },
                                {
                                    "comp_id": "168",
                                    "comp_cost": "509",
                                    "comp_name": "RockShox YariRC 160",
                                    "comp_supplier": "30"
                                },
                                {
                                    "comp_id": "206",
                                    "comp_cost": "59.99",
                                    "comp_name": "Shimano XT0M8100",
                                    "comp_supplier": "44"
                                },
                                {
                                    "comp_id": "207",
                                    "comp_cost": "33",
                                    "comp_name": "Sram SX",
                                    "comp_supplier": "45"
                                },
                                {
                                    "comp_id": "208",
                                    "comp_cost": "43",
                                    "comp_name": "Sram NX ",
                                    "comp_supplier": "45"
                                },
                                {
                                    "comp_id": "209",
                                    "comp_cost": "91",
                                    "comp_name": "Sram XO1",
                                    "comp_supplier": "45"
                                },
                                {
                                    "comp_id": "210",
                                    "comp_cost": "64.99",
                                    "comp_name": "Shimano XT",
                                    "comp_supplier": "44"
                                },
                                {
                                    "comp_id": "211",
                                    "comp_cost": "46.99",
                                    "comp_name": "Sram GX",
                                    "comp_supplier": "45"
                                },
                                {
                                    "comp_id": "213",
                                    "comp_cost": "32",
                                    "comp_name": "Shimano Deore M6100",
                                    "comp_supplier": "44"
                                },
                                {
                                    "comp_id": "118",
                                    "comp_cost": "849",
                                    "comp_name": "Fox 36 Float Perf 160 Air",
                                    "comp_supplier": "28"
                                },
                                {
                                    "comp_id": "119",
                                    "comp_cost": "989",
                                    "comp_name": "Fox 38 Grip 2 170 Air",
                                    "comp_supplier": "28"
                                },
                                {
                                    "comp_id": "120",
                                    "comp_cost": "968",
                                    "comp_name": "RockShox Lyric Ult RC2 160 Air",
                                    "comp_supplier": "30"
                                },
                                {
                                    "comp_id": "121",
                                    "comp_cost": "1149.97",
                                    "comp_name": "Ohlins RXF36 M.2 170 Air",
                                    "comp_supplier": "31"
                                },
                                {
                                    "comp_id": "122",
                                    "comp_cost": "968",
                                    "comp_name": "RockShox Lyric Ult RC2 160",
                                    "comp_supplier": "30"
                                },
                                {
                                    "comp_id": "123",
                                    "comp_cost": "1249",
                                    "comp_name": "Fox 38 Factory Grip2 170 Air",
                                    "comp_supplier": "28"
                                },
                                {
                                    "comp_id": "124",
                                    "comp_cost": "949",
                                    "comp_name": "Fox 36 Float Perf 140 Air",
                                    "comp_supplier": "28"
                                },
                                {
                                    "comp_id": "125",
                                    "comp_cost": "798",
                                    "comp_name": "Fox 36 Perf 170 Air",
                                    "comp_supplier": "28"
                                },
                                {
                                    "comp_id": "126",
                                    "comp_cost": "610",
                                    "comp_name": "Marzocchi Bomber Z2 130 Air",
                                    "comp_supplier": "32"
                                },
                                {
                                    "comp_id": "127",
                                    "comp_cost": "275",
                                    "comp_name": "RockShox Recon RL 130",
                                    "comp_supplier": "30"
                                },
                                {
                                    "comp_id": "128",
                                    "comp_cost": "429",
                                    "comp_name": "Fox 34 Float Perf 120",
                                    "comp_supplier": "28"
                                },
                                {
                                    "comp_id": "129",
                                    "comp_cost": "270",
                                    "comp_name": "RockShox Recon RL 130 Air",
                                    "comp_supplier": "30"
                                },
                                {
                                    "comp_id": "130",
                                    "comp_cost": "968",
                                    "comp_name": "RockShox Lyric Ult 150 Air",
                                    "comp_supplier": "30"
                                },
                                {
                                    "comp_id": "131",
                                    "comp_cost": "713",
                                    "comp_name": "RockShox Pike Sel RC 140",
                                    "comp_supplier": "30"
                                },
                                {
                                    "comp_id": "132",
                                    "comp_cost": "1020",
                                    "comp_name": "Fox 38 Float Perf 170 Air",
                                    "comp_supplier": "28"
                                },
                                {
                                    "comp_id": "133",
                                    "comp_cost": "255",
                                    "comp_name": "RockShox Recon RL 120 Air",
                                    "comp_supplier": "30"
                                },
                                {
                                    "comp_id": "134",
                                    "comp_cost": "1069",
                                    "comp_name": "Fox 36 Factory 160 Air",
                                    "comp_supplier": "28"
                                },
                                {
                                    "comp_id": "135",
                                    "comp_cost": "1069",
                                    "comp_name": "Fox 36 Factory 150 Air",
                                    "comp_supplier": "28"
                                },
                                {
                                    "comp_id": "136",
                                    "comp_cost": "489",
                                    "comp_name": "Fox 32 Factory 100",
                                    "comp_supplier": "28"
                                },
                                {
                                    "comp_id": "137",
                                    "comp_cost": "999",
                                    "comp_name": "Lefty Ocho 100 Air",
                                    "comp_supplier": "33"
                                },
                                {
                                    "comp_id": "138",
                                    "comp_cost": "790",
                                    "comp_name": "DVO Onyx D2 170 Air",
                                    "comp_supplier": "29"
                                },
                                {
                                    "comp_id": "139",
                                    "comp_cost": "458",
                                    "comp_name": "RockShox 35 Gold RL 140 Air",
                                    "comp_supplier": "30"
                                },
                                {
                                    "comp_id": "140",
                                    "comp_cost": "1039",
                                    "comp_name": "Fox 34 Float Factory Grip 2 140 Air",
                                    "comp_supplier": "28"
                                },
                                {
                                    "comp_id": "141",
                                    "comp_cost": "429",
                                    "comp_name": "Fox 34 Perf 130",
                                    "comp_supplier": "28"
                                },
                                {
                                    "comp_id": "142",
                                    "comp_cost": "510",
                                    "comp_name": "Fox 32 Float Perf 100 Air",
                                    "comp_supplier": "28"
                                },
                                {
                                    "comp_id": "143",
                                    "comp_cost": "840",
                                    "comp_name": "Fox 36 Perf 160 Air",
                                    "comp_supplier": "28"
                                },
                                {
                                    "comp_id": "144",
                                    "comp_cost": "880",
                                    "comp_name": "Fox 36 Float Perf 150",
                                    "comp_supplier": "28"
                                },
                                {
                                    "comp_id": "214",
                                    "comp_cost": "137",
                                    "comp_name": "Shimano XTR",
                                    "comp_supplier": "44"
                                },
                                {
                                    "comp_id": "215",
                                    "comp_cost": "204",
                                    "comp_name": "Sram AXS",
                                    "comp_supplier": "45"
                                },
                                {
                                    "comp_id": "216",
                                    "comp_cost": "30",
                                    "comp_name": "Shimano SLX",
                                    "comp_supplier": "44"
                                },
                                {
                                    "comp_id": "217",
                                    "comp_cost": "458",
                                    "comp_name": "Sram XG1299",
                                    "comp_supplier": "45"
                                },
                                {
                                    "comp_id": "218",
                                    "comp_cost": "102",
                                    "comp_name": "Sram PG1230",
                                    "comp_supplier": "45"
                                },
                                {
                                    "comp_id": "219",
                                    "comp_cost": "190",
                                    "comp_name": "Shimano CS-M8100",
                                    "comp_supplier": "44"
                                },
                                {
                                    "comp_id": "220",
                                    "comp_cost": "219",
                                    "comp_name": "Sram XG1275",
                                    "comp_supplier": "45"
                                },
                                {
                                    "comp_id": "221",
                                    "comp_cost": "120",
                                    "comp_name": "SramPG1211",
                                    "comp_supplier": "45"
                                },
                                {
                                    "comp_id": "222",
                                    "comp_cost": "120",
                                    "comp_name": "Sram PG1210",
                                    "comp_supplier": "45"
                                }
                            ]
                        },
                        "text/html": [
                            "<table>",
                            "<tr><th>comp_id</th><th>comp_cost</th><th>comp_name</th><th>comp_supplier</th></tr>",
                            "<tr><td>87</td><td>333.99</td><td>NS Enigma Roll</td><td>71</td></tr>",
                            "<tr><td>88</td><td>390</td><td>DT Swixx Custom EX1700</td><td>48</td></tr>",
                            "<tr><td>89</td><td>375</td><td>Stans Floiw S1</td><td>47</td></tr>",
                            "<tr><td>90</td><td>1721.9</td><td>DT Swiss XMC1200</td><td>48</td></tr>",
                            "<tr><td>91</td><td>1450</td><td>DT Swiss Custom EX-1700</td><td>48</td></tr>",
                            "<tr><td>92</td><td>265.9</td><td>DT Swiss M-1900</td><td>48</td></tr>",
                            "<tr><td>93</td><td>1350</td><td>Roval Traverse Alloy</td><td>53</td></tr>",
                            "<tr><td>94</td><td>420</td><td>E13 LG1 DH Base</td><td>5</td></tr>",
                            "<tr><td>95</td><td>180</td><td>Niner Alloy</td><td>3</td></tr>",
                            "<tr><td>96</td><td>195</td><td>WTB ST Light i30</td><td>51</td></tr>",
                            "<tr><td>97</td><td>203.15</td><td>E13 LG1</td><td>5</td></tr>",
                            "<tr><td>98</td><td>269</td><td>WTB KOM Trail i30</td><td>51</td></tr>",
                            "<tr><td>99</td><td>2199</td><td>i9 RW30</td><td>52</td></tr>",
                            "<tr><td>100</td><td>210</td><td>WTB ST i30</td><td>51</td></tr>",
                            "<tr><td>101</td><td>227</td><td>WTB KOM Light i30</td><td>51</td></tr>",
                            "<tr><td>102</td><td>235</td><td>WTM KOM i27</td><td>51</td></tr>",
                            "<tr><td>103</td><td>275</td><td>RaceFace AR Offset 30</td><td>6</td></tr>",
                            "<tr><td>104</td><td>425</td><td>Stand Arch MK3</td><td>47</td></tr>",
                            "<tr><td>105</td><td>175</td><td>Giant AM</td><td>1</td></tr>",
                            "<tr><td>106</td><td>605</td><td>DT Swiss XT1501</td><td>48</td></tr>",
                            "<tr><td>107</td><td>564.9</td><td>DT Swiss XR1700</td><td>48</td></tr>",
                            "<tr><td>108</td><td>175</td><td>WTB ST i25</td><td>51</td></tr>",
                            "<tr><td>109</td><td>370</td><td>Stans Crest S1</td><td>47</td></tr>",
                            "<tr><td>110</td><td>457.99</td><td>DT Swiss EX-511</td><td>48</td></tr>",
                            "<tr><td>111</td><td>379</td><td>MDK DP1</td><td>54</td></tr>",
                            "<tr><td>112</td><td>179.99</td><td>Sun Ringle Duroc 35</td><td>55</td></tr>",
                            "<tr><td>113</td><td>429</td><td>Fox 34 Rhythm 120</td><td>28</td></tr>",
                            "<tr><td>114</td><td>1249</td><td>Fox 38 Factory Grip 2 180 Air</td><td>28</td></tr>",
                            "<tr><td>115</td><td>785</td><td>DVO Onyx D1 160</td><td>29</td></tr>",
                            "<tr><td>116</td><td>849</td><td>Fox 36 Rhythm Fit 3 150</td><td>28</td></tr>",
                            "<tr><td>117</td><td>274</td><td>RockShox Recon RL 120</td><td>30</td></tr>",
                            "<tr><td>27</td><td>99</td><td>RaceFace Ride</td><td>6</td></tr>",
                            "<tr><td>48</td><td>158</td><td>Sram G2 RS</td><td>45</td></tr>",
                            "<tr><td>145</td><td>917</td><td>RockShox Pike Ult RC 130 Air</td><td>30</td></tr>",
                            "<tr><td>146</td><td>899</td><td>Fox 36 Perf Elite 150 Air</td><td>28</td></tr>",
                            "<tr><td>147</td><td>429</td><td>Fox 34 Perf 130 Air</td><td>28</td></tr>",
                            "<tr><td>148</td><td>1024</td><td>Fox 36 Perf Elite 180 Air</td><td>28</td></tr>",
                            "<tr><td>149</td><td>975</td><td>RockShox Lyric Ult RC2 170</td><td>30</td></tr>",
                            "<tr><td>150</td><td>789</td><td>Fox 34 Float Factory Grip 2 140</td><td>28</td></tr>",
                            "<tr><td>151</td><td>458</td><td>RockShox 35 Gold RL 150 Air</td><td>30</td></tr>",
                            "<tr><td>152</td><td>713</td><td>RockShox Pike Sel+ 140 Air</td><td>30</td></tr>",
                            "<tr><td>153</td><td>410</td><td>Fox 34 Float Perf 140</td><td>28</td></tr>",
                            "<tr><td>154</td><td>509</td><td>RockShox YarRC 180 Air</td><td>30</td></tr>",
                            "<tr><td>155</td><td>605</td><td>Fox 36 Float Factory 160 Air</td><td>28</td></tr>",
                            "<tr><td>156</td><td>915</td><td>RockShox ZEB Ult 170 Air</td><td>30</td></tr>",
                            "<tr><td>157</td><td>917</td><td>RockShox Pike Ult 150 Air</td><td>30</td></tr>",
                            "<tr><td>158</td><td>893</td><td>Fox 36 Perf 1650 Air</td><td>28</td></tr>",
                            "<tr><td>159</td><td>519</td><td>Marzocchi Bomber Z2 Rail 120 Air</td><td>32</td></tr>",
                            "<tr><td>160</td><td>556</td><td>Fox 36 Rhythm 160 Air</td><td>28</td></tr>",
                            "<tr><td>161</td><td>458</td><td>RockShox 35 Gold RL 160 Air</td><td>30</td></tr>",
                            "<tr><td>162</td><td>429</td><td>Fox 34 Float Perf 140 Air</td><td>28</td></tr>",
                            "<tr><td>163</td><td>999</td><td>Fox 36 Float Factory 170 Air</td><td>28</td></tr>",
                            "<tr><td>164</td><td>969</td><td>Fox 34 Float Factory Grip 2 120</td><td>28</td></tr>",
                            "<tr><td>165</td><td>789</td><td>Fox 36 Perf Elite 140 Air</td><td>28</td></tr>",
                            "<tr><td>166</td><td>789</td><td>Fox 36 Perf Elite 160 Air</td><td>28</td></tr>",
                            "<tr><td>167</td><td>765</td><td>RockShox Lyric Sel 150 Air</td><td>30</td></tr>",
                            "<tr><td>168</td><td>509</td><td>RockShox YariRC 160</td><td>30</td></tr>",
                            "<tr><td>206</td><td>59.99</td><td>Shimano XT0M8100</td><td>44</td></tr>",
                            "<tr><td>207</td><td>33</td><td>Sram SX</td><td>45</td></tr>",
                            "<tr><td>208</td><td>43</td><td>Sram NX </td><td>45</td></tr>",
                            "<tr><td>209</td><td>91</td><td>Sram XO1</td><td>45</td></tr>",
                            "<tr><td>210</td><td>64.99</td><td>Shimano XT</td><td>44</td></tr>",
                            "<tr><td>211</td><td>46.99</td><td>Sram GX</td><td>45</td></tr>",
                            "<tr><td>213</td><td>32</td><td>Shimano Deore M6100</td><td>44</td></tr>",
                            "<tr><td>118</td><td>849</td><td>Fox 36 Float Perf 160 Air</td><td>28</td></tr>",
                            "<tr><td>119</td><td>989</td><td>Fox 38 Grip 2 170 Air</td><td>28</td></tr>",
                            "<tr><td>120</td><td>968</td><td>RockShox Lyric Ult RC2 160 Air</td><td>30</td></tr>",
                            "<tr><td>121</td><td>1149.97</td><td>Ohlins RXF36 M.2 170 Air</td><td>31</td></tr>",
                            "<tr><td>122</td><td>968</td><td>RockShox Lyric Ult RC2 160</td><td>30</td></tr>",
                            "<tr><td>123</td><td>1249</td><td>Fox 38 Factory Grip2 170 Air</td><td>28</td></tr>",
                            "<tr><td>124</td><td>949</td><td>Fox 36 Float Perf 140 Air</td><td>28</td></tr>",
                            "<tr><td>125</td><td>798</td><td>Fox 36 Perf 170 Air</td><td>28</td></tr>",
                            "<tr><td>126</td><td>610</td><td>Marzocchi Bomber Z2 130 Air</td><td>32</td></tr>",
                            "<tr><td>127</td><td>275</td><td>RockShox Recon RL 130</td><td>30</td></tr>",
                            "<tr><td>128</td><td>429</td><td>Fox 34 Float Perf 120</td><td>28</td></tr>",
                            "<tr><td>129</td><td>270</td><td>RockShox Recon RL 130 Air</td><td>30</td></tr>",
                            "<tr><td>130</td><td>968</td><td>RockShox Lyric Ult 150 Air</td><td>30</td></tr>",
                            "<tr><td>131</td><td>713</td><td>RockShox Pike Sel RC 140</td><td>30</td></tr>",
                            "<tr><td>132</td><td>1020</td><td>Fox 38 Float Perf 170 Air</td><td>28</td></tr>",
                            "<tr><td>133</td><td>255</td><td>RockShox Recon RL 120 Air</td><td>30</td></tr>",
                            "<tr><td>134</td><td>1069</td><td>Fox 36 Factory 160 Air</td><td>28</td></tr>",
                            "<tr><td>135</td><td>1069</td><td>Fox 36 Factory 150 Air</td><td>28</td></tr>",
                            "<tr><td>136</td><td>489</td><td>Fox 32 Factory 100</td><td>28</td></tr>",
                            "<tr><td>137</td><td>999</td><td>Lefty Ocho 100 Air</td><td>33</td></tr>",
                            "<tr><td>138</td><td>790</td><td>DVO Onyx D2 170 Air</td><td>29</td></tr>",
                            "<tr><td>139</td><td>458</td><td>RockShox 35 Gold RL 140 Air</td><td>30</td></tr>",
                            "<tr><td>140</td><td>1039</td><td>Fox 34 Float Factory Grip 2 140 Air</td><td>28</td></tr>",
                            "<tr><td>141</td><td>429</td><td>Fox 34 Perf 130</td><td>28</td></tr>",
                            "<tr><td>142</td><td>510</td><td>Fox 32 Float Perf 100 Air</td><td>28</td></tr>",
                            "<tr><td>143</td><td>840</td><td>Fox 36 Perf 160 Air</td><td>28</td></tr>",
                            "<tr><td>144</td><td>880</td><td>Fox 36 Float Perf 150</td><td>28</td></tr>",
                            "<tr><td>214</td><td>137</td><td>Shimano XTR</td><td>44</td></tr>",
                            "<tr><td>215</td><td>204</td><td>Sram AXS</td><td>45</td></tr>",
                            "<tr><td>216</td><td>30</td><td>Shimano SLX</td><td>44</td></tr>",
                            "<tr><td>217</td><td>458</td><td>Sram XG1299</td><td>45</td></tr>",
                            "<tr><td>218</td><td>102</td><td>Sram PG1230</td><td>45</td></tr>",
                            "<tr><td>219</td><td>190</td><td>Shimano CS-M8100</td><td>44</td></tr>",
                            "<tr><td>220</td><td>219</td><td>Sram XG1275</td><td>45</td></tr>",
                            "<tr><td>221</td><td>120</td><td>SramPG1211</td><td>45</td></tr>",
                            "<tr><td>222</td><td>120</td><td>Sram PG1210</td><td>45</td></tr>",
                            "</table>"
                        ]
                    }
                }
            ],
            "execution_count": 75
        },
        {
            "cell_type": "markdown",
            "source": [
                "Part 2"
            ],
            "metadata": {
                "language": "sql",
                "azdata_cell_guid": "e0353f98-75fa-48f3-998f-26f1a474dca9"
            },
            "attachments": {}
        },
        {
            "cell_type": "code",
            "source": [
                "SELECT\r\n",
                "    p.prod_name AS Product_Name,\r\n",
                "    b.build_name AS Build_Name,\r\n",
                "    COALESCE(SUM(s.order_tot), 0) AS Sum_of_Order_Total\r\n",
                "FROM\r\n",
                "    dsci_504.suppliers s\r\n",
                "JOIN\r\n",
                "    dsci_504.components c ON s.comp_id = c.comp_id\r\n",
                "JOIN\r\n",
                "    dsci_504.products p ON c.product_id = p.prod_id\r\n",
                "JOIN\r\n",
                "    dsci_504.builds b ON c.build_id = b.build_id\r\n",
                "WHERE\r\n",
                "    p.prod_type = 'Hardtail Bike'\r\n",
                "GROUP BY\r\n",
                "    ROLLUP(p.prod_name, b.build_name)\r\n",
                "ORDER BY\r\n",
                "    p.prod_name, b.build_name;\r\n",
                ""
            ],
            "metadata": {
                "language": "sql",
                "azdata_cell_guid": "898aad01-6d46-4cde-8f29-9863a65181bb"
            },
            "outputs": [
                {
                    "output_type": "error",
                    "evalue": "column s.comp_id does not exist",
                    "ename": "",
                    "traceback": []
                },
                {
                    "output_type": "display_data",
                    "data": {
                        "text/html": "Total execution time: 00:00:00.002"
                    },
                    "metadata": {}
                }
            ],
            "execution_count": 98
        },
        {
            "cell_type": "code",
            "source": [
                "SELECT\r\n",
                "    p.prod_name AS Product_Name,\r\n",
                "    b.build_name AS Build_Name,\r\n",
                "    COALESCE(SUM(o.order_tot), 0) AS Sum_of_Order_Total\r\n",
                "FROM\r\n",
                "    dsci_504.components c\r\n",
                "JOIN\r\n",
                "    dsci_504.products p ON p.prod_id = p.prod_id\r\n",
                "JOIN\r\n",
                "    dsci_504.builds b ON b.build_id = b.build_id\r\n",
                "LEFT JOIN\r\n",
                "    dsci_504.suppliers s ON s.sup_id = s.sup_id \r\n",
                "WHERE\r\n",
                "    p.prod_type = 'Hardtail Bike'\r\n",
                "GROUP BY\r\n",
                "    ROLLUP(p.prod_name, b.build_name)\r\n",
                "ORDER BY\r\n",
                "    p.prod_name, b.build_name;\r\n",
                ""
            ],
            "metadata": {
                "language": "sql",
                "azdata_cell_guid": "49f90bd9-0987-4b1b-aa7e-ce2e9eac0c10"
            },
            "outputs": [
                {
                    "output_type": "error",
                    "evalue": "missing FROM-clause entry for table \"o\"",
                    "ename": "",
                    "traceback": []
                },
                {
                    "output_type": "display_data",
                    "data": {
                        "text/html": "Total execution time: 00:00:00.002"
                    },
                    "metadata": {}
                }
            ],
            "execution_count": 104
        },
        {
            "cell_type": "code",
            "source": [
                "SELECT\r\n",
                "    p.prod_name AS Product_Name,\r\n",
                "    b.build_name AS Build_Name,\r\n",
                "    COALESCE(SUM(s.order_tot), 0) AS Sum_of_Order_Total\r\n",
                "FROM\r\n",
                "    dsci_504 products and builds s\r\n",
                "JOIN\r\n",
                "    dsci_504.products p ON s.prod_id = p.prod_id\r\n",
                "JOIN\r\n",
                "    dsci_504.builds b ON s.build_id = b.build_id\r\n",
                "WHERE\r\n",
                "    p.prod_type = 'Hardtail Bike'\r\n",
                "GROUP BY\r\n",
                "    ROLLUP(p.prod_name, b.build_name)\r\n",
                "ORDER BY\r\n",
                "    p.prod_name, b.build_name;\r\n",
                ""
            ],
            "metadata": {
                "language": "sql",
                "azdata_cell_guid": "7c0b74b2-994b-4b8c-b00f-8ed915442eae"
            },
            "outputs": [
                {
                    "output_type": "error",
                    "evalue": "syntax error at or near \"and\"",
                    "ename": "",
                    "traceback": []
                },
                {
                    "output_type": "display_data",
                    "data": {
                        "text/html": "Total execution time: 00:00:00.002"
                    },
                    "metadata": {}
                }
            ],
            "execution_count": 96
        },
        {
            "cell_type": "code",
            "source": [
                "SELECT\r\n",
                "    p.prod_name AS Product_Name,\r\n",
                "    b.build_name AS Build_Name,\r\n",
                "    COALESCE(SUM(c.comp_cost), 0) AS Sum_of_Order_Total\r\n",
                "FROM\r\n",
                "    dsci_504.components c\r\n",
                "JOIN\r\n",
                "    dsci_504.products p ON c.comp_id = p.prod_id \r\n",
                "JOIN\r\n",
                "    dsci_504.builds b ON c.comp_id = b.build_id\r\n",
                "LEFT JOIN\r\n",
                "    dsci_504.suppliers s ON c.comp_id = s.sup_id \r\n",
                "WHERE\r\n",
                "    p.prod_name = 'Hardtail Bike'\r\n",
                "GROUP BY\r\n",
                "    ROLLUP(p.prod_name, b.build_name)\r\n",
                "ORDER BY\r\n",
                "    p.prod_name, b.build_name;"
            ],
            "metadata": {
                "language": "sql",
                "azdata_cell_guid": "4fb91a7d-c56c-4ee3-a383-34f6e114ae02"
            },
            "outputs": [
                {
                    "output_type": "display_data",
                    "data": {
                        "text/html": "(1 row(s) affected)"
                    },
                    "metadata": {}
                },
                {
                    "output_type": "display_data",
                    "data": {
                        "text/html": "Total execution time: 00:00:00.013"
                    },
                    "metadata": {}
                },
                {
                    "output_type": "execute_result",
                    "metadata": {},
                    "execution_count": 122,
                    "data": {
                        "application/vnd.dataresource+json": {
                            "schema": {
                                "fields": [
                                    {
                                        "name": "product_name"
                                    },
                                    {
                                        "name": "build_name"
                                    },
                                    {
                                        "name": "sum_of_order_total"
                                    }
                                ]
                            },
                            "data": [
                                {
                                    "product_name": "NULL",
                                    "build_name": "NULL",
                                    "sum_of_order_total": "0"
                                }
                            ]
                        },
                        "text/html": [
                            "<table>",
                            "<tr><th>product_name</th><th>build_name</th><th>sum_of_order_total</th></tr>",
                            "<tr><td>NULL</td><td>NULL</td><td>0</td></tr>",
                            "</table>"
                        ]
                    }
                }
            ],
            "execution_count": 122
        },
        {
            "cell_type": "code",
            "source": [
                "SELECT\r\n",
                "    p.prod_name AS Product_Name,\r\n",
                "    b.build_name AS Build_Name,\r\n",
                "    COALESCE(SUM(o.order_tot), 0) AS Sum_of_Order_Total\r\n",
                "FROM\r\n",
                "    dsci_504.components c\r\n",
                "JOIN\r\n",
                "    dsci_504.products p ON c.prod_id = p.prod_id\r\n",
                "JOIN\r\n",
                "    dsci_504.builds b ON c.build_id = b.build_id\r\n",
                "LEFT JOIN\r\n",
                "    dsci_504.orders o ON c.comp_id = o.comp_id\r\n",
                "WHERE\r\n",
                "    p.prod_type = 'Hardtail Bike'\r\n",
                "GROUP BY\r\n",
                "    ROLLUP(p.prod_name, b.build_name)\r\n",
                "ORDER BY\r\n",
                "    p.prod_name, b.build_name;\r\n",
                ""
            ],
            "metadata": {
                "language": "sql",
                "azdata_cell_guid": "77ded811-aa73-4850-b284-ce43c90e6be3"
            },
            "outputs": [
                {
                    "output_type": "error",
                    "evalue": "column c.prod_id does not exist",
                    "ename": "",
                    "traceback": []
                },
                {
                    "output_type": "display_data",
                    "data": {
                        "text/html": "Total execution time: 00:00:00.002"
                    },
                    "metadata": {}
                }
            ],
            "execution_count": 230
        },
        {
            "cell_type": "markdown",
            "source": [
                "Part 3"
            ],
            "metadata": {
                "language": "sql",
                "azdata_cell_guid": "0d7bc6fe-badc-4234-9366-0d6b031d4b41"
            },
            "attachments": {}
        },
        {
            "cell_type": "code",
            "source": [
                "CREATE TABLE public.opc_export (\r\n",
                "    customer_id INTEGER,\r\n",
                "    customer_last_name VARCHAR(50),\r\n",
                "    customer_first_name VARCHAR(50),\r\n",
                "    customer_appreciation_code VARCHAR(20),\r\n",
                "    total_order_quantity INTEGER,\r\n",
                "    total_order_value NUMERIC(12, 2) \r\n",
                ");"
            ],
            "metadata": {
                "language": "sql",
                "azdata_cell_guid": "c770faf9-25e9-4276-874b-926960fc7409"
            },
            "outputs": [
                {
                    "output_type": "error",
                    "evalue": "relation \"opc_export\" already exists",
                    "ename": "",
                    "traceback": []
                },
                {
                    "output_type": "display_data",
                    "data": {
                        "text/html": "Total execution time: 00:00:00.004"
                    },
                    "metadata": {}
                }
            ],
            "execution_count": 126
        },
        {
            "cell_type": "code",
            "source": [
                "INSERT INTO public.opc_export (\r\n",
                "   cus_id,\r\n",
                "   cus_last_name,\r\n",
                "   cus_first_name,\r\n",
                "   cus_app_cd,\r\n",
                "   tot_ord_qty,\r\n",
                "   tot_ord_value\r\n",
                ")\r\n",
                "SELECT\r\n",
                "   c.cus_id,\r\n",
                "   c.cus_last_name,\r\n",
                "   c.cus_first_name,\r\n",
                "   c.cus_app_cd,\r\n",
                "   COUNT(o.ord_id) AS tot_ord_qty,\r\n",
                "   SUM(c.tot_ord_value) AS tot_ord_value\r\n",
                "FROM\r\n",
                "   dsci_504.customers c\r\n",
                "JOIN\r\n",
                "   dsci_504.orders o ON c.cus_id = o.cus_id\r\n",
                "GROUP BY\r\n",
                "   c.cus_id, c.cus_last_name, c.cus_first_name, c.cus_app_cd;\r\n",
                ""
            ],
            "metadata": {
                "language": "sql",
                "azdata_cell_guid": "e0791ac3-c1c4-4b88-afab-a36e7cb83b34"
            },
            "outputs": [
                {
                    "output_type": "error",
                    "evalue": "duplicate key value violates unique constraint \"opc_export_pkey\"",
                    "ename": "",
                    "traceback": []
                },
                {
                    "output_type": "display_data",
                    "data": {
                        "text/html": "Total execution time: 00:00:00.014"
                    },
                    "metadata": {}
                }
            ],
            "execution_count": 138
        },
        {
            "cell_type": "code",
            "source": [
                "INSERT INTO public.opc_export (\r\n",
                "   cus_id,\r\n",
                "   cus_last_name,\r\n",
                "   cus_first_name,\r\n",
                "   cus_app_cd,\r\n",
                "   tot_ord_qty,\r\n",
                "   tot_ord_value\r\n",
                ")\r\n",
                "SELECT\r\n",
                "   c.cus_id,\r\n",
                "   c.cus_last_name,\r\n",
                "   c.cus_first_name,\r\n",
                "   c.cus_app_cd,\r\n",
                "   COUNT(o.ord_id) AS tot_ord_qty,\r\n",
                "   SUM(c.tot_ord_value) AS tot_ord_value\r\n",
                "FROM\r\n",
                "   dsci_504.customers c\r\n",
                "JOIN\r\n",
                "   dsci_504.orders o ON c.cus_id = o.cus_id\r\n",
                "GROUP BY\r\n",
                "   c.cus_id, c.cus_last_name, c.cus_first_name, c.cus_app_cd\r\n",
                "ON CONFLICT (cus_id) DO NOTHING;\r\n",
                ""
            ],
            "metadata": {
                "language": "sql",
                "azdata_cell_guid": "f467abb8-86ba-4c57-b574-3a5cff0c4d26"
            },
            "outputs": [
                {
                    "output_type": "display_data",
                    "data": {
                        "text/html": "INSERT 0 0"
                    },
                    "metadata": {}
                },
                {
                    "output_type": "display_data",
                    "data": {
                        "text/html": "Total execution time: 00:00:00.018"
                    },
                    "metadata": {}
                }
            ],
            "execution_count": 139
        },
        {
            "cell_type": "code",
            "source": [
                "SELECT *\r\n",
                "FROM public.opc_export\r\n",
                "LIMIT 100;"
            ],
            "metadata": {
                "language": "sql",
                "azdata_cell_guid": "c25528ce-883b-4483-b34c-4378ce7972b2"
            },
            "outputs": [
                {
                    "output_type": "display_data",
                    "data": {
                        "text/html": "(100 row(s) affected)"
                    },
                    "metadata": {}
                },
                {
                    "output_type": "display_data",
                    "data": {
                        "text/html": "Total execution time: 00:00:00.008"
                    },
                    "metadata": {}
                },
                {
                    "output_type": "execute_result",
                    "metadata": {},
                    "execution_count": 141,
                    "data": {
                        "application/vnd.dataresource+json": {
                            "schema": {
                                "fields": [
                                    {
                                        "name": "cus_id"
                                    },
                                    {
                                        "name": "cus_last_name"
                                    },
                                    {
                                        "name": "cus_first_name"
                                    },
                                    {
                                        "name": "cus_join_date"
                                    },
                                    {
                                        "name": "cus_app_cd"
                                    },
                                    {
                                        "name": "tot_ord_qty"
                                    },
                                    {
                                        "name": "tot_ord_value"
                                    }
                                ]
                            },
                            "data": [
                                {
                                    "cus_id": "627",
                                    "cus_last_name": "Presley",
                                    "cus_first_name": "Erin",
                                    "cus_join_date": "2018-11-26",
                                    "cus_app_cd": "1",
                                    "tot_ord_qty": "64",
                                    "tot_ord_value": "21532"
                                },
                                {
                                    "cus_id": "1255",
                                    "cus_last_name": "Cooper",
                                    "cus_first_name": "Carl",
                                    "cus_join_date": "2016-03-27",
                                    "cus_app_cd": "1",
                                    "tot_ord_qty": "97",
                                    "tot_ord_value": "16208"
                                },
                                {
                                    "cus_id": "2241",
                                    "cus_last_name": "Jamieson",
                                    "cus_first_name": "Noel",
                                    "cus_join_date": "2012-11-24",
                                    "cus_app_cd": "2",
                                    "tot_ord_qty": "52",
                                    "tot_ord_value": "24171"
                                },
                                {
                                    "cus_id": "2617",
                                    "cus_last_name": "Mathiasen",
                                    "cus_first_name": "Ulrich",
                                    "cus_join_date": "2020-01-27",
                                    "cus_app_cd": "18",
                                    "tot_ord_qty": "45",
                                    "tot_ord_value": "27099.12"
                                },
                                {
                                    "cus_id": "2618",
                                    "cus_last_name": "Kemp",
                                    "cus_first_name": "Susanne",
                                    "cus_join_date": "2020-12-11",
                                    "cus_app_cd": "23",
                                    "tot_ord_qty": "13",
                                    "tot_ord_value": "3074.41"
                                },
                                {
                                    "cus_id": "2619",
                                    "cus_last_name": "Daniel",
                                    "cus_first_name": "Ellie",
                                    "cus_join_date": "2020-06-16",
                                    "cus_app_cd": "9",
                                    "tot_ord_qty": "2",
                                    "tot_ord_value": "17557.2"
                                },
                                {
                                    "cus_id": "7",
                                    "cus_last_name": "Applewood",
                                    "cus_first_name": "Carl",
                                    "cus_join_date": "2009-08-08",
                                    "cus_app_cd": "4",
                                    "tot_ord_qty": "69",
                                    "tot_ord_value": "16627"
                                },
                                {
                                    "cus_id": "8",
                                    "cus_last_name": "Jones",
                                    "cus_first_name": "Taylor",
                                    "cus_join_date": "2016-09-24",
                                    "cus_app_cd": "6",
                                    "tot_ord_qty": "29",
                                    "tot_ord_value": "13200"
                                },
                                {
                                    "cus_id": "9",
                                    "cus_last_name": "Smith",
                                    "cus_first_name": "Brandt",
                                    "cus_join_date": "2019-05-03",
                                    "cus_app_cd": "7",
                                    "tot_ord_qty": "68",
                                    "tot_ord_value": "19607"
                                },
                                {
                                    "cus_id": "10",
                                    "cus_last_name": "Roberts",
                                    "cus_first_name": "Sarah",
                                    "cus_join_date": "2019-06-14",
                                    "cus_app_cd": "5",
                                    "tot_ord_qty": "93",
                                    "tot_ord_value": "21184"
                                },
                                {
                                    "cus_id": "11",
                                    "cus_last_name": "Smith",
                                    "cus_first_name": "Adam",
                                    "cus_join_date": "2019-10-04",
                                    "cus_app_cd": "2",
                                    "tot_ord_qty": "53",
                                    "tot_ord_value": "13671"
                                },
                                {
                                    "cus_id": "12",
                                    "cus_last_name": "Jiminez",
                                    "cus_first_name": "Maggs",
                                    "cus_join_date": "2005-11-12",
                                    "cus_app_cd": "4",
                                    "tot_ord_qty": "88",
                                    "tot_ord_value": "26673"
                                },
                                {
                                    "cus_id": "13",
                                    "cus_last_name": "Slain",
                                    "cus_first_name": "Lee",
                                    "cus_join_date": "2014-07-02",
                                    "cus_app_cd": "4",
                                    "tot_ord_qty": "32",
                                    "tot_ord_value": "12234"
                                },
                                {
                                    "cus_id": "14",
                                    "cus_last_name": "Williamson",
                                    "cus_first_name": "Jonathon",
                                    "cus_join_date": "2014-01-22",
                                    "cus_app_cd": "3",
                                    "tot_ord_qty": "15",
                                    "tot_ord_value": "29110"
                                },
                                {
                                    "cus_id": "15",
                                    "cus_last_name": "Sherman",
                                    "cus_first_name": "Miguel",
                                    "cus_join_date": "2007-01-04",
                                    "cus_app_cd": "6",
                                    "tot_ord_qty": "56",
                                    "tot_ord_value": "20440"
                                },
                                {
                                    "cus_id": "16",
                                    "cus_last_name": "Manning",
                                    "cus_first_name": "Harper",
                                    "cus_join_date": "2003-06-08",
                                    "cus_app_cd": "7",
                                    "tot_ord_qty": "12",
                                    "tot_ord_value": "32895"
                                },
                                {
                                    "cus_id": "17",
                                    "cus_last_name": "Shelton",
                                    "cus_first_name": "Joshua",
                                    "cus_join_date": "2011-06-07",
                                    "cus_app_cd": "7",
                                    "tot_ord_qty": "82",
                                    "tot_ord_value": "4051"
                                },
                                {
                                    "cus_id": "18",
                                    "cus_last_name": "Brooks",
                                    "cus_first_name": "Lee",
                                    "cus_join_date": "2007-06-17",
                                    "cus_app_cd": "6",
                                    "tot_ord_qty": "42",
                                    "tot_ord_value": "5382"
                                },
                                {
                                    "cus_id": "19",
                                    "cus_last_name": "Barrister",
                                    "cus_first_name": "Brandt",
                                    "cus_join_date": "2010-07-04",
                                    "cus_app_cd": "3",
                                    "tot_ord_qty": "93",
                                    "tot_ord_value": "26824"
                                },
                                {
                                    "cus_id": "20",
                                    "cus_last_name": "Peters",
                                    "cus_first_name": "Maggs",
                                    "cus_join_date": "2005-05-15",
                                    "cus_app_cd": "6",
                                    "tot_ord_qty": "53",
                                    "tot_ord_value": "29338"
                                },
                                {
                                    "cus_id": "21",
                                    "cus_last_name": "Jones",
                                    "cus_first_name": "Piper",
                                    "cus_join_date": "2019-02-18",
                                    "cus_app_cd": "1",
                                    "tot_ord_qty": "23",
                                    "tot_ord_value": "32288"
                                },
                                {
                                    "cus_id": "22",
                                    "cus_last_name": "Ridgley",
                                    "cus_first_name": "Brian",
                                    "cus_join_date": "2011-05-18",
                                    "cus_app_cd": "7",
                                    "tot_ord_qty": "95",
                                    "tot_ord_value": "12960"
                                },
                                {
                                    "cus_id": "23",
                                    "cus_last_name": "Seiler",
                                    "cus_first_name": "Mike",
                                    "cus_join_date": "2009-07-15",
                                    "cus_app_cd": "2",
                                    "tot_ord_qty": "86",
                                    "tot_ord_value": "343"
                                },
                                {
                                    "cus_id": "24",
                                    "cus_last_name": "Smith",
                                    "cus_first_name": "Erin",
                                    "cus_join_date": "2016-02-10",
                                    "cus_app_cd": "7",
                                    "tot_ord_qty": "24",
                                    "tot_ord_value": "18141"
                                },
                                {
                                    "cus_id": "25",
                                    "cus_last_name": "Riochardson",
                                    "cus_first_name": "Miguel",
                                    "cus_join_date": "2009-05-18",
                                    "cus_app_cd": "6",
                                    "tot_ord_qty": "50",
                                    "tot_ord_value": "11681"
                                },
                                {
                                    "cus_id": "26",
                                    "cus_last_name": "Rice",
                                    "cus_first_name": "Adam",
                                    "cus_join_date": "2005-12-31",
                                    "cus_app_cd": "5",
                                    "tot_ord_qty": "98",
                                    "tot_ord_value": "33629"
                                },
                                {
                                    "cus_id": "27",
                                    "cus_last_name": "Jones",
                                    "cus_first_name": "Noel",
                                    "cus_join_date": "2003-01-17",
                                    "cus_app_cd": "2",
                                    "tot_ord_qty": "48",
                                    "tot_ord_value": "34110"
                                },
                                {
                                    "cus_id": "28",
                                    "cus_last_name": "Garth",
                                    "cus_first_name": "Brandon",
                                    "cus_join_date": "2003-04-04",
                                    "cus_app_cd": "6",
                                    "tot_ord_qty": "80",
                                    "tot_ord_value": "214"
                                },
                                {
                                    "cus_id": "29",
                                    "cus_last_name": "Saylor",
                                    "cus_first_name": "Farris",
                                    "cus_join_date": "2005-10-02",
                                    "cus_app_cd": "6",
                                    "tot_ord_qty": "49",
                                    "tot_ord_value": "219"
                                },
                                {
                                    "cus_id": "30",
                                    "cus_last_name": "Tompsen",
                                    "cus_first_name": "Taylor",
                                    "cus_join_date": "2007-12-05",
                                    "cus_app_cd": "5",
                                    "tot_ord_qty": "50",
                                    "tot_ord_value": "4456"
                                },
                                {
                                    "cus_id": "31",
                                    "cus_last_name": "Stevens",
                                    "cus_first_name": "Jonathon",
                                    "cus_join_date": "2007-06-18",
                                    "cus_app_cd": "1",
                                    "tot_ord_qty": "6",
                                    "tot_ord_value": "24289"
                                },
                                {
                                    "cus_id": "32",
                                    "cus_last_name": "Cooper",
                                    "cus_first_name": "Jack",
                                    "cus_join_date": "2005-05-28",
                                    "cus_app_cd": "7",
                                    "tot_ord_qty": "17",
                                    "tot_ord_value": "32966"
                                },
                                {
                                    "cus_id": "33",
                                    "cus_last_name": "Applewood",
                                    "cus_first_name": "Eric",
                                    "cus_join_date": "2013-04-05",
                                    "cus_app_cd": "3",
                                    "tot_ord_qty": "30",
                                    "tot_ord_value": "32149"
                                },
                                {
                                    "cus_id": "34",
                                    "cus_last_name": "Peters",
                                    "cus_first_name": "Jonathon",
                                    "cus_join_date": "2009-01-19",
                                    "cus_app_cd": "1",
                                    "tot_ord_qty": "32",
                                    "tot_ord_value": "18178"
                                },
                                {
                                    "cus_id": "35",
                                    "cus_last_name": "Manning",
                                    "cus_first_name": "Robert",
                                    "cus_join_date": "2014-02-11",
                                    "cus_app_cd": "5",
                                    "tot_ord_qty": "78",
                                    "tot_ord_value": "14867"
                                },
                                {
                                    "cus_id": "36",
                                    "cus_last_name": "Smith",
                                    "cus_first_name": "Brandt",
                                    "cus_join_date": "2008-01-18",
                                    "cus_app_cd": "1",
                                    "tot_ord_qty": "94",
                                    "tot_ord_value": "13245"
                                },
                                {
                                    "cus_id": "37",
                                    "cus_last_name": "Delacruz",
                                    "cus_first_name": "Timothy",
                                    "cus_join_date": "2006-02-11",
                                    "cus_app_cd": "5",
                                    "tot_ord_qty": "28",
                                    "tot_ord_value": "33024"
                                },
                                {
                                    "cus_id": "38",
                                    "cus_last_name": "Jackson",
                                    "cus_first_name": "Harper",
                                    "cus_join_date": "2005-09-07",
                                    "cus_app_cd": "4",
                                    "tot_ord_qty": "9",
                                    "tot_ord_value": "11960"
                                },
                                {
                                    "cus_id": "39",
                                    "cus_last_name": "Sherman",
                                    "cus_first_name": "Mads",
                                    "cus_join_date": "2016-11-22",
                                    "cus_app_cd": "7",
                                    "tot_ord_qty": "66",
                                    "tot_ord_value": "11585"
                                },
                                {
                                    "cus_id": "40",
                                    "cus_last_name": "Dickerson",
                                    "cus_first_name": "Thomas",
                                    "cus_join_date": "2001-04-25",
                                    "cus_app_cd": "6",
                                    "tot_ord_qty": "24",
                                    "tot_ord_value": "29893"
                                },
                                {
                                    "cus_id": "41",
                                    "cus_last_name": "Robinson",
                                    "cus_first_name": "Albert",
                                    "cus_join_date": "2009-06-05",
                                    "cus_app_cd": "6",
                                    "tot_ord_qty": "12",
                                    "tot_ord_value": "35560"
                                },
                                {
                                    "cus_id": "42",
                                    "cus_last_name": "MacBain",
                                    "cus_first_name": "Eric",
                                    "cus_join_date": "2017-07-06",
                                    "cus_app_cd": "5",
                                    "tot_ord_qty": "73",
                                    "tot_ord_value": "28515"
                                },
                                {
                                    "cus_id": "43",
                                    "cus_last_name": "Riochardson",
                                    "cus_first_name": "Kenadi",
                                    "cus_join_date": "2010-06-10",
                                    "cus_app_cd": "3",
                                    "tot_ord_qty": "98",
                                    "tot_ord_value": "11256"
                                },
                                {
                                    "cus_id": "44",
                                    "cus_last_name": "Jordan",
                                    "cus_first_name": "Samuel",
                                    "cus_join_date": "2005-06-25",
                                    "cus_app_cd": "7",
                                    "tot_ord_qty": "15",
                                    "tot_ord_value": "27342"
                                },
                                {
                                    "cus_id": "45",
                                    "cus_last_name": "Archibald",
                                    "cus_first_name": "Brandon",
                                    "cus_join_date": "2012-05-18",
                                    "cus_app_cd": "7",
                                    "tot_ord_qty": "76",
                                    "tot_ord_value": "7746"
                                },
                                {
                                    "cus_id": "46",
                                    "cus_last_name": "Dickerson",
                                    "cus_first_name": "Brandt",
                                    "cus_join_date": "2018-02-19",
                                    "cus_app_cd": "4",
                                    "tot_ord_qty": "9",
                                    "tot_ord_value": "16662"
                                },
                                {
                                    "cus_id": "47",
                                    "cus_last_name": "Manchester",
                                    "cus_first_name": "Brandon",
                                    "cus_join_date": "2018-12-14",
                                    "cus_app_cd": "1",
                                    "tot_ord_qty": "43",
                                    "tot_ord_value": "34586"
                                },
                                {
                                    "cus_id": "48",
                                    "cus_last_name": "Booker",
                                    "cus_first_name": "Thomas",
                                    "cus_join_date": "2010-11-23",
                                    "cus_app_cd": "2",
                                    "tot_ord_qty": "7",
                                    "tot_ord_value": "13092"
                                },
                                {
                                    "cus_id": "49",
                                    "cus_last_name": "Willis",
                                    "cus_first_name": "Margo",
                                    "cus_join_date": "2006-01-17",
                                    "cus_app_cd": "6",
                                    "tot_ord_qty": "55",
                                    "tot_ord_value": "24792"
                                },
                                {
                                    "cus_id": "50",
                                    "cus_last_name": "Garcia",
                                    "cus_first_name": "Piper",
                                    "cus_join_date": "2007-08-12",
                                    "cus_app_cd": "2",
                                    "tot_ord_qty": "22",
                                    "tot_ord_value": "6938"
                                },
                                {
                                    "cus_id": "51",
                                    "cus_last_name": "Willis",
                                    "cus_first_name": "Eric",
                                    "cus_join_date": "2007-08-15",
                                    "cus_app_cd": "4",
                                    "tot_ord_qty": "11",
                                    "tot_ord_value": "27024"
                                },
                                {
                                    "cus_id": "52",
                                    "cus_last_name": "Connery",
                                    "cus_first_name": "Brandt",
                                    "cus_join_date": "2010-12-19",
                                    "cus_app_cd": "3",
                                    "tot_ord_qty": "78",
                                    "tot_ord_value": "3610"
                                },
                                {
                                    "cus_id": "53",
                                    "cus_last_name": "Dawson",
                                    "cus_first_name": "Alister",
                                    "cus_join_date": "2001-05-24",
                                    "cus_app_cd": "3",
                                    "tot_ord_qty": "56",
                                    "tot_ord_value": "1673"
                                },
                                {
                                    "cus_id": "54",
                                    "cus_last_name": "Deleon",
                                    "cus_first_name": "Adam",
                                    "cus_join_date": "2006-09-25",
                                    "cus_app_cd": "5",
                                    "tot_ord_qty": "26",
                                    "tot_ord_value": "15177"
                                },
                                {
                                    "cus_id": "55",
                                    "cus_last_name": "Jamieson",
                                    "cus_first_name": "Brian",
                                    "cus_join_date": "2011-11-05",
                                    "cus_app_cd": "3",
                                    "tot_ord_qty": "54",
                                    "tot_ord_value": "32575"
                                },
                                {
                                    "cus_id": "56",
                                    "cus_last_name": "Garth",
                                    "cus_first_name": "Corey",
                                    "cus_join_date": "2009-04-05",
                                    "cus_app_cd": "4",
                                    "tot_ord_qty": "21",
                                    "tot_ord_value": "31237"
                                },
                                {
                                    "cus_id": "57",
                                    "cus_last_name": "Rowley",
                                    "cus_first_name": "Timothy",
                                    "cus_join_date": "2007-08-19",
                                    "cus_app_cd": "4",
                                    "tot_ord_qty": "71",
                                    "tot_ord_value": "34904"
                                },
                                {
                                    "cus_id": "58",
                                    "cus_last_name": "Bangeson",
                                    "cus_first_name": "Moritz",
                                    "cus_join_date": "2008-03-29",
                                    "cus_app_cd": "4",
                                    "tot_ord_qty": "92",
                                    "tot_ord_value": "9206"
                                },
                                {
                                    "cus_id": "59",
                                    "cus_last_name": "Jones",
                                    "cus_first_name": "Timothy",
                                    "cus_join_date": "2002-04-05",
                                    "cus_app_cd": "2",
                                    "tot_ord_qty": "88",
                                    "tot_ord_value": "12456"
                                },
                                {
                                    "cus_id": "60",
                                    "cus_last_name": "French",
                                    "cus_first_name": "Summer",
                                    "cus_join_date": "2015-05-28",
                                    "cus_app_cd": "5",
                                    "tot_ord_qty": "11",
                                    "tot_ord_value": "13415"
                                },
                                {
                                    "cus_id": "61",
                                    "cus_last_name": "Ellis",
                                    "cus_first_name": "Mindy",
                                    "cus_join_date": "2001-01-14",
                                    "cus_app_cd": "3",
                                    "tot_ord_qty": "85",
                                    "tot_ord_value": "15895"
                                },
                                {
                                    "cus_id": "62",
                                    "cus_last_name": "Deleon",
                                    "cus_first_name": "Mike",
                                    "cus_join_date": "2013-01-02",
                                    "cus_app_cd": "1",
                                    "tot_ord_qty": "55",
                                    "tot_ord_value": "8770"
                                },
                                {
                                    "cus_id": "63",
                                    "cus_last_name": "Shelton",
                                    "cus_first_name": "Leah",
                                    "cus_join_date": "2013-03-29",
                                    "cus_app_cd": "3",
                                    "tot_ord_qty": "66",
                                    "tot_ord_value": "10363"
                                },
                                {
                                    "cus_id": "64",
                                    "cus_last_name": "Ellis",
                                    "cus_first_name": "Robert",
                                    "cus_join_date": "2013-01-31",
                                    "cus_app_cd": "4",
                                    "tot_ord_qty": "46",
                                    "tot_ord_value": "26844"
                                },
                                {
                                    "cus_id": "65",
                                    "cus_last_name": "Smith-Warren",
                                    "cus_first_name": "Summer",
                                    "cus_join_date": "2003-12-10",
                                    "cus_app_cd": "7",
                                    "tot_ord_qty": "65",
                                    "tot_ord_value": "34927"
                                },
                                {
                                    "cus_id": "66",
                                    "cus_last_name": "Manchester",
                                    "cus_first_name": "Airn",
                                    "cus_join_date": "2019-09-14",
                                    "cus_app_cd": "2",
                                    "tot_ord_qty": "29",
                                    "tot_ord_value": "18443"
                                },
                                {
                                    "cus_id": "67",
                                    "cus_last_name": "Harper",
                                    "cus_first_name": "Robert",
                                    "cus_join_date": "2015-11-04",
                                    "cus_app_cd": "3",
                                    "tot_ord_qty": "44",
                                    "tot_ord_value": "2397"
                                },
                                {
                                    "cus_id": "68",
                                    "cus_last_name": "Manning",
                                    "cus_first_name": "Mindy",
                                    "cus_join_date": "2015-12-30",
                                    "cus_app_cd": "7",
                                    "tot_ord_qty": "48",
                                    "tot_ord_value": "10850"
                                },
                                {
                                    "cus_id": "69",
                                    "cus_last_name": "Etzler",
                                    "cus_first_name": "Summer",
                                    "cus_join_date": "2002-03-30",
                                    "cus_app_cd": "6",
                                    "tot_ord_qty": "54",
                                    "tot_ord_value": "18814"
                                },
                                {
                                    "cus_id": "70",
                                    "cus_last_name": "Sanchez",
                                    "cus_first_name": "Harper",
                                    "cus_join_date": "2017-06-07",
                                    "cus_app_cd": "3",
                                    "tot_ord_qty": "46",
                                    "tot_ord_value": "24331"
                                },
                                {
                                    "cus_id": "71",
                                    "cus_last_name": "MacBain",
                                    "cus_first_name": "Mike",
                                    "cus_join_date": "2012-10-08",
                                    "cus_app_cd": "2",
                                    "tot_ord_qty": "40",
                                    "tot_ord_value": "29269"
                                },
                                {
                                    "cus_id": "72",
                                    "cus_last_name": "Rice",
                                    "cus_first_name": "Manuel",
                                    "cus_join_date": "2006-10-04",
                                    "cus_app_cd": "6",
                                    "tot_ord_qty": "88",
                                    "tot_ord_value": "34148"
                                },
                                {
                                    "cus_id": "73",
                                    "cus_last_name": "Garcia",
                                    "cus_first_name": "Valerie",
                                    "cus_join_date": "2007-03-04",
                                    "cus_app_cd": "2",
                                    "tot_ord_qty": "85",
                                    "tot_ord_value": "3769"
                                },
                                {
                                    "cus_id": "74",
                                    "cus_last_name": "Deleon",
                                    "cus_first_name": "Blain",
                                    "cus_join_date": "2007-10-23",
                                    "cus_app_cd": "1",
                                    "tot_ord_qty": "89",
                                    "tot_ord_value": "19769"
                                },
                                {
                                    "cus_id": "75",
                                    "cus_last_name": "Jones",
                                    "cus_first_name": "Leah",
                                    "cus_join_date": "2015-11-10",
                                    "cus_app_cd": "6",
                                    "tot_ord_qty": "41",
                                    "tot_ord_value": "18703"
                                },
                                {
                                    "cus_id": "76",
                                    "cus_last_name": "Slain",
                                    "cus_first_name": "Mike",
                                    "cus_join_date": "2005-10-03",
                                    "cus_app_cd": "3",
                                    "tot_ord_qty": "82",
                                    "tot_ord_value": "15372"
                                },
                                {
                                    "cus_id": "77",
                                    "cus_last_name": "Riochardson",
                                    "cus_first_name": "Farris",
                                    "cus_join_date": "2001-04-20",
                                    "cus_app_cd": "1",
                                    "tot_ord_qty": "31",
                                    "tot_ord_value": "9710"
                                },
                                {
                                    "cus_id": "78",
                                    "cus_last_name": "Acosta",
                                    "cus_first_name": "Harper",
                                    "cus_join_date": "2018-06-05",
                                    "cus_app_cd": "4",
                                    "tot_ord_qty": "2",
                                    "tot_ord_value": "16248"
                                },
                                {
                                    "cus_id": "79",
                                    "cus_last_name": "Roberts",
                                    "cus_first_name": "George",
                                    "cus_join_date": "2003-04-09",
                                    "cus_app_cd": "5",
                                    "tot_ord_qty": "28",
                                    "tot_ord_value": "33987"
                                },
                                {
                                    "cus_id": "80",
                                    "cus_last_name": "Jones",
                                    "cus_first_name": "Maggs",
                                    "cus_join_date": "2010-08-11",
                                    "cus_app_cd": "6",
                                    "tot_ord_qty": "79",
                                    "tot_ord_value": "29936"
                                },
                                {
                                    "cus_id": "81",
                                    "cus_last_name": "Smith-Warren",
                                    "cus_first_name": "Brandt",
                                    "cus_join_date": "2019-11-01",
                                    "cus_app_cd": "2",
                                    "tot_ord_qty": "17",
                                    "tot_ord_value": "32534"
                                },
                                {
                                    "cus_id": "82",
                                    "cus_last_name": "Archibald",
                                    "cus_first_name": "Moritz",
                                    "cus_join_date": "2014-07-05",
                                    "cus_app_cd": "4",
                                    "tot_ord_qty": "26",
                                    "tot_ord_value": "13809"
                                },
                                {
                                    "cus_id": "83",
                                    "cus_last_name": "Tankersly",
                                    "cus_first_name": "Robert",
                                    "cus_join_date": "2014-03-26",
                                    "cus_app_cd": "5",
                                    "tot_ord_qty": "29",
                                    "tot_ord_value": "7916"
                                },
                                {
                                    "cus_id": "84",
                                    "cus_last_name": "Monk",
                                    "cus_first_name": "Jonathon",
                                    "cus_join_date": "2006-02-18",
                                    "cus_app_cd": "5",
                                    "tot_ord_qty": "47",
                                    "tot_ord_value": "8794"
                                },
                                {
                                    "cus_id": "85",
                                    "cus_last_name": "Stevens",
                                    "cus_first_name": "Piper",
                                    "cus_join_date": "2011-11-22",
                                    "cus_app_cd": "7",
                                    "tot_ord_qty": "55",
                                    "tot_ord_value": "15942"
                                },
                                {
                                    "cus_id": "86",
                                    "cus_last_name": "Etzler",
                                    "cus_first_name": "Thomas",
                                    "cus_join_date": "2006-12-29",
                                    "cus_app_cd": "4",
                                    "tot_ord_qty": "59",
                                    "tot_ord_value": "570"
                                },
                                {
                                    "cus_id": "87",
                                    "cus_last_name": "Conley",
                                    "cus_first_name": "Mindy",
                                    "cus_join_date": "2003-04-02",
                                    "cus_app_cd": "5",
                                    "tot_ord_qty": "21",
                                    "tot_ord_value": "10108"
                                },
                                {
                                    "cus_id": "88",
                                    "cus_last_name": "Smith",
                                    "cus_first_name": "Tristan",
                                    "cus_join_date": "2010-10-10",
                                    "cus_app_cd": "2",
                                    "tot_ord_qty": "27",
                                    "tot_ord_value": "11050"
                                },
                                {
                                    "cus_id": "89",
                                    "cus_last_name": "Hart",
                                    "cus_first_name": "Brandon",
                                    "cus_join_date": "2011-10-03",
                                    "cus_app_cd": "7",
                                    "tot_ord_qty": "51",
                                    "tot_ord_value": "558"
                                },
                                {
                                    "cus_id": "90",
                                    "cus_last_name": "Presten",
                                    "cus_first_name": "Chris",
                                    "cus_join_date": "2019-08-12",
                                    "cus_app_cd": "5",
                                    "tot_ord_qty": "8",
                                    "tot_ord_value": "31682"
                                },
                                {
                                    "cus_id": "91",
                                    "cus_last_name": "Delacruz",
                                    "cus_first_name": "Adam",
                                    "cus_join_date": "2006-04-15",
                                    "cus_app_cd": "6",
                                    "tot_ord_qty": "53",
                                    "tot_ord_value": "3901"
                                },
                                {
                                    "cus_id": "92",
                                    "cus_last_name": "Banks",
                                    "cus_first_name": "Timothy",
                                    "cus_join_date": "2010-11-12",
                                    "cus_app_cd": "5",
                                    "tot_ord_qty": "35",
                                    "tot_ord_value": "17503"
                                },
                                {
                                    "cus_id": "93",
                                    "cus_last_name": "Johnasen",
                                    "cus_first_name": "Adam",
                                    "cus_join_date": "2017-04-26",
                                    "cus_app_cd": "7",
                                    "tot_ord_qty": "96",
                                    "tot_ord_value": "28024"
                                },
                                {
                                    "cus_id": "94",
                                    "cus_last_name": "Barrister",
                                    "cus_first_name": "George",
                                    "cus_join_date": "2013-02-06",
                                    "cus_app_cd": "7",
                                    "tot_ord_qty": "25",
                                    "tot_ord_value": "20770"
                                },
                                {
                                    "cus_id": "95",
                                    "cus_last_name": "Manchester",
                                    "cus_first_name": "Jasmine",
                                    "cus_join_date": "2019-01-17",
                                    "cus_app_cd": "3",
                                    "tot_ord_qty": "75",
                                    "tot_ord_value": "7223"
                                },
                                {
                                    "cus_id": "96",
                                    "cus_last_name": "Manning",
                                    "cus_first_name": "Kristoff",
                                    "cus_join_date": "2017-08-19",
                                    "cus_app_cd": "3",
                                    "tot_ord_qty": "25",
                                    "tot_ord_value": "9650"
                                },
                                {
                                    "cus_id": "97",
                                    "cus_last_name": "Moore",
                                    "cus_first_name": "Farris",
                                    "cus_join_date": "2009-02-22",
                                    "cus_app_cd": "1",
                                    "tot_ord_qty": "43",
                                    "tot_ord_value": "27060"
                                },
                                {
                                    "cus_id": "98",
                                    "cus_last_name": "French",
                                    "cus_first_name": "Leah",
                                    "cus_join_date": "2015-12-12",
                                    "cus_app_cd": "3",
                                    "tot_ord_qty": "34",
                                    "tot_ord_value": "19868"
                                },
                                {
                                    "cus_id": "99",
                                    "cus_last_name": "Manning",
                                    "cus_first_name": "Mike",
                                    "cus_join_date": "2009-01-12",
                                    "cus_app_cd": "1",
                                    "tot_ord_qty": "8",
                                    "tot_ord_value": "2308"
                                },
                                {
                                    "cus_id": "100",
                                    "cus_last_name": "Presten",
                                    "cus_first_name": "Corey",
                                    "cus_join_date": "2009-08-19",
                                    "cus_app_cd": "2",
                                    "tot_ord_qty": "82",
                                    "tot_ord_value": "21106"
                                }
                            ]
                        },
                        "text/html": [
                            "<table>",
                            "<tr><th>cus_id</th><th>cus_last_name</th><th>cus_first_name</th><th>cus_join_date</th><th>cus_app_cd</th><th>tot_ord_qty</th><th>tot_ord_value</th></tr>",
                            "<tr><td>627</td><td>Presley</td><td>Erin</td><td>2018-11-26</td><td>1</td><td>64</td><td>21532</td></tr>",
                            "<tr><td>1255</td><td>Cooper</td><td>Carl</td><td>2016-03-27</td><td>1</td><td>97</td><td>16208</td></tr>",
                            "<tr><td>2241</td><td>Jamieson</td><td>Noel</td><td>2012-11-24</td><td>2</td><td>52</td><td>24171</td></tr>",
                            "<tr><td>2617</td><td>Mathiasen</td><td>Ulrich</td><td>2020-01-27</td><td>18</td><td>45</td><td>27099.12</td></tr>",
                            "<tr><td>2618</td><td>Kemp</td><td>Susanne</td><td>2020-12-11</td><td>23</td><td>13</td><td>3074.41</td></tr>",
                            "<tr><td>2619</td><td>Daniel</td><td>Ellie</td><td>2020-06-16</td><td>9</td><td>2</td><td>17557.2</td></tr>",
                            "<tr><td>7</td><td>Applewood</td><td>Carl</td><td>2009-08-08</td><td>4</td><td>69</td><td>16627</td></tr>",
                            "<tr><td>8</td><td>Jones</td><td>Taylor</td><td>2016-09-24</td><td>6</td><td>29</td><td>13200</td></tr>",
                            "<tr><td>9</td><td>Smith</td><td>Brandt</td><td>2019-05-03</td><td>7</td><td>68</td><td>19607</td></tr>",
                            "<tr><td>10</td><td>Roberts</td><td>Sarah</td><td>2019-06-14</td><td>5</td><td>93</td><td>21184</td></tr>",
                            "<tr><td>11</td><td>Smith</td><td>Adam</td><td>2019-10-04</td><td>2</td><td>53</td><td>13671</td></tr>",
                            "<tr><td>12</td><td>Jiminez</td><td>Maggs</td><td>2005-11-12</td><td>4</td><td>88</td><td>26673</td></tr>",
                            "<tr><td>13</td><td>Slain</td><td>Lee</td><td>2014-07-02</td><td>4</td><td>32</td><td>12234</td></tr>",
                            "<tr><td>14</td><td>Williamson</td><td>Jonathon</td><td>2014-01-22</td><td>3</td><td>15</td><td>29110</td></tr>",
                            "<tr><td>15</td><td>Sherman</td><td>Miguel</td><td>2007-01-04</td><td>6</td><td>56</td><td>20440</td></tr>",
                            "<tr><td>16</td><td>Manning</td><td>Harper</td><td>2003-06-08</td><td>7</td><td>12</td><td>32895</td></tr>",
                            "<tr><td>17</td><td>Shelton</td><td>Joshua</td><td>2011-06-07</td><td>7</td><td>82</td><td>4051</td></tr>",
                            "<tr><td>18</td><td>Brooks</td><td>Lee</td><td>2007-06-17</td><td>6</td><td>42</td><td>5382</td></tr>",
                            "<tr><td>19</td><td>Barrister</td><td>Brandt</td><td>2010-07-04</td><td>3</td><td>93</td><td>26824</td></tr>",
                            "<tr><td>20</td><td>Peters</td><td>Maggs</td><td>2005-05-15</td><td>6</td><td>53</td><td>29338</td></tr>",
                            "<tr><td>21</td><td>Jones</td><td>Piper</td><td>2019-02-18</td><td>1</td><td>23</td><td>32288</td></tr>",
                            "<tr><td>22</td><td>Ridgley</td><td>Brian</td><td>2011-05-18</td><td>7</td><td>95</td><td>12960</td></tr>",
                            "<tr><td>23</td><td>Seiler</td><td>Mike</td><td>2009-07-15</td><td>2</td><td>86</td><td>343</td></tr>",
                            "<tr><td>24</td><td>Smith</td><td>Erin</td><td>2016-02-10</td><td>7</td><td>24</td><td>18141</td></tr>",
                            "<tr><td>25</td><td>Riochardson</td><td>Miguel</td><td>2009-05-18</td><td>6</td><td>50</td><td>11681</td></tr>",
                            "<tr><td>26</td><td>Rice</td><td>Adam</td><td>2005-12-31</td><td>5</td><td>98</td><td>33629</td></tr>",
                            "<tr><td>27</td><td>Jones</td><td>Noel</td><td>2003-01-17</td><td>2</td><td>48</td><td>34110</td></tr>",
                            "<tr><td>28</td><td>Garth</td><td>Brandon</td><td>2003-04-04</td><td>6</td><td>80</td><td>214</td></tr>",
                            "<tr><td>29</td><td>Saylor</td><td>Farris</td><td>2005-10-02</td><td>6</td><td>49</td><td>219</td></tr>",
                            "<tr><td>30</td><td>Tompsen</td><td>Taylor</td><td>2007-12-05</td><td>5</td><td>50</td><td>4456</td></tr>",
                            "<tr><td>31</td><td>Stevens</td><td>Jonathon</td><td>2007-06-18</td><td>1</td><td>6</td><td>24289</td></tr>",
                            "<tr><td>32</td><td>Cooper</td><td>Jack</td><td>2005-05-28</td><td>7</td><td>17</td><td>32966</td></tr>",
                            "<tr><td>33</td><td>Applewood</td><td>Eric</td><td>2013-04-05</td><td>3</td><td>30</td><td>32149</td></tr>",
                            "<tr><td>34</td><td>Peters</td><td>Jonathon</td><td>2009-01-19</td><td>1</td><td>32</td><td>18178</td></tr>",
                            "<tr><td>35</td><td>Manning</td><td>Robert</td><td>2014-02-11</td><td>5</td><td>78</td><td>14867</td></tr>",
                            "<tr><td>36</td><td>Smith</td><td>Brandt</td><td>2008-01-18</td><td>1</td><td>94</td><td>13245</td></tr>",
                            "<tr><td>37</td><td>Delacruz</td><td>Timothy</td><td>2006-02-11</td><td>5</td><td>28</td><td>33024</td></tr>",
                            "<tr><td>38</td><td>Jackson</td><td>Harper</td><td>2005-09-07</td><td>4</td><td>9</td><td>11960</td></tr>",
                            "<tr><td>39</td><td>Sherman</td><td>Mads</td><td>2016-11-22</td><td>7</td><td>66</td><td>11585</td></tr>",
                            "<tr><td>40</td><td>Dickerson</td><td>Thomas</td><td>2001-04-25</td><td>6</td><td>24</td><td>29893</td></tr>",
                            "<tr><td>41</td><td>Robinson</td><td>Albert</td><td>2009-06-05</td><td>6</td><td>12</td><td>35560</td></tr>",
                            "<tr><td>42</td><td>MacBain</td><td>Eric</td><td>2017-07-06</td><td>5</td><td>73</td><td>28515</td></tr>",
                            "<tr><td>43</td><td>Riochardson</td><td>Kenadi</td><td>2010-06-10</td><td>3</td><td>98</td><td>11256</td></tr>",
                            "<tr><td>44</td><td>Jordan</td><td>Samuel</td><td>2005-06-25</td><td>7</td><td>15</td><td>27342</td></tr>",
                            "<tr><td>45</td><td>Archibald</td><td>Brandon</td><td>2012-05-18</td><td>7</td><td>76</td><td>7746</td></tr>",
                            "<tr><td>46</td><td>Dickerson</td><td>Brandt</td><td>2018-02-19</td><td>4</td><td>9</td><td>16662</td></tr>",
                            "<tr><td>47</td><td>Manchester</td><td>Brandon</td><td>2018-12-14</td><td>1</td><td>43</td><td>34586</td></tr>",
                            "<tr><td>48</td><td>Booker</td><td>Thomas</td><td>2010-11-23</td><td>2</td><td>7</td><td>13092</td></tr>",
                            "<tr><td>49</td><td>Willis</td><td>Margo</td><td>2006-01-17</td><td>6</td><td>55</td><td>24792</td></tr>",
                            "<tr><td>50</td><td>Garcia</td><td>Piper</td><td>2007-08-12</td><td>2</td><td>22</td><td>6938</td></tr>",
                            "<tr><td>51</td><td>Willis</td><td>Eric</td><td>2007-08-15</td><td>4</td><td>11</td><td>27024</td></tr>",
                            "<tr><td>52</td><td>Connery</td><td>Brandt</td><td>2010-12-19</td><td>3</td><td>78</td><td>3610</td></tr>",
                            "<tr><td>53</td><td>Dawson</td><td>Alister</td><td>2001-05-24</td><td>3</td><td>56</td><td>1673</td></tr>",
                            "<tr><td>54</td><td>Deleon</td><td>Adam</td><td>2006-09-25</td><td>5</td><td>26</td><td>15177</td></tr>",
                            "<tr><td>55</td><td>Jamieson</td><td>Brian</td><td>2011-11-05</td><td>3</td><td>54</td><td>32575</td></tr>",
                            "<tr><td>56</td><td>Garth</td><td>Corey</td><td>2009-04-05</td><td>4</td><td>21</td><td>31237</td></tr>",
                            "<tr><td>57</td><td>Rowley</td><td>Timothy</td><td>2007-08-19</td><td>4</td><td>71</td><td>34904</td></tr>",
                            "<tr><td>58</td><td>Bangeson</td><td>Moritz</td><td>2008-03-29</td><td>4</td><td>92</td><td>9206</td></tr>",
                            "<tr><td>59</td><td>Jones</td><td>Timothy</td><td>2002-04-05</td><td>2</td><td>88</td><td>12456</td></tr>",
                            "<tr><td>60</td><td>French</td><td>Summer</td><td>2015-05-28</td><td>5</td><td>11</td><td>13415</td></tr>",
                            "<tr><td>61</td><td>Ellis</td><td>Mindy</td><td>2001-01-14</td><td>3</td><td>85</td><td>15895</td></tr>",
                            "<tr><td>62</td><td>Deleon</td><td>Mike</td><td>2013-01-02</td><td>1</td><td>55</td><td>8770</td></tr>",
                            "<tr><td>63</td><td>Shelton</td><td>Leah</td><td>2013-03-29</td><td>3</td><td>66</td><td>10363</td></tr>",
                            "<tr><td>64</td><td>Ellis</td><td>Robert</td><td>2013-01-31</td><td>4</td><td>46</td><td>26844</td></tr>",
                            "<tr><td>65</td><td>Smith-Warren</td><td>Summer</td><td>2003-12-10</td><td>7</td><td>65</td><td>34927</td></tr>",
                            "<tr><td>66</td><td>Manchester</td><td>Airn</td><td>2019-09-14</td><td>2</td><td>29</td><td>18443</td></tr>",
                            "<tr><td>67</td><td>Harper</td><td>Robert</td><td>2015-11-04</td><td>3</td><td>44</td><td>2397</td></tr>",
                            "<tr><td>68</td><td>Manning</td><td>Mindy</td><td>2015-12-30</td><td>7</td><td>48</td><td>10850</td></tr>",
                            "<tr><td>69</td><td>Etzler</td><td>Summer</td><td>2002-03-30</td><td>6</td><td>54</td><td>18814</td></tr>",
                            "<tr><td>70</td><td>Sanchez</td><td>Harper</td><td>2017-06-07</td><td>3</td><td>46</td><td>24331</td></tr>",
                            "<tr><td>71</td><td>MacBain</td><td>Mike</td><td>2012-10-08</td><td>2</td><td>40</td><td>29269</td></tr>",
                            "<tr><td>72</td><td>Rice</td><td>Manuel</td><td>2006-10-04</td><td>6</td><td>88</td><td>34148</td></tr>",
                            "<tr><td>73</td><td>Garcia</td><td>Valerie</td><td>2007-03-04</td><td>2</td><td>85</td><td>3769</td></tr>",
                            "<tr><td>74</td><td>Deleon</td><td>Blain</td><td>2007-10-23</td><td>1</td><td>89</td><td>19769</td></tr>",
                            "<tr><td>75</td><td>Jones</td><td>Leah</td><td>2015-11-10</td><td>6</td><td>41</td><td>18703</td></tr>",
                            "<tr><td>76</td><td>Slain</td><td>Mike</td><td>2005-10-03</td><td>3</td><td>82</td><td>15372</td></tr>",
                            "<tr><td>77</td><td>Riochardson</td><td>Farris</td><td>2001-04-20</td><td>1</td><td>31</td><td>9710</td></tr>",
                            "<tr><td>78</td><td>Acosta</td><td>Harper</td><td>2018-06-05</td><td>4</td><td>2</td><td>16248</td></tr>",
                            "<tr><td>79</td><td>Roberts</td><td>George</td><td>2003-04-09</td><td>5</td><td>28</td><td>33987</td></tr>",
                            "<tr><td>80</td><td>Jones</td><td>Maggs</td><td>2010-08-11</td><td>6</td><td>79</td><td>29936</td></tr>",
                            "<tr><td>81</td><td>Smith-Warren</td><td>Brandt</td><td>2019-11-01</td><td>2</td><td>17</td><td>32534</td></tr>",
                            "<tr><td>82</td><td>Archibald</td><td>Moritz</td><td>2014-07-05</td><td>4</td><td>26</td><td>13809</td></tr>",
                            "<tr><td>83</td><td>Tankersly</td><td>Robert</td><td>2014-03-26</td><td>5</td><td>29</td><td>7916</td></tr>",
                            "<tr><td>84</td><td>Monk</td><td>Jonathon</td><td>2006-02-18</td><td>5</td><td>47</td><td>8794</td></tr>",
                            "<tr><td>85</td><td>Stevens</td><td>Piper</td><td>2011-11-22</td><td>7</td><td>55</td><td>15942</td></tr>",
                            "<tr><td>86</td><td>Etzler</td><td>Thomas</td><td>2006-12-29</td><td>4</td><td>59</td><td>570</td></tr>",
                            "<tr><td>87</td><td>Conley</td><td>Mindy</td><td>2003-04-02</td><td>5</td><td>21</td><td>10108</td></tr>",
                            "<tr><td>88</td><td>Smith</td><td>Tristan</td><td>2010-10-10</td><td>2</td><td>27</td><td>11050</td></tr>",
                            "<tr><td>89</td><td>Hart</td><td>Brandon</td><td>2011-10-03</td><td>7</td><td>51</td><td>558</td></tr>",
                            "<tr><td>90</td><td>Presten</td><td>Chris</td><td>2019-08-12</td><td>5</td><td>8</td><td>31682</td></tr>",
                            "<tr><td>91</td><td>Delacruz</td><td>Adam</td><td>2006-04-15</td><td>6</td><td>53</td><td>3901</td></tr>",
                            "<tr><td>92</td><td>Banks</td><td>Timothy</td><td>2010-11-12</td><td>5</td><td>35</td><td>17503</td></tr>",
                            "<tr><td>93</td><td>Johnasen</td><td>Adam</td><td>2017-04-26</td><td>7</td><td>96</td><td>28024</td></tr>",
                            "<tr><td>94</td><td>Barrister</td><td>George</td><td>2013-02-06</td><td>7</td><td>25</td><td>20770</td></tr>",
                            "<tr><td>95</td><td>Manchester</td><td>Jasmine</td><td>2019-01-17</td><td>3</td><td>75</td><td>7223</td></tr>",
                            "<tr><td>96</td><td>Manning</td><td>Kristoff</td><td>2017-08-19</td><td>3</td><td>25</td><td>9650</td></tr>",
                            "<tr><td>97</td><td>Moore</td><td>Farris</td><td>2009-02-22</td><td>1</td><td>43</td><td>27060</td></tr>",
                            "<tr><td>98</td><td>French</td><td>Leah</td><td>2015-12-12</td><td>3</td><td>34</td><td>19868</td></tr>",
                            "<tr><td>99</td><td>Manning</td><td>Mike</td><td>2009-01-12</td><td>1</td><td>8</td><td>2308</td></tr>",
                            "<tr><td>100</td><td>Presten</td><td>Corey</td><td>2009-08-19</td><td>2</td><td>82</td><td>21106</td></tr>",
                            "</table>"
                        ]
                    }
                }
            ],
            "execution_count": 141
        },
        {
            "cell_type": "code",
            "source": [
                ""
            ],
            "metadata": {
                "language": "sql",
                "azdata_cell_guid": "e3c76f43-8693-434a-b9ed-be07acdb6e7c"
            },
            "outputs": [
                {
                    "output_type": "display_data",
                    "data": {
                        "text/html": "Total execution time: 00:00:00"
                    },
                    "metadata": {}
                }
            ],
            "execution_count": 142
        },
        {
            "cell_type": "code",
            "source": [
                "SELECT \r\n",
                "    cus_id, \r\n",
                "    cus_last_name, \r\n",
                "    cus_first_name, \r\n",
                "    CASE \r\n",
                "        WHEN cus_join_date = '2020-12-12' THEN NULL \r\n",
                "        ELSE cus_join_date \r\n",
                "    END AS customer_join_date, \r\n",
                "    cus_app_cd\r\n",
                "FROM \r\n",
                "    DSCI_504.customers\r\n",
                "WHERE \r\n",
                "    cus_join_date > '2020-01-01';\r\n",
                ""
            ],
            "metadata": {
                "language": "sql",
                "azdata_cell_guid": "f65e836e-78f2-4e4c-b3ae-6cd3d550bc90"
            },
            "outputs": [
                {
                    "output_type": "display_data",
                    "data": {
                        "text/html": "(20 row(s) affected)"
                    },
                    "metadata": {}
                },
                {
                    "output_type": "display_data",
                    "data": {
                        "text/html": "Total execution time: 00:00:00.006"
                    },
                    "metadata": {}
                },
                {
                    "output_type": "execute_result",
                    "metadata": {},
                    "execution_count": 145,
                    "data": {
                        "application/vnd.dataresource+json": {
                            "schema": {
                                "fields": [
                                    {
                                        "name": "cus_id"
                                    },
                                    {
                                        "name": "cus_last_name"
                                    },
                                    {
                                        "name": "cus_first_name"
                                    },
                                    {
                                        "name": "customer_join_date"
                                    },
                                    {
                                        "name": "cus_app_cd"
                                    }
                                ]
                            },
                            "data": [
                                {
                                    "cus_id": "2617",
                                    "cus_last_name": "Mathiasen",
                                    "cus_first_name": "Ulrich",
                                    "customer_join_date": "2020-01-27",
                                    "cus_app_cd": "18"
                                },
                                {
                                    "cus_id": "2618",
                                    "cus_last_name": "Kemp",
                                    "cus_first_name": "Susanne",
                                    "customer_join_date": "2020-12-11",
                                    "cus_app_cd": "23"
                                },
                                {
                                    "cus_id": "2619",
                                    "cus_last_name": "Daniel",
                                    "cus_first_name": "Ellie",
                                    "customer_join_date": "2020-06-16",
                                    "cus_app_cd": "9"
                                },
                                {
                                    "cus_id": "2600",
                                    "cus_last_name": "Holzer",
                                    "cus_first_name": "Yeni",
                                    "customer_join_date": "2020-11-22",
                                    "cus_app_cd": "5"
                                },
                                {
                                    "cus_id": "2601",
                                    "cus_last_name": "Hull",
                                    "cus_first_name": "Tancredo",
                                    "customer_join_date": "2020-04-19",
                                    "cus_app_cd": "9"
                                },
                                {
                                    "cus_id": "2602",
                                    "cus_last_name": "Sokol",
                                    "cus_first_name": "Teodor",
                                    "customer_join_date": "2020-04-15",
                                    "cus_app_cd": "14"
                                },
                                {
                                    "cus_id": "2603",
                                    "cus_last_name": "Barnes",
                                    "cus_first_name": "Theo",
                                    "customer_join_date": "2020-09-14",
                                    "cus_app_cd": "18"
                                },
                                {
                                    "cus_id": "2604",
                                    "cus_last_name": "Tempest",
                                    "cus_first_name": "Simone",
                                    "customer_join_date": "2020-06-24",
                                    "cus_app_cd": "11"
                                },
                                {
                                    "cus_id": "2605",
                                    "cus_last_name": "Bullock",
                                    "cus_first_name": "Pankaj",
                                    "customer_join_date": "2020-03-20",
                                    "cus_app_cd": "3"
                                },
                                {
                                    "cus_id": "2606",
                                    "cus_last_name": "Ware",
                                    "cus_first_name": "Reina",
                                    "customer_join_date": "2020-09-21",
                                    "cus_app_cd": "6"
                                },
                                {
                                    "cus_id": "2607",
                                    "cus_last_name": "Ray",
                                    "cus_first_name": "Rosalin",
                                    "customer_join_date": "2020-06-06",
                                    "cus_app_cd": "9"
                                },
                                {
                                    "cus_id": "2608",
                                    "cus_last_name": "Stark",
                                    "cus_first_name": "Herb",
                                    "customer_join_date": "2020-06-27",
                                    "cus_app_cd": "5"
                                },
                                {
                                    "cus_id": "2609",
                                    "cus_last_name": "Bohme",
                                    "cus_first_name": "Bohuslav",
                                    "customer_join_date": "NULL",
                                    "cus_app_cd": "19"
                                },
                                {
                                    "cus_id": "2610",
                                    "cus_last_name": "Atkins",
                                    "cus_first_name": "Wilkie",
                                    "customer_join_date": "2020-03-23",
                                    "cus_app_cd": "5"
                                },
                                {
                                    "cus_id": "2611",
                                    "cus_last_name": "Ranutt",
                                    "cus_first_name": "Judd",
                                    "customer_join_date": "2020-04-11",
                                    "cus_app_cd": "23"
                                },
                                {
                                    "cus_id": "2612",
                                    "cus_last_name": "Smith",
                                    "cus_first_name": "Franklin",
                                    "customer_join_date": "2020-09-05",
                                    "cus_app_cd": "12"
                                },
                                {
                                    "cus_id": "2613",
                                    "cus_last_name": "Biermann",
                                    "cus_first_name": "Ingomar",
                                    "customer_join_date": "2020-03-27",
                                    "cus_app_cd": "17"
                                },
                                {
                                    "cus_id": "2614",
                                    "cus_last_name": "Floro",
                                    "cus_first_name": "Black",
                                    "customer_join_date": "2020-06-08",
                                    "cus_app_cd": "5"
                                },
                                {
                                    "cus_id": "2615",
                                    "cus_last_name": "Okafor",
                                    "cus_first_name": "Bendict",
                                    "customer_join_date": "2020-03-31",
                                    "cus_app_cd": "23"
                                },
                                {
                                    "cus_id": "2616",
                                    "cus_last_name": "Chandrakat",
                                    "cus_first_name": "Masters",
                                    "customer_join_date": "2020-08-21",
                                    "cus_app_cd": "15"
                                }
                            ]
                        },
                        "text/html": [
                            "<table>",
                            "<tr><th>cus_id</th><th>cus_last_name</th><th>cus_first_name</th><th>customer_join_date</th><th>cus_app_cd</th></tr>",
                            "<tr><td>2617</td><td>Mathiasen</td><td>Ulrich</td><td>2020-01-27</td><td>18</td></tr>",
                            "<tr><td>2618</td><td>Kemp</td><td>Susanne</td><td>2020-12-11</td><td>23</td></tr>",
                            "<tr><td>2619</td><td>Daniel</td><td>Ellie</td><td>2020-06-16</td><td>9</td></tr>",
                            "<tr><td>2600</td><td>Holzer</td><td>Yeni</td><td>2020-11-22</td><td>5</td></tr>",
                            "<tr><td>2601</td><td>Hull</td><td>Tancredo</td><td>2020-04-19</td><td>9</td></tr>",
                            "<tr><td>2602</td><td>Sokol</td><td>Teodor</td><td>2020-04-15</td><td>14</td></tr>",
                            "<tr><td>2603</td><td>Barnes</td><td>Theo</td><td>2020-09-14</td><td>18</td></tr>",
                            "<tr><td>2604</td><td>Tempest</td><td>Simone</td><td>2020-06-24</td><td>11</td></tr>",
                            "<tr><td>2605</td><td>Bullock</td><td>Pankaj</td><td>2020-03-20</td><td>3</td></tr>",
                            "<tr><td>2606</td><td>Ware</td><td>Reina</td><td>2020-09-21</td><td>6</td></tr>",
                            "<tr><td>2607</td><td>Ray</td><td>Rosalin</td><td>2020-06-06</td><td>9</td></tr>",
                            "<tr><td>2608</td><td>Stark</td><td>Herb</td><td>2020-06-27</td><td>5</td></tr>",
                            "<tr><td>2609</td><td>Bohme</td><td>Bohuslav</td><td>NULL</td><td>19</td></tr>",
                            "<tr><td>2610</td><td>Atkins</td><td>Wilkie</td><td>2020-03-23</td><td>5</td></tr>",
                            "<tr><td>2611</td><td>Ranutt</td><td>Judd</td><td>2020-04-11</td><td>23</td></tr>",
                            "<tr><td>2612</td><td>Smith</td><td>Franklin</td><td>2020-09-05</td><td>12</td></tr>",
                            "<tr><td>2613</td><td>Biermann</td><td>Ingomar</td><td>2020-03-27</td><td>17</td></tr>",
                            "<tr><td>2614</td><td>Floro</td><td>Black</td><td>2020-06-08</td><td>5</td></tr>",
                            "<tr><td>2615</td><td>Okafor</td><td>Bendict</td><td>2020-03-31</td><td>23</td></tr>",
                            "<tr><td>2616</td><td>Chandrakat</td><td>Masters</td><td>2020-08-21</td><td>15</td></tr>",
                            "</table>"
                        ]
                    }
                }
            ],
            "execution_count": 145
        },
        {
            "cell_type": "code",
            "source": [
                "SELECT \r\n",
                "    c.cus_id, \r\n",
                "    cus_last_name, \r\n",
                "    cus_first_name, \r\n",
                "    CASE \r\n",
                "        WHEN cus_join_date = '2020-12-12' THEN NULL \r\n",
                "        ELSE cus_join_date \r\n",
                "    END AS cus_join_date, \r\n",
                "    cus_app_cd,\r\n",
                "    COALESCE(SUM(tot_ord_qty), 0) AS tot_ord_qty,\r\n",
                "    COALESCE(SUM(tot_ord_value), 0.00) AS tot_ord_value\r\n",
                "FROM \r\n",
                "    DSCI_504.customers c\r\n",
                "LEFT JOIN \r\n",
                "    DSCI_504.orders o ON c.cus_id = o.cus_id\r\n",
                "WHERE \r\n",
                "    cus_join_date > '2020-01-01'\r\n",
                "GROUP BY \r\n",
                "    c.cus_id, \r\n",
                "    cus_last_name, \r\n",
                "    cus_first_name, \r\n",
                "    cus_join_date, \r\n",
                "    cus_app_cd;"
            ],
            "metadata": {
                "language": "sql",
                "azdata_cell_guid": "d6560072-c42f-4f28-a506-d7c653cfa71b"
            },
            "outputs": [
                {
                    "output_type": "display_data",
                    "data": {
                        "text/html": "(20 row(s) affected)"
                    },
                    "metadata": {}
                },
                {
                    "output_type": "display_data",
                    "data": {
                        "text/html": "Total execution time: 00:00:00.008"
                    },
                    "metadata": {}
                },
                {
                    "output_type": "execute_result",
                    "metadata": {},
                    "execution_count": 152,
                    "data": {
                        "application/vnd.dataresource+json": {
                            "schema": {
                                "fields": [
                                    {
                                        "name": "cus_id"
                                    },
                                    {
                                        "name": "cus_last_name"
                                    },
                                    {
                                        "name": "cus_first_name"
                                    },
                                    {
                                        "name": "cus_join_date"
                                    },
                                    {
                                        "name": "cus_app_cd"
                                    },
                                    {
                                        "name": "tot_ord_qty"
                                    },
                                    {
                                        "name": "tot_ord_value"
                                    }
                                ]
                            },
                            "data": [
                                {
                                    "cus_id": "2600",
                                    "cus_last_name": "Holzer",
                                    "cus_first_name": "Yeni",
                                    "cus_join_date": "2020-11-22",
                                    "cus_app_cd": "5",
                                    "tot_ord_qty": "60",
                                    "tot_ord_value": "10641.48"
                                },
                                {
                                    "cus_id": "2601",
                                    "cus_last_name": "Hull",
                                    "cus_first_name": "Tancredo",
                                    "cus_join_date": "2020-04-19",
                                    "cus_app_cd": "9",
                                    "tot_ord_qty": "49",
                                    "tot_ord_value": "24585.61"
                                },
                                {
                                    "cus_id": "2602",
                                    "cus_last_name": "Sokol",
                                    "cus_first_name": "Teodor",
                                    "cus_join_date": "2020-04-15",
                                    "cus_app_cd": "14",
                                    "tot_ord_qty": "48",
                                    "tot_ord_value": "8514.29"
                                },
                                {
                                    "cus_id": "2603",
                                    "cus_last_name": "Barnes",
                                    "cus_first_name": "Theo",
                                    "cus_join_date": "2020-09-14",
                                    "cus_app_cd": "18",
                                    "tot_ord_qty": "76",
                                    "tot_ord_value": "19173.06"
                                },
                                {
                                    "cus_id": "2604",
                                    "cus_last_name": "Tempest",
                                    "cus_first_name": "Simone",
                                    "cus_join_date": "2020-06-24",
                                    "cus_app_cd": "11",
                                    "tot_ord_qty": "45",
                                    "tot_ord_value": "27325.72"
                                },
                                {
                                    "cus_id": "2605",
                                    "cus_last_name": "Bullock",
                                    "cus_first_name": "Pankaj",
                                    "cus_join_date": "2020-03-20",
                                    "cus_app_cd": "3",
                                    "tot_ord_qty": "11",
                                    "tot_ord_value": "1214.88"
                                },
                                {
                                    "cus_id": "2606",
                                    "cus_last_name": "Ware",
                                    "cus_first_name": "Reina",
                                    "cus_join_date": "2020-09-21",
                                    "cus_app_cd": "6",
                                    "tot_ord_qty": "64",
                                    "tot_ord_value": "6718.85"
                                },
                                {
                                    "cus_id": "2607",
                                    "cus_last_name": "Ray",
                                    "cus_first_name": "Rosalin",
                                    "cus_join_date": "2020-06-06",
                                    "cus_app_cd": "9",
                                    "tot_ord_qty": "43",
                                    "tot_ord_value": "14012.58"
                                },
                                {
                                    "cus_id": "2608",
                                    "cus_last_name": "Stark",
                                    "cus_first_name": "Herb",
                                    "cus_join_date": "2020-06-27",
                                    "cus_app_cd": "5",
                                    "tot_ord_qty": "28",
                                    "tot_ord_value": "4054.52"
                                },
                                {
                                    "cus_id": "2609",
                                    "cus_last_name": "Bohme",
                                    "cus_first_name": "Bohuslav",
                                    "cus_join_date": "NULL",
                                    "cus_app_cd": "19",
                                    "tot_ord_qty": "96",
                                    "tot_ord_value": "15178.38"
                                },
                                {
                                    "cus_id": "2610",
                                    "cus_last_name": "Atkins",
                                    "cus_first_name": "Wilkie",
                                    "cus_join_date": "2020-03-23",
                                    "cus_app_cd": "5",
                                    "tot_ord_qty": "2",
                                    "tot_ord_value": "5189.42"
                                },
                                {
                                    "cus_id": "2611",
                                    "cus_last_name": "Ranutt",
                                    "cus_first_name": "Judd",
                                    "cus_join_date": "2020-04-11",
                                    "cus_app_cd": "23",
                                    "tot_ord_qty": "60",
                                    "tot_ord_value": "24852.66"
                                },
                                {
                                    "cus_id": "2612",
                                    "cus_last_name": "Smith",
                                    "cus_first_name": "Franklin",
                                    "cus_join_date": "2020-09-05",
                                    "cus_app_cd": "12",
                                    "tot_ord_qty": "82",
                                    "tot_ord_value": "19302.48"
                                },
                                {
                                    "cus_id": "2613",
                                    "cus_last_name": "Biermann",
                                    "cus_first_name": "Ingomar",
                                    "cus_join_date": "2020-03-27",
                                    "cus_app_cd": "17",
                                    "tot_ord_qty": "16",
                                    "tot_ord_value": "10061.57"
                                },
                                {
                                    "cus_id": "2614",
                                    "cus_last_name": "Floro",
                                    "cus_first_name": "Black",
                                    "cus_join_date": "2020-06-08",
                                    "cus_app_cd": "5",
                                    "tot_ord_qty": "73",
                                    "tot_ord_value": "12770.87"
                                },
                                {
                                    "cus_id": "2615",
                                    "cus_last_name": "Okafor",
                                    "cus_first_name": "Bendict",
                                    "cus_join_date": "2020-03-31",
                                    "cus_app_cd": "23",
                                    "tot_ord_qty": "43",
                                    "tot_ord_value": "4772.3"
                                },
                                {
                                    "cus_id": "2616",
                                    "cus_last_name": "Chandrakat",
                                    "cus_first_name": "Masters",
                                    "cus_join_date": "2020-08-21",
                                    "cus_app_cd": "15",
                                    "tot_ord_qty": "55",
                                    "tot_ord_value": "15871.12"
                                },
                                {
                                    "cus_id": "2617",
                                    "cus_last_name": "Mathiasen",
                                    "cus_first_name": "Ulrich",
                                    "cus_join_date": "2020-01-27",
                                    "cus_app_cd": "18",
                                    "tot_ord_qty": "45",
                                    "tot_ord_value": "27099.12"
                                },
                                {
                                    "cus_id": "2618",
                                    "cus_last_name": "Kemp",
                                    "cus_first_name": "Susanne",
                                    "cus_join_date": "2020-12-11",
                                    "cus_app_cd": "23",
                                    "tot_ord_qty": "13",
                                    "tot_ord_value": "3074.41"
                                },
                                {
                                    "cus_id": "2619",
                                    "cus_last_name": "Daniel",
                                    "cus_first_name": "Ellie",
                                    "cus_join_date": "2020-06-16",
                                    "cus_app_cd": "9",
                                    "tot_ord_qty": "2",
                                    "tot_ord_value": "17557.2"
                                }
                            ]
                        },
                        "text/html": [
                            "<table>",
                            "<tr><th>cus_id</th><th>cus_last_name</th><th>cus_first_name</th><th>cus_join_date</th><th>cus_app_cd</th><th>tot_ord_qty</th><th>tot_ord_value</th></tr>",
                            "<tr><td>2600</td><td>Holzer</td><td>Yeni</td><td>2020-11-22</td><td>5</td><td>60</td><td>10641.48</td></tr>",
                            "<tr><td>2601</td><td>Hull</td><td>Tancredo</td><td>2020-04-19</td><td>9</td><td>49</td><td>24585.61</td></tr>",
                            "<tr><td>2602</td><td>Sokol</td><td>Teodor</td><td>2020-04-15</td><td>14</td><td>48</td><td>8514.29</td></tr>",
                            "<tr><td>2603</td><td>Barnes</td><td>Theo</td><td>2020-09-14</td><td>18</td><td>76</td><td>19173.06</td></tr>",
                            "<tr><td>2604</td><td>Tempest</td><td>Simone</td><td>2020-06-24</td><td>11</td><td>45</td><td>27325.72</td></tr>",
                            "<tr><td>2605</td><td>Bullock</td><td>Pankaj</td><td>2020-03-20</td><td>3</td><td>11</td><td>1214.88</td></tr>",
                            "<tr><td>2606</td><td>Ware</td><td>Reina</td><td>2020-09-21</td><td>6</td><td>64</td><td>6718.85</td></tr>",
                            "<tr><td>2607</td><td>Ray</td><td>Rosalin</td><td>2020-06-06</td><td>9</td><td>43</td><td>14012.58</td></tr>",
                            "<tr><td>2608</td><td>Stark</td><td>Herb</td><td>2020-06-27</td><td>5</td><td>28</td><td>4054.52</td></tr>",
                            "<tr><td>2609</td><td>Bohme</td><td>Bohuslav</td><td>NULL</td><td>19</td><td>96</td><td>15178.38</td></tr>",
                            "<tr><td>2610</td><td>Atkins</td><td>Wilkie</td><td>2020-03-23</td><td>5</td><td>2</td><td>5189.42</td></tr>",
                            "<tr><td>2611</td><td>Ranutt</td><td>Judd</td><td>2020-04-11</td><td>23</td><td>60</td><td>24852.66</td></tr>",
                            "<tr><td>2612</td><td>Smith</td><td>Franklin</td><td>2020-09-05</td><td>12</td><td>82</td><td>19302.48</td></tr>",
                            "<tr><td>2613</td><td>Biermann</td><td>Ingomar</td><td>2020-03-27</td><td>17</td><td>16</td><td>10061.57</td></tr>",
                            "<tr><td>2614</td><td>Floro</td><td>Black</td><td>2020-06-08</td><td>5</td><td>73</td><td>12770.87</td></tr>",
                            "<tr><td>2615</td><td>Okafor</td><td>Bendict</td><td>2020-03-31</td><td>23</td><td>43</td><td>4772.3</td></tr>",
                            "<tr><td>2616</td><td>Chandrakat</td><td>Masters</td><td>2020-08-21</td><td>15</td><td>55</td><td>15871.12</td></tr>",
                            "<tr><td>2617</td><td>Mathiasen</td><td>Ulrich</td><td>2020-01-27</td><td>18</td><td>45</td><td>27099.12</td></tr>",
                            "<tr><td>2618</td><td>Kemp</td><td>Susanne</td><td>2020-12-11</td><td>23</td><td>13</td><td>3074.41</td></tr>",
                            "<tr><td>2619</td><td>Daniel</td><td>Ellie</td><td>2020-06-16</td><td>9</td><td>2</td><td>17557.2</td></tr>",
                            "</table>"
                        ]
                    }
                }
            ],
            "execution_count": 152
        },
        {
            "cell_type": "code",
            "source": [
                "INSERT INTO public.opc_export (\r\n",
                "    cus_id, \r\n",
                "    cus_last_name, \r\n",
                "    cus_first_name, \r\n",
                "    cus_join_date, \r\n",
                "    cus_app_cd, \r\n",
                "    tot_ord_qty, \r\n",
                "    tot_ord_value\r\n",
                ")\r\n",
                "SELECT \r\n",
                "    c.cus_id AS customer_id, \r\n",
                "    c.cus_last_name AS customer_last_name, \r\n",
                "    c.cus_first_name AS customer_first_name, \r\n",
                "    CASE \r\n",
                "        WHEN c.cus_join_date = '2020-12-12' THEN NULL \r\n",
                "        ELSE c.cus_join_date \r\n",
                "    END AS customer_join_date, \r\n",
                "    c.cus_app_cd AS customer_appreciation_code,\r\n",
                "    COALESCE(SUM(o.tot_ord_qty), 0) AS total_order_quantity,\r\n",
                "    COALESCE(SUM(o.tot_ord_value), 0.00) AS total_order_value\r\n",
                "FROM \r\n",
                "    DSCI_504.customers c\r\n",
                "LEFT JOIN \r\n",
                "    (\r\n",
                "        SELECT \r\n",
                "            cus_id,\r\n",
                "            SUM(order_tot) AS tot_ord_qty,\r\n",
                "        FROM \r\n",
                "            DSCI_504.orders\r\n",
                "        GROUP BY \r\n",
                "            cus_id\r\n",
                "    ) o ON c.cus_id = o.cus_id\r\n",
                "WHERE \r\n",
                "    c.cus_join_date > '2020-01-01'\r\n",
                "GROUP BY \r\n",
                "    c.cus_id, \r\n",
                "    c.cus_last_name, \r\n",
                "    c.cus_first_name, \r\n",
                "    c.cus_join_date, \r\n",
                "    c.cus_app_cd;\r\n",
                ""
            ],
            "metadata": {
                "language": "sql",
                "azdata_cell_guid": "9cd83491-742b-4456-bf03-d285b167935b"
            },
            "outputs": [
                {
                    "output_type": "error",
                    "evalue": "syntax error at or near \"FROM\"",
                    "ename": "",
                    "traceback": []
                },
                {
                    "output_type": "display_data",
                    "data": {
                        "text/html": "Total execution time: 00:00:00.002"
                    },
                    "metadata": {}
                }
            ],
            "execution_count": 163
        },
        {
            "cell_type": "code",
            "source": [
                "SELECT * \r\n",
                "FROM public.opc_export\r\n",
                "LIMIT 100;"
            ],
            "metadata": {
                "language": "sql",
                "azdata_cell_guid": "13b52f74-e2f0-4464-bcda-3d7660081b10"
            },
            "outputs": [
                {
                    "output_type": "display_data",
                    "data": {
                        "text/html": "(100 row(s) affected)"
                    },
                    "metadata": {}
                },
                {
                    "output_type": "display_data",
                    "data": {
                        "text/html": "Total execution time: 00:00:00.093"
                    },
                    "metadata": {}
                },
                {
                    "output_type": "execute_result",
                    "metadata": {},
                    "execution_count": 5,
                    "data": {
                        "application/vnd.dataresource+json": {
                            "schema": {
                                "fields": [
                                    {
                                        "name": "cus_id"
                                    },
                                    {
                                        "name": "cus_last_name"
                                    },
                                    {
                                        "name": "cus_first_name"
                                    },
                                    {
                                        "name": "cus_join_date"
                                    },
                                    {
                                        "name": "cus_app_cd"
                                    },
                                    {
                                        "name": "tot_ord_qty"
                                    },
                                    {
                                        "name": "tot_ord_value"
                                    }
                                ]
                            },
                            "data": [
                                {
                                    "cus_id": "627",
                                    "cus_last_name": "Presley",
                                    "cus_first_name": "Erin",
                                    "cus_join_date": "2018-11-26",
                                    "cus_app_cd": "1",
                                    "tot_ord_qty": "64",
                                    "tot_ord_value": "21532"
                                },
                                {
                                    "cus_id": "1255",
                                    "cus_last_name": "Cooper",
                                    "cus_first_name": "Carl",
                                    "cus_join_date": "2016-03-27",
                                    "cus_app_cd": "1",
                                    "tot_ord_qty": "97",
                                    "tot_ord_value": "16208"
                                },
                                {
                                    "cus_id": "2241",
                                    "cus_last_name": "Jamieson",
                                    "cus_first_name": "Noel",
                                    "cus_join_date": "2012-11-24",
                                    "cus_app_cd": "2",
                                    "tot_ord_qty": "52",
                                    "tot_ord_value": "24171"
                                },
                                {
                                    "cus_id": "2617",
                                    "cus_last_name": "Mathiasen",
                                    "cus_first_name": "Ulrich",
                                    "cus_join_date": "2020-01-27",
                                    "cus_app_cd": "18",
                                    "tot_ord_qty": "45",
                                    "tot_ord_value": "27099.12"
                                },
                                {
                                    "cus_id": "2618",
                                    "cus_last_name": "Kemp",
                                    "cus_first_name": "Susanne",
                                    "cus_join_date": "2020-12-11",
                                    "cus_app_cd": "23",
                                    "tot_ord_qty": "13",
                                    "tot_ord_value": "3074.41"
                                },
                                {
                                    "cus_id": "2619",
                                    "cus_last_name": "Daniel",
                                    "cus_first_name": "Ellie",
                                    "cus_join_date": "2020-06-16",
                                    "cus_app_cd": "9",
                                    "tot_ord_qty": "2",
                                    "tot_ord_value": "17557.2"
                                },
                                {
                                    "cus_id": "7",
                                    "cus_last_name": "Applewood",
                                    "cus_first_name": "Carl",
                                    "cus_join_date": "2009-08-08",
                                    "cus_app_cd": "4",
                                    "tot_ord_qty": "69",
                                    "tot_ord_value": "16627"
                                },
                                {
                                    "cus_id": "8",
                                    "cus_last_name": "Jones",
                                    "cus_first_name": "Taylor",
                                    "cus_join_date": "2016-09-24",
                                    "cus_app_cd": "6",
                                    "tot_ord_qty": "29",
                                    "tot_ord_value": "13200"
                                },
                                {
                                    "cus_id": "9",
                                    "cus_last_name": "Smith",
                                    "cus_first_name": "Brandt",
                                    "cus_join_date": "2019-05-03",
                                    "cus_app_cd": "7",
                                    "tot_ord_qty": "68",
                                    "tot_ord_value": "19607"
                                },
                                {
                                    "cus_id": "10",
                                    "cus_last_name": "Roberts",
                                    "cus_first_name": "Sarah",
                                    "cus_join_date": "2019-06-14",
                                    "cus_app_cd": "5",
                                    "tot_ord_qty": "93",
                                    "tot_ord_value": "21184"
                                },
                                {
                                    "cus_id": "11",
                                    "cus_last_name": "Smith",
                                    "cus_first_name": "Adam",
                                    "cus_join_date": "2019-10-04",
                                    "cus_app_cd": "2",
                                    "tot_ord_qty": "53",
                                    "tot_ord_value": "13671"
                                },
                                {
                                    "cus_id": "12",
                                    "cus_last_name": "Jiminez",
                                    "cus_first_name": "Maggs",
                                    "cus_join_date": "2005-11-12",
                                    "cus_app_cd": "4",
                                    "tot_ord_qty": "88",
                                    "tot_ord_value": "26673"
                                },
                                {
                                    "cus_id": "13",
                                    "cus_last_name": "Slain",
                                    "cus_first_name": "Lee",
                                    "cus_join_date": "2014-07-02",
                                    "cus_app_cd": "4",
                                    "tot_ord_qty": "32",
                                    "tot_ord_value": "12234"
                                },
                                {
                                    "cus_id": "14",
                                    "cus_last_name": "Williamson",
                                    "cus_first_name": "Jonathon",
                                    "cus_join_date": "2014-01-22",
                                    "cus_app_cd": "3",
                                    "tot_ord_qty": "15",
                                    "tot_ord_value": "29110"
                                },
                                {
                                    "cus_id": "15",
                                    "cus_last_name": "Sherman",
                                    "cus_first_name": "Miguel",
                                    "cus_join_date": "2007-01-04",
                                    "cus_app_cd": "6",
                                    "tot_ord_qty": "56",
                                    "tot_ord_value": "20440"
                                },
                                {
                                    "cus_id": "16",
                                    "cus_last_name": "Manning",
                                    "cus_first_name": "Harper",
                                    "cus_join_date": "2003-06-08",
                                    "cus_app_cd": "7",
                                    "tot_ord_qty": "12",
                                    "tot_ord_value": "32895"
                                },
                                {
                                    "cus_id": "17",
                                    "cus_last_name": "Shelton",
                                    "cus_first_name": "Joshua",
                                    "cus_join_date": "2011-06-07",
                                    "cus_app_cd": "7",
                                    "tot_ord_qty": "82",
                                    "tot_ord_value": "4051"
                                },
                                {
                                    "cus_id": "18",
                                    "cus_last_name": "Brooks",
                                    "cus_first_name": "Lee",
                                    "cus_join_date": "2007-06-17",
                                    "cus_app_cd": "6",
                                    "tot_ord_qty": "42",
                                    "tot_ord_value": "5382"
                                },
                                {
                                    "cus_id": "19",
                                    "cus_last_name": "Barrister",
                                    "cus_first_name": "Brandt",
                                    "cus_join_date": "2010-07-04",
                                    "cus_app_cd": "3",
                                    "tot_ord_qty": "93",
                                    "tot_ord_value": "26824"
                                },
                                {
                                    "cus_id": "20",
                                    "cus_last_name": "Peters",
                                    "cus_first_name": "Maggs",
                                    "cus_join_date": "2005-05-15",
                                    "cus_app_cd": "6",
                                    "tot_ord_qty": "53",
                                    "tot_ord_value": "29338"
                                },
                                {
                                    "cus_id": "21",
                                    "cus_last_name": "Jones",
                                    "cus_first_name": "Piper",
                                    "cus_join_date": "2019-02-18",
                                    "cus_app_cd": "1",
                                    "tot_ord_qty": "23",
                                    "tot_ord_value": "32288"
                                },
                                {
                                    "cus_id": "22",
                                    "cus_last_name": "Ridgley",
                                    "cus_first_name": "Brian",
                                    "cus_join_date": "2011-05-18",
                                    "cus_app_cd": "7",
                                    "tot_ord_qty": "95",
                                    "tot_ord_value": "12960"
                                },
                                {
                                    "cus_id": "23",
                                    "cus_last_name": "Seiler",
                                    "cus_first_name": "Mike",
                                    "cus_join_date": "2009-07-15",
                                    "cus_app_cd": "2",
                                    "tot_ord_qty": "86",
                                    "tot_ord_value": "343"
                                },
                                {
                                    "cus_id": "24",
                                    "cus_last_name": "Smith",
                                    "cus_first_name": "Erin",
                                    "cus_join_date": "2016-02-10",
                                    "cus_app_cd": "7",
                                    "tot_ord_qty": "24",
                                    "tot_ord_value": "18141"
                                },
                                {
                                    "cus_id": "25",
                                    "cus_last_name": "Riochardson",
                                    "cus_first_name": "Miguel",
                                    "cus_join_date": "2009-05-18",
                                    "cus_app_cd": "6",
                                    "tot_ord_qty": "50",
                                    "tot_ord_value": "11681"
                                },
                                {
                                    "cus_id": "26",
                                    "cus_last_name": "Rice",
                                    "cus_first_name": "Adam",
                                    "cus_join_date": "2005-12-31",
                                    "cus_app_cd": "5",
                                    "tot_ord_qty": "98",
                                    "tot_ord_value": "33629"
                                },
                                {
                                    "cus_id": "27",
                                    "cus_last_name": "Jones",
                                    "cus_first_name": "Noel",
                                    "cus_join_date": "2003-01-17",
                                    "cus_app_cd": "2",
                                    "tot_ord_qty": "48",
                                    "tot_ord_value": "34110"
                                },
                                {
                                    "cus_id": "28",
                                    "cus_last_name": "Garth",
                                    "cus_first_name": "Brandon",
                                    "cus_join_date": "2003-04-04",
                                    "cus_app_cd": "6",
                                    "tot_ord_qty": "80",
                                    "tot_ord_value": "214"
                                },
                                {
                                    "cus_id": "29",
                                    "cus_last_name": "Saylor",
                                    "cus_first_name": "Farris",
                                    "cus_join_date": "2005-10-02",
                                    "cus_app_cd": "6",
                                    "tot_ord_qty": "49",
                                    "tot_ord_value": "219"
                                },
                                {
                                    "cus_id": "30",
                                    "cus_last_name": "Tompsen",
                                    "cus_first_name": "Taylor",
                                    "cus_join_date": "2007-12-05",
                                    "cus_app_cd": "5",
                                    "tot_ord_qty": "50",
                                    "tot_ord_value": "4456"
                                },
                                {
                                    "cus_id": "31",
                                    "cus_last_name": "Stevens",
                                    "cus_first_name": "Jonathon",
                                    "cus_join_date": "2007-06-18",
                                    "cus_app_cd": "1",
                                    "tot_ord_qty": "6",
                                    "tot_ord_value": "24289"
                                },
                                {
                                    "cus_id": "32",
                                    "cus_last_name": "Cooper",
                                    "cus_first_name": "Jack",
                                    "cus_join_date": "2005-05-28",
                                    "cus_app_cd": "7",
                                    "tot_ord_qty": "17",
                                    "tot_ord_value": "32966"
                                },
                                {
                                    "cus_id": "33",
                                    "cus_last_name": "Applewood",
                                    "cus_first_name": "Eric",
                                    "cus_join_date": "2013-04-05",
                                    "cus_app_cd": "3",
                                    "tot_ord_qty": "30",
                                    "tot_ord_value": "32149"
                                },
                                {
                                    "cus_id": "34",
                                    "cus_last_name": "Peters",
                                    "cus_first_name": "Jonathon",
                                    "cus_join_date": "2009-01-19",
                                    "cus_app_cd": "1",
                                    "tot_ord_qty": "32",
                                    "tot_ord_value": "18178"
                                },
                                {
                                    "cus_id": "35",
                                    "cus_last_name": "Manning",
                                    "cus_first_name": "Robert",
                                    "cus_join_date": "2014-02-11",
                                    "cus_app_cd": "5",
                                    "tot_ord_qty": "78",
                                    "tot_ord_value": "14867"
                                },
                                {
                                    "cus_id": "36",
                                    "cus_last_name": "Smith",
                                    "cus_first_name": "Brandt",
                                    "cus_join_date": "2008-01-18",
                                    "cus_app_cd": "1",
                                    "tot_ord_qty": "94",
                                    "tot_ord_value": "13245"
                                },
                                {
                                    "cus_id": "37",
                                    "cus_last_name": "Delacruz",
                                    "cus_first_name": "Timothy",
                                    "cus_join_date": "2006-02-11",
                                    "cus_app_cd": "5",
                                    "tot_ord_qty": "28",
                                    "tot_ord_value": "33024"
                                },
                                {
                                    "cus_id": "38",
                                    "cus_last_name": "Jackson",
                                    "cus_first_name": "Harper",
                                    "cus_join_date": "2005-09-07",
                                    "cus_app_cd": "4",
                                    "tot_ord_qty": "9",
                                    "tot_ord_value": "11960"
                                },
                                {
                                    "cus_id": "39",
                                    "cus_last_name": "Sherman",
                                    "cus_first_name": "Mads",
                                    "cus_join_date": "2016-11-22",
                                    "cus_app_cd": "7",
                                    "tot_ord_qty": "66",
                                    "tot_ord_value": "11585"
                                },
                                {
                                    "cus_id": "40",
                                    "cus_last_name": "Dickerson",
                                    "cus_first_name": "Thomas",
                                    "cus_join_date": "2001-04-25",
                                    "cus_app_cd": "6",
                                    "tot_ord_qty": "24",
                                    "tot_ord_value": "29893"
                                },
                                {
                                    "cus_id": "41",
                                    "cus_last_name": "Robinson",
                                    "cus_first_name": "Albert",
                                    "cus_join_date": "2009-06-05",
                                    "cus_app_cd": "6",
                                    "tot_ord_qty": "12",
                                    "tot_ord_value": "35560"
                                },
                                {
                                    "cus_id": "42",
                                    "cus_last_name": "MacBain",
                                    "cus_first_name": "Eric",
                                    "cus_join_date": "2017-07-06",
                                    "cus_app_cd": "5",
                                    "tot_ord_qty": "73",
                                    "tot_ord_value": "28515"
                                },
                                {
                                    "cus_id": "43",
                                    "cus_last_name": "Riochardson",
                                    "cus_first_name": "Kenadi",
                                    "cus_join_date": "2010-06-10",
                                    "cus_app_cd": "3",
                                    "tot_ord_qty": "98",
                                    "tot_ord_value": "11256"
                                },
                                {
                                    "cus_id": "44",
                                    "cus_last_name": "Jordan",
                                    "cus_first_name": "Samuel",
                                    "cus_join_date": "2005-06-25",
                                    "cus_app_cd": "7",
                                    "tot_ord_qty": "15",
                                    "tot_ord_value": "27342"
                                },
                                {
                                    "cus_id": "45",
                                    "cus_last_name": "Archibald",
                                    "cus_first_name": "Brandon",
                                    "cus_join_date": "2012-05-18",
                                    "cus_app_cd": "7",
                                    "tot_ord_qty": "76",
                                    "tot_ord_value": "7746"
                                },
                                {
                                    "cus_id": "46",
                                    "cus_last_name": "Dickerson",
                                    "cus_first_name": "Brandt",
                                    "cus_join_date": "2018-02-19",
                                    "cus_app_cd": "4",
                                    "tot_ord_qty": "9",
                                    "tot_ord_value": "16662"
                                },
                                {
                                    "cus_id": "47",
                                    "cus_last_name": "Manchester",
                                    "cus_first_name": "Brandon",
                                    "cus_join_date": "2018-12-14",
                                    "cus_app_cd": "1",
                                    "tot_ord_qty": "43",
                                    "tot_ord_value": "34586"
                                },
                                {
                                    "cus_id": "48",
                                    "cus_last_name": "Booker",
                                    "cus_first_name": "Thomas",
                                    "cus_join_date": "2010-11-23",
                                    "cus_app_cd": "2",
                                    "tot_ord_qty": "7",
                                    "tot_ord_value": "13092"
                                },
                                {
                                    "cus_id": "49",
                                    "cus_last_name": "Willis",
                                    "cus_first_name": "Margo",
                                    "cus_join_date": "2006-01-17",
                                    "cus_app_cd": "6",
                                    "tot_ord_qty": "55",
                                    "tot_ord_value": "24792"
                                },
                                {
                                    "cus_id": "50",
                                    "cus_last_name": "Garcia",
                                    "cus_first_name": "Piper",
                                    "cus_join_date": "2007-08-12",
                                    "cus_app_cd": "2",
                                    "tot_ord_qty": "22",
                                    "tot_ord_value": "6938"
                                },
                                {
                                    "cus_id": "51",
                                    "cus_last_name": "Willis",
                                    "cus_first_name": "Eric",
                                    "cus_join_date": "2007-08-15",
                                    "cus_app_cd": "4",
                                    "tot_ord_qty": "11",
                                    "tot_ord_value": "27024"
                                },
                                {
                                    "cus_id": "52",
                                    "cus_last_name": "Connery",
                                    "cus_first_name": "Brandt",
                                    "cus_join_date": "2010-12-19",
                                    "cus_app_cd": "3",
                                    "tot_ord_qty": "78",
                                    "tot_ord_value": "3610"
                                },
                                {
                                    "cus_id": "53",
                                    "cus_last_name": "Dawson",
                                    "cus_first_name": "Alister",
                                    "cus_join_date": "2001-05-24",
                                    "cus_app_cd": "3",
                                    "tot_ord_qty": "56",
                                    "tot_ord_value": "1673"
                                },
                                {
                                    "cus_id": "54",
                                    "cus_last_name": "Deleon",
                                    "cus_first_name": "Adam",
                                    "cus_join_date": "2006-09-25",
                                    "cus_app_cd": "5",
                                    "tot_ord_qty": "26",
                                    "tot_ord_value": "15177"
                                },
                                {
                                    "cus_id": "55",
                                    "cus_last_name": "Jamieson",
                                    "cus_first_name": "Brian",
                                    "cus_join_date": "2011-11-05",
                                    "cus_app_cd": "3",
                                    "tot_ord_qty": "54",
                                    "tot_ord_value": "32575"
                                },
                                {
                                    "cus_id": "56",
                                    "cus_last_name": "Garth",
                                    "cus_first_name": "Corey",
                                    "cus_join_date": "2009-04-05",
                                    "cus_app_cd": "4",
                                    "tot_ord_qty": "21",
                                    "tot_ord_value": "31237"
                                },
                                {
                                    "cus_id": "57",
                                    "cus_last_name": "Rowley",
                                    "cus_first_name": "Timothy",
                                    "cus_join_date": "2007-08-19",
                                    "cus_app_cd": "4",
                                    "tot_ord_qty": "71",
                                    "tot_ord_value": "34904"
                                },
                                {
                                    "cus_id": "58",
                                    "cus_last_name": "Bangeson",
                                    "cus_first_name": "Moritz",
                                    "cus_join_date": "2008-03-29",
                                    "cus_app_cd": "4",
                                    "tot_ord_qty": "92",
                                    "tot_ord_value": "9206"
                                },
                                {
                                    "cus_id": "59",
                                    "cus_last_name": "Jones",
                                    "cus_first_name": "Timothy",
                                    "cus_join_date": "2002-04-05",
                                    "cus_app_cd": "2",
                                    "tot_ord_qty": "88",
                                    "tot_ord_value": "12456"
                                },
                                {
                                    "cus_id": "60",
                                    "cus_last_name": "French",
                                    "cus_first_name": "Summer",
                                    "cus_join_date": "2015-05-28",
                                    "cus_app_cd": "5",
                                    "tot_ord_qty": "11",
                                    "tot_ord_value": "13415"
                                },
                                {
                                    "cus_id": "61",
                                    "cus_last_name": "Ellis",
                                    "cus_first_name": "Mindy",
                                    "cus_join_date": "2001-01-14",
                                    "cus_app_cd": "3",
                                    "tot_ord_qty": "85",
                                    "tot_ord_value": "15895"
                                },
                                {
                                    "cus_id": "62",
                                    "cus_last_name": "Deleon",
                                    "cus_first_name": "Mike",
                                    "cus_join_date": "2013-01-02",
                                    "cus_app_cd": "1",
                                    "tot_ord_qty": "55",
                                    "tot_ord_value": "8770"
                                },
                                {
                                    "cus_id": "63",
                                    "cus_last_name": "Shelton",
                                    "cus_first_name": "Leah",
                                    "cus_join_date": "2013-03-29",
                                    "cus_app_cd": "3",
                                    "tot_ord_qty": "66",
                                    "tot_ord_value": "10363"
                                },
                                {
                                    "cus_id": "64",
                                    "cus_last_name": "Ellis",
                                    "cus_first_name": "Robert",
                                    "cus_join_date": "2013-01-31",
                                    "cus_app_cd": "4",
                                    "tot_ord_qty": "46",
                                    "tot_ord_value": "26844"
                                },
                                {
                                    "cus_id": "65",
                                    "cus_last_name": "Smith-Warren",
                                    "cus_first_name": "Summer",
                                    "cus_join_date": "2003-12-10",
                                    "cus_app_cd": "7",
                                    "tot_ord_qty": "65",
                                    "tot_ord_value": "34927"
                                },
                                {
                                    "cus_id": "66",
                                    "cus_last_name": "Manchester",
                                    "cus_first_name": "Airn",
                                    "cus_join_date": "2019-09-14",
                                    "cus_app_cd": "2",
                                    "tot_ord_qty": "29",
                                    "tot_ord_value": "18443"
                                },
                                {
                                    "cus_id": "67",
                                    "cus_last_name": "Harper",
                                    "cus_first_name": "Robert",
                                    "cus_join_date": "2015-11-04",
                                    "cus_app_cd": "3",
                                    "tot_ord_qty": "44",
                                    "tot_ord_value": "2397"
                                },
                                {
                                    "cus_id": "68",
                                    "cus_last_name": "Manning",
                                    "cus_first_name": "Mindy",
                                    "cus_join_date": "2015-12-30",
                                    "cus_app_cd": "7",
                                    "tot_ord_qty": "48",
                                    "tot_ord_value": "10850"
                                },
                                {
                                    "cus_id": "69",
                                    "cus_last_name": "Etzler",
                                    "cus_first_name": "Summer",
                                    "cus_join_date": "2002-03-30",
                                    "cus_app_cd": "6",
                                    "tot_ord_qty": "54",
                                    "tot_ord_value": "18814"
                                },
                                {
                                    "cus_id": "70",
                                    "cus_last_name": "Sanchez",
                                    "cus_first_name": "Harper",
                                    "cus_join_date": "2017-06-07",
                                    "cus_app_cd": "3",
                                    "tot_ord_qty": "46",
                                    "tot_ord_value": "24331"
                                },
                                {
                                    "cus_id": "71",
                                    "cus_last_name": "MacBain",
                                    "cus_first_name": "Mike",
                                    "cus_join_date": "2012-10-08",
                                    "cus_app_cd": "2",
                                    "tot_ord_qty": "40",
                                    "tot_ord_value": "29269"
                                },
                                {
                                    "cus_id": "72",
                                    "cus_last_name": "Rice",
                                    "cus_first_name": "Manuel",
                                    "cus_join_date": "2006-10-04",
                                    "cus_app_cd": "6",
                                    "tot_ord_qty": "88",
                                    "tot_ord_value": "34148"
                                },
                                {
                                    "cus_id": "73",
                                    "cus_last_name": "Garcia",
                                    "cus_first_name": "Valerie",
                                    "cus_join_date": "2007-03-04",
                                    "cus_app_cd": "2",
                                    "tot_ord_qty": "85",
                                    "tot_ord_value": "3769"
                                },
                                {
                                    "cus_id": "74",
                                    "cus_last_name": "Deleon",
                                    "cus_first_name": "Blain",
                                    "cus_join_date": "2007-10-23",
                                    "cus_app_cd": "1",
                                    "tot_ord_qty": "89",
                                    "tot_ord_value": "19769"
                                },
                                {
                                    "cus_id": "75",
                                    "cus_last_name": "Jones",
                                    "cus_first_name": "Leah",
                                    "cus_join_date": "2015-11-10",
                                    "cus_app_cd": "6",
                                    "tot_ord_qty": "41",
                                    "tot_ord_value": "18703"
                                },
                                {
                                    "cus_id": "76",
                                    "cus_last_name": "Slain",
                                    "cus_first_name": "Mike",
                                    "cus_join_date": "2005-10-03",
                                    "cus_app_cd": "3",
                                    "tot_ord_qty": "82",
                                    "tot_ord_value": "15372"
                                },
                                {
                                    "cus_id": "77",
                                    "cus_last_name": "Riochardson",
                                    "cus_first_name": "Farris",
                                    "cus_join_date": "2001-04-20",
                                    "cus_app_cd": "1",
                                    "tot_ord_qty": "31",
                                    "tot_ord_value": "9710"
                                },
                                {
                                    "cus_id": "78",
                                    "cus_last_name": "Acosta",
                                    "cus_first_name": "Harper",
                                    "cus_join_date": "2018-06-05",
                                    "cus_app_cd": "4",
                                    "tot_ord_qty": "2",
                                    "tot_ord_value": "16248"
                                },
                                {
                                    "cus_id": "79",
                                    "cus_last_name": "Roberts",
                                    "cus_first_name": "George",
                                    "cus_join_date": "2003-04-09",
                                    "cus_app_cd": "5",
                                    "tot_ord_qty": "28",
                                    "tot_ord_value": "33987"
                                },
                                {
                                    "cus_id": "80",
                                    "cus_last_name": "Jones",
                                    "cus_first_name": "Maggs",
                                    "cus_join_date": "2010-08-11",
                                    "cus_app_cd": "6",
                                    "tot_ord_qty": "79",
                                    "tot_ord_value": "29936"
                                },
                                {
                                    "cus_id": "81",
                                    "cus_last_name": "Smith-Warren",
                                    "cus_first_name": "Brandt",
                                    "cus_join_date": "2019-11-01",
                                    "cus_app_cd": "2",
                                    "tot_ord_qty": "17",
                                    "tot_ord_value": "32534"
                                },
                                {
                                    "cus_id": "82",
                                    "cus_last_name": "Archibald",
                                    "cus_first_name": "Moritz",
                                    "cus_join_date": "2014-07-05",
                                    "cus_app_cd": "4",
                                    "tot_ord_qty": "26",
                                    "tot_ord_value": "13809"
                                },
                                {
                                    "cus_id": "83",
                                    "cus_last_name": "Tankersly",
                                    "cus_first_name": "Robert",
                                    "cus_join_date": "2014-03-26",
                                    "cus_app_cd": "5",
                                    "tot_ord_qty": "29",
                                    "tot_ord_value": "7916"
                                },
                                {
                                    "cus_id": "84",
                                    "cus_last_name": "Monk",
                                    "cus_first_name": "Jonathon",
                                    "cus_join_date": "2006-02-18",
                                    "cus_app_cd": "5",
                                    "tot_ord_qty": "47",
                                    "tot_ord_value": "8794"
                                },
                                {
                                    "cus_id": "85",
                                    "cus_last_name": "Stevens",
                                    "cus_first_name": "Piper",
                                    "cus_join_date": "2011-11-22",
                                    "cus_app_cd": "7",
                                    "tot_ord_qty": "55",
                                    "tot_ord_value": "15942"
                                },
                                {
                                    "cus_id": "86",
                                    "cus_last_name": "Etzler",
                                    "cus_first_name": "Thomas",
                                    "cus_join_date": "2006-12-29",
                                    "cus_app_cd": "4",
                                    "tot_ord_qty": "59",
                                    "tot_ord_value": "570"
                                },
                                {
                                    "cus_id": "87",
                                    "cus_last_name": "Conley",
                                    "cus_first_name": "Mindy",
                                    "cus_join_date": "2003-04-02",
                                    "cus_app_cd": "5",
                                    "tot_ord_qty": "21",
                                    "tot_ord_value": "10108"
                                },
                                {
                                    "cus_id": "88",
                                    "cus_last_name": "Smith",
                                    "cus_first_name": "Tristan",
                                    "cus_join_date": "2010-10-10",
                                    "cus_app_cd": "2",
                                    "tot_ord_qty": "27",
                                    "tot_ord_value": "11050"
                                },
                                {
                                    "cus_id": "89",
                                    "cus_last_name": "Hart",
                                    "cus_first_name": "Brandon",
                                    "cus_join_date": "2011-10-03",
                                    "cus_app_cd": "7",
                                    "tot_ord_qty": "51",
                                    "tot_ord_value": "558"
                                },
                                {
                                    "cus_id": "90",
                                    "cus_last_name": "Presten",
                                    "cus_first_name": "Chris",
                                    "cus_join_date": "2019-08-12",
                                    "cus_app_cd": "5",
                                    "tot_ord_qty": "8",
                                    "tot_ord_value": "31682"
                                },
                                {
                                    "cus_id": "91",
                                    "cus_last_name": "Delacruz",
                                    "cus_first_name": "Adam",
                                    "cus_join_date": "2006-04-15",
                                    "cus_app_cd": "6",
                                    "tot_ord_qty": "53",
                                    "tot_ord_value": "3901"
                                },
                                {
                                    "cus_id": "92",
                                    "cus_last_name": "Banks",
                                    "cus_first_name": "Timothy",
                                    "cus_join_date": "2010-11-12",
                                    "cus_app_cd": "5",
                                    "tot_ord_qty": "35",
                                    "tot_ord_value": "17503"
                                },
                                {
                                    "cus_id": "93",
                                    "cus_last_name": "Johnasen",
                                    "cus_first_name": "Adam",
                                    "cus_join_date": "2017-04-26",
                                    "cus_app_cd": "7",
                                    "tot_ord_qty": "96",
                                    "tot_ord_value": "28024"
                                },
                                {
                                    "cus_id": "94",
                                    "cus_last_name": "Barrister",
                                    "cus_first_name": "George",
                                    "cus_join_date": "2013-02-06",
                                    "cus_app_cd": "7",
                                    "tot_ord_qty": "25",
                                    "tot_ord_value": "20770"
                                },
                                {
                                    "cus_id": "95",
                                    "cus_last_name": "Manchester",
                                    "cus_first_name": "Jasmine",
                                    "cus_join_date": "2019-01-17",
                                    "cus_app_cd": "3",
                                    "tot_ord_qty": "75",
                                    "tot_ord_value": "7223"
                                },
                                {
                                    "cus_id": "96",
                                    "cus_last_name": "Manning",
                                    "cus_first_name": "Kristoff",
                                    "cus_join_date": "2017-08-19",
                                    "cus_app_cd": "3",
                                    "tot_ord_qty": "25",
                                    "tot_ord_value": "9650"
                                },
                                {
                                    "cus_id": "97",
                                    "cus_last_name": "Moore",
                                    "cus_first_name": "Farris",
                                    "cus_join_date": "2009-02-22",
                                    "cus_app_cd": "1",
                                    "tot_ord_qty": "43",
                                    "tot_ord_value": "27060"
                                },
                                {
                                    "cus_id": "98",
                                    "cus_last_name": "French",
                                    "cus_first_name": "Leah",
                                    "cus_join_date": "2015-12-12",
                                    "cus_app_cd": "3",
                                    "tot_ord_qty": "34",
                                    "tot_ord_value": "19868"
                                },
                                {
                                    "cus_id": "99",
                                    "cus_last_name": "Manning",
                                    "cus_first_name": "Mike",
                                    "cus_join_date": "2009-01-12",
                                    "cus_app_cd": "1",
                                    "tot_ord_qty": "8",
                                    "tot_ord_value": "2308"
                                },
                                {
                                    "cus_id": "100",
                                    "cus_last_name": "Presten",
                                    "cus_first_name": "Corey",
                                    "cus_join_date": "2009-08-19",
                                    "cus_app_cd": "2",
                                    "tot_ord_qty": "82",
                                    "tot_ord_value": "21106"
                                }
                            ]
                        },
                        "text/html": [
                            "<table>",
                            "<tr><th>cus_id</th><th>cus_last_name</th><th>cus_first_name</th><th>cus_join_date</th><th>cus_app_cd</th><th>tot_ord_qty</th><th>tot_ord_value</th></tr>",
                            "<tr><td>627</td><td>Presley</td><td>Erin</td><td>2018-11-26</td><td>1</td><td>64</td><td>21532</td></tr>",
                            "<tr><td>1255</td><td>Cooper</td><td>Carl</td><td>2016-03-27</td><td>1</td><td>97</td><td>16208</td></tr>",
                            "<tr><td>2241</td><td>Jamieson</td><td>Noel</td><td>2012-11-24</td><td>2</td><td>52</td><td>24171</td></tr>",
                            "<tr><td>2617</td><td>Mathiasen</td><td>Ulrich</td><td>2020-01-27</td><td>18</td><td>45</td><td>27099.12</td></tr>",
                            "<tr><td>2618</td><td>Kemp</td><td>Susanne</td><td>2020-12-11</td><td>23</td><td>13</td><td>3074.41</td></tr>",
                            "<tr><td>2619</td><td>Daniel</td><td>Ellie</td><td>2020-06-16</td><td>9</td><td>2</td><td>17557.2</td></tr>",
                            "<tr><td>7</td><td>Applewood</td><td>Carl</td><td>2009-08-08</td><td>4</td><td>69</td><td>16627</td></tr>",
                            "<tr><td>8</td><td>Jones</td><td>Taylor</td><td>2016-09-24</td><td>6</td><td>29</td><td>13200</td></tr>",
                            "<tr><td>9</td><td>Smith</td><td>Brandt</td><td>2019-05-03</td><td>7</td><td>68</td><td>19607</td></tr>",
                            "<tr><td>10</td><td>Roberts</td><td>Sarah</td><td>2019-06-14</td><td>5</td><td>93</td><td>21184</td></tr>",
                            "<tr><td>11</td><td>Smith</td><td>Adam</td><td>2019-10-04</td><td>2</td><td>53</td><td>13671</td></tr>",
                            "<tr><td>12</td><td>Jiminez</td><td>Maggs</td><td>2005-11-12</td><td>4</td><td>88</td><td>26673</td></tr>",
                            "<tr><td>13</td><td>Slain</td><td>Lee</td><td>2014-07-02</td><td>4</td><td>32</td><td>12234</td></tr>",
                            "<tr><td>14</td><td>Williamson</td><td>Jonathon</td><td>2014-01-22</td><td>3</td><td>15</td><td>29110</td></tr>",
                            "<tr><td>15</td><td>Sherman</td><td>Miguel</td><td>2007-01-04</td><td>6</td><td>56</td><td>20440</td></tr>",
                            "<tr><td>16</td><td>Manning</td><td>Harper</td><td>2003-06-08</td><td>7</td><td>12</td><td>32895</td></tr>",
                            "<tr><td>17</td><td>Shelton</td><td>Joshua</td><td>2011-06-07</td><td>7</td><td>82</td><td>4051</td></tr>",
                            "<tr><td>18</td><td>Brooks</td><td>Lee</td><td>2007-06-17</td><td>6</td><td>42</td><td>5382</td></tr>",
                            "<tr><td>19</td><td>Barrister</td><td>Brandt</td><td>2010-07-04</td><td>3</td><td>93</td><td>26824</td></tr>",
                            "<tr><td>20</td><td>Peters</td><td>Maggs</td><td>2005-05-15</td><td>6</td><td>53</td><td>29338</td></tr>",
                            "<tr><td>21</td><td>Jones</td><td>Piper</td><td>2019-02-18</td><td>1</td><td>23</td><td>32288</td></tr>",
                            "<tr><td>22</td><td>Ridgley</td><td>Brian</td><td>2011-05-18</td><td>7</td><td>95</td><td>12960</td></tr>",
                            "<tr><td>23</td><td>Seiler</td><td>Mike</td><td>2009-07-15</td><td>2</td><td>86</td><td>343</td></tr>",
                            "<tr><td>24</td><td>Smith</td><td>Erin</td><td>2016-02-10</td><td>7</td><td>24</td><td>18141</td></tr>",
                            "<tr><td>25</td><td>Riochardson</td><td>Miguel</td><td>2009-05-18</td><td>6</td><td>50</td><td>11681</td></tr>",
                            "<tr><td>26</td><td>Rice</td><td>Adam</td><td>2005-12-31</td><td>5</td><td>98</td><td>33629</td></tr>",
                            "<tr><td>27</td><td>Jones</td><td>Noel</td><td>2003-01-17</td><td>2</td><td>48</td><td>34110</td></tr>",
                            "<tr><td>28</td><td>Garth</td><td>Brandon</td><td>2003-04-04</td><td>6</td><td>80</td><td>214</td></tr>",
                            "<tr><td>29</td><td>Saylor</td><td>Farris</td><td>2005-10-02</td><td>6</td><td>49</td><td>219</td></tr>",
                            "<tr><td>30</td><td>Tompsen</td><td>Taylor</td><td>2007-12-05</td><td>5</td><td>50</td><td>4456</td></tr>",
                            "<tr><td>31</td><td>Stevens</td><td>Jonathon</td><td>2007-06-18</td><td>1</td><td>6</td><td>24289</td></tr>",
                            "<tr><td>32</td><td>Cooper</td><td>Jack</td><td>2005-05-28</td><td>7</td><td>17</td><td>32966</td></tr>",
                            "<tr><td>33</td><td>Applewood</td><td>Eric</td><td>2013-04-05</td><td>3</td><td>30</td><td>32149</td></tr>",
                            "<tr><td>34</td><td>Peters</td><td>Jonathon</td><td>2009-01-19</td><td>1</td><td>32</td><td>18178</td></tr>",
                            "<tr><td>35</td><td>Manning</td><td>Robert</td><td>2014-02-11</td><td>5</td><td>78</td><td>14867</td></tr>",
                            "<tr><td>36</td><td>Smith</td><td>Brandt</td><td>2008-01-18</td><td>1</td><td>94</td><td>13245</td></tr>",
                            "<tr><td>37</td><td>Delacruz</td><td>Timothy</td><td>2006-02-11</td><td>5</td><td>28</td><td>33024</td></tr>",
                            "<tr><td>38</td><td>Jackson</td><td>Harper</td><td>2005-09-07</td><td>4</td><td>9</td><td>11960</td></tr>",
                            "<tr><td>39</td><td>Sherman</td><td>Mads</td><td>2016-11-22</td><td>7</td><td>66</td><td>11585</td></tr>",
                            "<tr><td>40</td><td>Dickerson</td><td>Thomas</td><td>2001-04-25</td><td>6</td><td>24</td><td>29893</td></tr>",
                            "<tr><td>41</td><td>Robinson</td><td>Albert</td><td>2009-06-05</td><td>6</td><td>12</td><td>35560</td></tr>",
                            "<tr><td>42</td><td>MacBain</td><td>Eric</td><td>2017-07-06</td><td>5</td><td>73</td><td>28515</td></tr>",
                            "<tr><td>43</td><td>Riochardson</td><td>Kenadi</td><td>2010-06-10</td><td>3</td><td>98</td><td>11256</td></tr>",
                            "<tr><td>44</td><td>Jordan</td><td>Samuel</td><td>2005-06-25</td><td>7</td><td>15</td><td>27342</td></tr>",
                            "<tr><td>45</td><td>Archibald</td><td>Brandon</td><td>2012-05-18</td><td>7</td><td>76</td><td>7746</td></tr>",
                            "<tr><td>46</td><td>Dickerson</td><td>Brandt</td><td>2018-02-19</td><td>4</td><td>9</td><td>16662</td></tr>",
                            "<tr><td>47</td><td>Manchester</td><td>Brandon</td><td>2018-12-14</td><td>1</td><td>43</td><td>34586</td></tr>",
                            "<tr><td>48</td><td>Booker</td><td>Thomas</td><td>2010-11-23</td><td>2</td><td>7</td><td>13092</td></tr>",
                            "<tr><td>49</td><td>Willis</td><td>Margo</td><td>2006-01-17</td><td>6</td><td>55</td><td>24792</td></tr>",
                            "<tr><td>50</td><td>Garcia</td><td>Piper</td><td>2007-08-12</td><td>2</td><td>22</td><td>6938</td></tr>",
                            "<tr><td>51</td><td>Willis</td><td>Eric</td><td>2007-08-15</td><td>4</td><td>11</td><td>27024</td></tr>",
                            "<tr><td>52</td><td>Connery</td><td>Brandt</td><td>2010-12-19</td><td>3</td><td>78</td><td>3610</td></tr>",
                            "<tr><td>53</td><td>Dawson</td><td>Alister</td><td>2001-05-24</td><td>3</td><td>56</td><td>1673</td></tr>",
                            "<tr><td>54</td><td>Deleon</td><td>Adam</td><td>2006-09-25</td><td>5</td><td>26</td><td>15177</td></tr>",
                            "<tr><td>55</td><td>Jamieson</td><td>Brian</td><td>2011-11-05</td><td>3</td><td>54</td><td>32575</td></tr>",
                            "<tr><td>56</td><td>Garth</td><td>Corey</td><td>2009-04-05</td><td>4</td><td>21</td><td>31237</td></tr>",
                            "<tr><td>57</td><td>Rowley</td><td>Timothy</td><td>2007-08-19</td><td>4</td><td>71</td><td>34904</td></tr>",
                            "<tr><td>58</td><td>Bangeson</td><td>Moritz</td><td>2008-03-29</td><td>4</td><td>92</td><td>9206</td></tr>",
                            "<tr><td>59</td><td>Jones</td><td>Timothy</td><td>2002-04-05</td><td>2</td><td>88</td><td>12456</td></tr>",
                            "<tr><td>60</td><td>French</td><td>Summer</td><td>2015-05-28</td><td>5</td><td>11</td><td>13415</td></tr>",
                            "<tr><td>61</td><td>Ellis</td><td>Mindy</td><td>2001-01-14</td><td>3</td><td>85</td><td>15895</td></tr>",
                            "<tr><td>62</td><td>Deleon</td><td>Mike</td><td>2013-01-02</td><td>1</td><td>55</td><td>8770</td></tr>",
                            "<tr><td>63</td><td>Shelton</td><td>Leah</td><td>2013-03-29</td><td>3</td><td>66</td><td>10363</td></tr>",
                            "<tr><td>64</td><td>Ellis</td><td>Robert</td><td>2013-01-31</td><td>4</td><td>46</td><td>26844</td></tr>",
                            "<tr><td>65</td><td>Smith-Warren</td><td>Summer</td><td>2003-12-10</td><td>7</td><td>65</td><td>34927</td></tr>",
                            "<tr><td>66</td><td>Manchester</td><td>Airn</td><td>2019-09-14</td><td>2</td><td>29</td><td>18443</td></tr>",
                            "<tr><td>67</td><td>Harper</td><td>Robert</td><td>2015-11-04</td><td>3</td><td>44</td><td>2397</td></tr>",
                            "<tr><td>68</td><td>Manning</td><td>Mindy</td><td>2015-12-30</td><td>7</td><td>48</td><td>10850</td></tr>",
                            "<tr><td>69</td><td>Etzler</td><td>Summer</td><td>2002-03-30</td><td>6</td><td>54</td><td>18814</td></tr>",
                            "<tr><td>70</td><td>Sanchez</td><td>Harper</td><td>2017-06-07</td><td>3</td><td>46</td><td>24331</td></tr>",
                            "<tr><td>71</td><td>MacBain</td><td>Mike</td><td>2012-10-08</td><td>2</td><td>40</td><td>29269</td></tr>",
                            "<tr><td>72</td><td>Rice</td><td>Manuel</td><td>2006-10-04</td><td>6</td><td>88</td><td>34148</td></tr>",
                            "<tr><td>73</td><td>Garcia</td><td>Valerie</td><td>2007-03-04</td><td>2</td><td>85</td><td>3769</td></tr>",
                            "<tr><td>74</td><td>Deleon</td><td>Blain</td><td>2007-10-23</td><td>1</td><td>89</td><td>19769</td></tr>",
                            "<tr><td>75</td><td>Jones</td><td>Leah</td><td>2015-11-10</td><td>6</td><td>41</td><td>18703</td></tr>",
                            "<tr><td>76</td><td>Slain</td><td>Mike</td><td>2005-10-03</td><td>3</td><td>82</td><td>15372</td></tr>",
                            "<tr><td>77</td><td>Riochardson</td><td>Farris</td><td>2001-04-20</td><td>1</td><td>31</td><td>9710</td></tr>",
                            "<tr><td>78</td><td>Acosta</td><td>Harper</td><td>2018-06-05</td><td>4</td><td>2</td><td>16248</td></tr>",
                            "<tr><td>79</td><td>Roberts</td><td>George</td><td>2003-04-09</td><td>5</td><td>28</td><td>33987</td></tr>",
                            "<tr><td>80</td><td>Jones</td><td>Maggs</td><td>2010-08-11</td><td>6</td><td>79</td><td>29936</td></tr>",
                            "<tr><td>81</td><td>Smith-Warren</td><td>Brandt</td><td>2019-11-01</td><td>2</td><td>17</td><td>32534</td></tr>",
                            "<tr><td>82</td><td>Archibald</td><td>Moritz</td><td>2014-07-05</td><td>4</td><td>26</td><td>13809</td></tr>",
                            "<tr><td>83</td><td>Tankersly</td><td>Robert</td><td>2014-03-26</td><td>5</td><td>29</td><td>7916</td></tr>",
                            "<tr><td>84</td><td>Monk</td><td>Jonathon</td><td>2006-02-18</td><td>5</td><td>47</td><td>8794</td></tr>",
                            "<tr><td>85</td><td>Stevens</td><td>Piper</td><td>2011-11-22</td><td>7</td><td>55</td><td>15942</td></tr>",
                            "<tr><td>86</td><td>Etzler</td><td>Thomas</td><td>2006-12-29</td><td>4</td><td>59</td><td>570</td></tr>",
                            "<tr><td>87</td><td>Conley</td><td>Mindy</td><td>2003-04-02</td><td>5</td><td>21</td><td>10108</td></tr>",
                            "<tr><td>88</td><td>Smith</td><td>Tristan</td><td>2010-10-10</td><td>2</td><td>27</td><td>11050</td></tr>",
                            "<tr><td>89</td><td>Hart</td><td>Brandon</td><td>2011-10-03</td><td>7</td><td>51</td><td>558</td></tr>",
                            "<tr><td>90</td><td>Presten</td><td>Chris</td><td>2019-08-12</td><td>5</td><td>8</td><td>31682</td></tr>",
                            "<tr><td>91</td><td>Delacruz</td><td>Adam</td><td>2006-04-15</td><td>6</td><td>53</td><td>3901</td></tr>",
                            "<tr><td>92</td><td>Banks</td><td>Timothy</td><td>2010-11-12</td><td>5</td><td>35</td><td>17503</td></tr>",
                            "<tr><td>93</td><td>Johnasen</td><td>Adam</td><td>2017-04-26</td><td>7</td><td>96</td><td>28024</td></tr>",
                            "<tr><td>94</td><td>Barrister</td><td>George</td><td>2013-02-06</td><td>7</td><td>25</td><td>20770</td></tr>",
                            "<tr><td>95</td><td>Manchester</td><td>Jasmine</td><td>2019-01-17</td><td>3</td><td>75</td><td>7223</td></tr>",
                            "<tr><td>96</td><td>Manning</td><td>Kristoff</td><td>2017-08-19</td><td>3</td><td>25</td><td>9650</td></tr>",
                            "<tr><td>97</td><td>Moore</td><td>Farris</td><td>2009-02-22</td><td>1</td><td>43</td><td>27060</td></tr>",
                            "<tr><td>98</td><td>French</td><td>Leah</td><td>2015-12-12</td><td>3</td><td>34</td><td>19868</td></tr>",
                            "<tr><td>99</td><td>Manning</td><td>Mike</td><td>2009-01-12</td><td>1</td><td>8</td><td>2308</td></tr>",
                            "<tr><td>100</td><td>Presten</td><td>Corey</td><td>2009-08-19</td><td>2</td><td>82</td><td>21106</td></tr>",
                            "</table>"
                        ]
                    }
                }
            ],
            "execution_count": 5
        },
        {
            "cell_type": "code",
            "source": [
                ""
            ],
            "metadata": {
                "language": "sql",
                "azdata_cell_guid": "4d14b3c9-396b-4726-9b38-2f35a1247ea7"
            },
            "outputs": [
                {
                    "output_type": "display_data",
                    "data": {
                        "text/html": "Total execution time: 00:00:00"
                    },
                    "metadata": {}
                }
            ],
            "execution_count": 6
        },
        {
            "cell_type": "code",
            "source": [
                "SELECT *\r\n",
                "FROM DSCI_504.customers\r\n",
                "WHERE cus_join_date = '2020-12-12';"
            ],
            "metadata": {
                "language": "sql",
                "azdata_cell_guid": "60b16e5d-e5d5-4125-b814-5bc7aa69e0ba"
            },
            "outputs": [
                {
                    "output_type": "display_data",
                    "data": {
                        "text/html": "(1 row(s) affected)"
                    },
                    "metadata": {}
                },
                {
                    "output_type": "display_data",
                    "data": {
                        "text/html": "Total execution time: 00:00:00.019"
                    },
                    "metadata": {}
                },
                {
                    "output_type": "execute_result",
                    "metadata": {},
                    "execution_count": 15,
                    "data": {
                        "application/vnd.dataresource+json": {
                            "schema": {
                                "fields": [
                                    {
                                        "name": "cus_id"
                                    },
                                    {
                                        "name": "cus_num"
                                    },
                                    {
                                        "name": "cus_last_name"
                                    },
                                    {
                                        "name": "cus_first_name"
                                    },
                                    {
                                        "name": "cus_add_num"
                                    },
                                    {
                                        "name": "cus_address"
                                    },
                                    {
                                        "name": "cus_city"
                                    },
                                    {
                                        "name": "cus_state"
                                    },
                                    {
                                        "name": "cus_zip"
                                    },
                                    {
                                        "name": "cus_phone"
                                    },
                                    {
                                        "name": "cus_join_date"
                                    },
                                    {
                                        "name": "cus_app_cd"
                                    },
                                    {
                                        "name": "cus_app_num"
                                    },
                                    {
                                        "name": "tot_ord_qty"
                                    },
                                    {
                                        "name": "tot_ord_value"
                                    },
                                    {
                                        "name": "cus_app_lvl"
                                    }
                                ]
                            },
                            "data": [
                                {
                                    "cus_id": "2609",
                                    "cus_num": "NULL",
                                    "cus_last_name": "Bohme",
                                    "cus_first_name": "Bohuslav",
                                    "cus_add_num": "135",
                                    "cus_address": "Homewood Ln",
                                    "cus_city": "Merrimack",
                                    "cus_state": "19",
                                    "cus_zip": "3054",
                                    "cus_phone": "3147113467",
                                    "cus_join_date": "2020-12-12",
                                    "cus_app_cd": "19",
                                    "cus_app_num": "OPC85622824",
                                    "tot_ord_qty": "96",
                                    "tot_ord_value": "15178.38",
                                    "cus_app_lvl": "High"
                                }
                            ]
                        },
                        "text/html": [
                            "<table>",
                            "<tr><th>cus_id</th><th>cus_num</th><th>cus_last_name</th><th>cus_first_name</th><th>cus_add_num</th><th>cus_address</th><th>cus_city</th><th>cus_state</th><th>cus_zip</th><th>cus_phone</th><th>cus_join_date</th><th>cus_app_cd</th><th>cus_app_num</th><th>tot_ord_qty</th><th>tot_ord_value</th><th>cus_app_lvl</th></tr>",
                            "<tr><td>2609</td><td>NULL</td><td>Bohme</td><td>Bohuslav</td><td>135</td><td>Homewood Ln</td><td>Merrimack</td><td>19</td><td>3054</td><td>3147113467</td><td>2020-12-12</td><td>19</td><td>OPC85622824</td><td>96</td><td>15178.38</td><td>High</td></tr>",
                            "</table>"
                        ]
                    }
                }
            ],
            "execution_count": 15
        },
        {
            "cell_type": "markdown",
            "source": [
                "Part 4"
            ],
            "metadata": {
                "language": "sql",
                "azdata_cell_guid": "ef94e0fd-4420-4428-80d1-3398106eb345"
            },
            "attachments": {}
        },
        {
            "cell_type": "code",
            "source": [
                "UPDATE dsci_504.taxes\r\n",
                "SET tax_rate = CASE tax_loc\r\n",
                "    WHEN 'Alabama' THEN 4.00\r\n",
                "    WHEN 'Alaska' THEN 0.00\r\n",
                "    WHEN 'Arizona' THEN 5.60\r\n",
                "    WHEN 'Arkansas' THEN 6.50\r\n",
                "    WHEN 'California' THEN 7.25\r\n",
                "    WHEN 'Colorado' THEN 2.90\r\n",
                "    WHEN 'Connecticut' THEN 6.35\r\n",
                "    WHEN 'Delaware' THEN 0.00\r\n",
                "    WHEN 'District of Columbia' THEN 6.00\r\n",
                "    WHEN 'Florida' THEN 6.00\r\n",
                "    WHEN 'Georgia' THEN 4.00\r\n",
                "    WHEN 'Hawaii' THEN 4.00\r\n",
                "    WHEN 'Idaho' THEN 6.00\r\n",
                "    WHEN 'Illinois' THEN 6.25\r\n",
                "    WHEN 'Indiana' THEN 7.00\r\n",
                "    WHEN 'Iowa' THEN 6.00\r\n",
                "    WHEN 'Kansas' THEN 6.50\r\n",
                "    WHEN 'Kentucky' THEN 6.00\r\n",
                "    WHEN 'Louisiana' THEN 4.45\r\n",
                "    WHEN 'Maine' THEN 5.50\r\n",
                "    WHEN 'Maryland' THEN 6.00\r\n",
                "    WHEN 'Massachusetts' THEN 6.25\r\n",
                "    WHEN 'Michigan' THEN 6.00\r\n",
                "    WHEN 'Minnesota' THEN 6.875\r\n",
                "    WHEN 'Mississippi' THEN 7.00\r\n",
                "    WHEN 'Missouri' THEN 4.225\r\n",
                "    WHEN 'Montana' THEN 0.00\r\n",
                "    WHEN 'Nebraska' THEN 5.50\r\n",
                "    WHEN 'Nevada' THEN 6.85\r\n",
                "    WHEN 'New Hampshire' THEN 0.00\r\n",
                "    WHEN 'New Jersey' THEN 6.625\r\n",
                "    WHEN 'New Mexico' THEN 5.00\r\n",
                "    WHEN 'New York' THEN 4.00\r\n",
                "    WHEN 'North Carolina' THEN 4.75\r\n",
                "    WHEN 'North Dakota' THEN 5.00\r\n",
                "    WHEN 'Ohio' THEN 5.75\r\n",
                "    WHEN 'Oklahoma' THEN 4.50\r\n",
                "    WHEN 'Oregon' THEN 0.00\r\n",
                "    WHEN 'Pennsylvania' THEN 6.00\r\n",
                "    WHEN 'Rhode Island' THEN 7.00\r\n",
                "    WHEN 'South Carolina' THEN 6.00\r\n",
                "    WHEN 'South Dakota' THEN 4.50\r\n",
                "    WHEN 'Tennessee' THEN 7.00\r\n",
                "    WHEN 'Texas' THEN 6.25\r\n",
                "    WHEN 'Utah' THEN 4.85\r\n",
                "    WHEN 'Vermont' THEN 6.00\r\n",
                "    WHEN 'Virginia' THEN 5.30\r\n",
                "    WHEN 'Washington' THEN 6.50\r\n",
                "    WHEN 'West Virginia' THEN 6.00\r\n",
                "    WHEN 'Wisconsin' THEN 5.00\r\n",
                "    WHEN 'Wyoming' THEN 4.00\r\n",
                "END;"
            ],
            "metadata": {
                "language": "sql",
                "azdata_cell_guid": "893242a5-24a1-4e71-8754-f048be501cb7"
            },
            "outputs": [
                {
                    "output_type": "display_data",
                    "data": {
                        "text/html": "UPDATE 31"
                    },
                    "metadata": {}
                },
                {
                    "output_type": "display_data",
                    "data": {
                        "text/html": "Total execution time: 00:00:00.004"
                    },
                    "metadata": {}
                }
            ],
            "execution_count": 168
        },
        {
            "cell_type": "code",
            "source": [
                "SELECT * FROM dsci_504.taxes LIMIT 100;"
            ],
            "metadata": {
                "language": "sql",
                "azdata_cell_guid": "5bed36a2-3b96-486f-8378-bbc5f0ce7f01"
            },
            "outputs": [
                {
                    "output_type": "display_data",
                    "data": {
                        "text/html": "(31 row(s) affected)"
                    },
                    "metadata": {}
                },
                {
                    "output_type": "display_data",
                    "data": {
                        "text/html": "Total execution time: 00:00:00.004"
                    },
                    "metadata": {}
                },
                {
                    "output_type": "execute_result",
                    "metadata": {},
                    "execution_count": 171,
                    "data": {
                        "application/vnd.dataresource+json": {
                            "schema": {
                                "fields": [
                                    {
                                        "name": "tax_id"
                                    },
                                    {
                                        "name": "tax_loc"
                                    },
                                    {
                                        "name": "tax_rate"
                                    }
                                ]
                            },
                            "data": [
                                {
                                    "tax_id": "2",
                                    "tax_loc": "AL",
                                    "tax_rate": "NULL"
                                },
                                {
                                    "tax_id": "3",
                                    "tax_loc": "AZ",
                                    "tax_rate": "NULL"
                                },
                                {
                                    "tax_id": "4",
                                    "tax_loc": "CA",
                                    "tax_rate": "NULL"
                                },
                                {
                                    "tax_id": "5",
                                    "tax_loc": "CO",
                                    "tax_rate": "NULL"
                                },
                                {
                                    "tax_id": "6",
                                    "tax_loc": "CT",
                                    "tax_rate": "NULL"
                                },
                                {
                                    "tax_id": "7",
                                    "tax_loc": "DE",
                                    "tax_rate": "NULL"
                                },
                                {
                                    "tax_id": "8",
                                    "tax_loc": "FL",
                                    "tax_rate": "NULL"
                                },
                                {
                                    "tax_id": "9",
                                    "tax_loc": "GA",
                                    "tax_rate": "NULL"
                                },
                                {
                                    "tax_id": "10",
                                    "tax_loc": "HI",
                                    "tax_rate": "NULL"
                                },
                                {
                                    "tax_id": "11",
                                    "tax_loc": "IA",
                                    "tax_rate": "NULL"
                                },
                                {
                                    "tax_id": "12",
                                    "tax_loc": "IN",
                                    "tax_rate": "NULL"
                                },
                                {
                                    "tax_id": "14",
                                    "tax_loc": "KY",
                                    "tax_rate": "NULL"
                                },
                                {
                                    "tax_id": "15",
                                    "tax_loc": "LA",
                                    "tax_rate": "NULL"
                                },
                                {
                                    "tax_id": "16",
                                    "tax_loc": "ME",
                                    "tax_rate": "NULL"
                                },
                                {
                                    "tax_id": "18",
                                    "tax_loc": "NC",
                                    "tax_rate": "NULL"
                                },
                                {
                                    "tax_id": "19",
                                    "tax_loc": "NE",
                                    "tax_rate": "NULL"
                                },
                                {
                                    "tax_id": "20",
                                    "tax_loc": "OH",
                                    "tax_rate": "NULL"
                                },
                                {
                                    "tax_id": "21",
                                    "tax_loc": "OR",
                                    "tax_rate": "NULL"
                                },
                                {
                                    "tax_id": "23",
                                    "tax_loc": "RI",
                                    "tax_rate": "NULL"
                                },
                                {
                                    "tax_id": "24",
                                    "tax_loc": "SC",
                                    "tax_rate": "NULL"
                                },
                                {
                                    "tax_id": "25",
                                    "tax_loc": "TN",
                                    "tax_rate": "NULL"
                                },
                                {
                                    "tax_id": "26",
                                    "tax_loc": "UT",
                                    "tax_rate": "NULL"
                                },
                                {
                                    "tax_id": "27",
                                    "tax_loc": "VA",
                                    "tax_rate": "NULL"
                                },
                                {
                                    "tax_id": "28",
                                    "tax_loc": "WA",
                                    "tax_rate": "NULL"
                                },
                                {
                                    "tax_id": "29",
                                    "tax_loc": "WV",
                                    "tax_rate": "NULL"
                                },
                                {
                                    "tax_id": "30",
                                    "tax_loc": "WY",
                                    "tax_rate": "NULL"
                                },
                                {
                                    "tax_id": "31",
                                    "tax_loc": "NY",
                                    "tax_rate": "NULL"
                                },
                                {
                                    "tax_id": "17",
                                    "tax_loc": "MN",
                                    "tax_rate": "NULL"
                                },
                                {
                                    "tax_id": "22",
                                    "tax_loc": "PA",
                                    "tax_rate": "NULL"
                                },
                                {
                                    "tax_id": "1",
                                    "tax_loc": "AK",
                                    "tax_rate": "NULL"
                                },
                                {
                                    "tax_id": "13",
                                    "tax_loc": "KS",
                                    "tax_rate": "NULL"
                                }
                            ]
                        },
                        "text/html": [
                            "<table>",
                            "<tr><th>tax_id</th><th>tax_loc</th><th>tax_rate</th></tr>",
                            "<tr><td>2</td><td>AL</td><td>NULL</td></tr>",
                            "<tr><td>3</td><td>AZ</td><td>NULL</td></tr>",
                            "<tr><td>4</td><td>CA</td><td>NULL</td></tr>",
                            "<tr><td>5</td><td>CO</td><td>NULL</td></tr>",
                            "<tr><td>6</td><td>CT</td><td>NULL</td></tr>",
                            "<tr><td>7</td><td>DE</td><td>NULL</td></tr>",
                            "<tr><td>8</td><td>FL</td><td>NULL</td></tr>",
                            "<tr><td>9</td><td>GA</td><td>NULL</td></tr>",
                            "<tr><td>10</td><td>HI</td><td>NULL</td></tr>",
                            "<tr><td>11</td><td>IA</td><td>NULL</td></tr>",
                            "<tr><td>12</td><td>IN</td><td>NULL</td></tr>",
                            "<tr><td>14</td><td>KY</td><td>NULL</td></tr>",
                            "<tr><td>15</td><td>LA</td><td>NULL</td></tr>",
                            "<tr><td>16</td><td>ME</td><td>NULL</td></tr>",
                            "<tr><td>18</td><td>NC</td><td>NULL</td></tr>",
                            "<tr><td>19</td><td>NE</td><td>NULL</td></tr>",
                            "<tr><td>20</td><td>OH</td><td>NULL</td></tr>",
                            "<tr><td>21</td><td>OR</td><td>NULL</td></tr>",
                            "<tr><td>23</td><td>RI</td><td>NULL</td></tr>",
                            "<tr><td>24</td><td>SC</td><td>NULL</td></tr>",
                            "<tr><td>25</td><td>TN</td><td>NULL</td></tr>",
                            "<tr><td>26</td><td>UT</td><td>NULL</td></tr>",
                            "<tr><td>27</td><td>VA</td><td>NULL</td></tr>",
                            "<tr><td>28</td><td>WA</td><td>NULL</td></tr>",
                            "<tr><td>29</td><td>WV</td><td>NULL</td></tr>",
                            "<tr><td>30</td><td>WY</td><td>NULL</td></tr>",
                            "<tr><td>31</td><td>NY</td><td>NULL</td></tr>",
                            "<tr><td>17</td><td>MN</td><td>NULL</td></tr>",
                            "<tr><td>22</td><td>PA</td><td>NULL</td></tr>",
                            "<tr><td>1</td><td>AK</td><td>NULL</td></tr>",
                            "<tr><td>13</td><td>KS</td><td>NULL</td></tr>",
                            "</table>"
                        ]
                    }
                }
            ],
            "execution_count": 171
        },
        {
            "cell_type": "code",
            "source": [
                "SELECT\r\n",
                "    o.ord_id,\r\n",
                "    o.cus_id,\r\n",
                "    o.ord_date,\r\n",
                "    o.order_tot,\r\n",
                "    (o.order_tot * (1 + t.tax_rate)) AS order_total_2022\r\n",
                "FROM\r\n",
                "    dsci_504.orders o\r\n",
                "JOIN\r\n",
                "    dsci_504.customers c ON o.cus_id = c.cus_id\r\n",
                "JOIN\r\n",
                "    dsci_504.taxes t ON CAST(c.cus_state AS varchar) = t.tax_loc\r\n",
                "WHERE\r\n",
                "    o.ord_date > '2019-01-01'\r\n",
                "    AND c.cus_state = 20\r\n",
                "    AND t.tax_year = 2022;\r\n",
                ""
            ],
            "metadata": {
                "language": "sql",
                "azdata_cell_guid": "4d598b23-82ae-44a6-91ab-3fc246d0e446"
            },
            "outputs": [
                {
                    "output_type": "error",
                    "evalue": "column t.tax_year does not exist",
                    "ename": "",
                    "traceback": []
                },
                {
                    "output_type": "display_data",
                    "data": {
                        "text/html": "Total execution time: 00:00:00.002"
                    },
                    "metadata": {}
                }
            ],
            "execution_count": 181
        },
        {
            "cell_type": "code",
            "source": [
                "SELECT\r\n",
                "    o.ord_id,\r\n",
                "    o.cus_id,\r\n",
                "    o.ord_date,\r\n",
                "    o.order_tot,\r\n",
                "    (o.order_tot * (1 + t.tax_rate)) AS order_total_2022\r\n",
                "FROM\r\n",
                "    dsci_504.orders o\r\n",
                "JOIN\r\n",
                "    dsci_504.customers c ON o.cus_id = c.cus_id\r\n",
                "JOIN\r\n",
                "    dsci_504.taxes t ON c.cus_state::VARCHAR = t.tax_loc::VARCHAR\r\n",
                "WHERE\r\n",
                "    o.ord_date > '2019-01-01'\r\n",
                "    AND c.cus_state::VARCHAR = 'OH'\r\n",
                "    AND t.tax_loc::VARCHAR = 'OH'\r\n",
                "ORDER BY\r\n",
                "    o.ord_date;\r\n",
                ""
            ],
            "metadata": {
                "language": "sql",
                "azdata_cell_guid": "e88ce819-fe0e-43eb-9bcd-30560c0e3d44"
            },
            "outputs": [
                {
                    "output_type": "display_data",
                    "data": {
                        "text/html": "(0 row(s) affected)"
                    },
                    "metadata": {}
                },
                {
                    "output_type": "display_data",
                    "data": {
                        "text/html": "Total execution time: 00:00:00.011"
                    },
                    "metadata": {}
                },
                {
                    "output_type": "execute_result",
                    "metadata": {},
                    "execution_count": 188,
                    "data": {
                        "application/vnd.dataresource+json": {
                            "schema": {
                                "fields": [
                                    {
                                        "name": "ord_id"
                                    },
                                    {
                                        "name": "cus_id"
                                    },
                                    {
                                        "name": "ord_date"
                                    },
                                    {
                                        "name": "order_tot"
                                    },
                                    {
                                        "name": "order_total_2022"
                                    }
                                ]
                            },
                            "data": []
                        },
                        "text/html": [
                            "<table>",
                            "<tr><th>ord_id</th><th>cus_id</th><th>ord_date</th><th>order_tot</th><th>order_total_2022</th></tr>",
                            "</table>"
                        ]
                    }
                }
            ],
            "execution_count": 188
        },
        {
            "cell_type": "code",
            "source": [
                "SELECT\r\n",
                "    o.ord_id,\r\n",
                "    o.cus_id,\r\n",
                "    o.ord_date,\r\n",
                "    o.order_tot,\r\n",
                "    (o.order_tot * (1 + t.tax_rate)) AS order_total_with_tax\r\n",
                "FROM\r\n",
                "    dsci_504.orders o\r\n",
                "JOIN\r\n",
                "    dsci_504.customers c ON o.cus_id = c.cus_id\r\n",
                "JOIN\r\n",
                "    dsci_504.taxes t ON c.cus_state::VARCHAR = t.tax_loc::VARCHAR\r\n",
                "WHERE\r\n",
                "    o.ord_date > '2019-01-01'\r\n",
                "    AND c.cus_state::VARCHAR = 'OH'\r\n",
                "ORDER BY\r\n",
                "    o.ord_date;\r\n",
                ""
            ],
            "metadata": {
                "language": "sql",
                "azdata_cell_guid": "cc95cda5-c307-4cd9-b262-0e4ef01ee3b0"
            },
            "outputs": [
                {
                    "output_type": "display_data",
                    "data": {
                        "text/html": "(0 row(s) affected)"
                    },
                    "metadata": {}
                },
                {
                    "output_type": "display_data",
                    "data": {
                        "text/html": "Total execution time: 00:00:00.004"
                    },
                    "metadata": {}
                },
                {
                    "output_type": "execute_result",
                    "metadata": {},
                    "execution_count": 191,
                    "data": {
                        "application/vnd.dataresource+json": {
                            "schema": {
                                "fields": [
                                    {
                                        "name": "ord_id"
                                    },
                                    {
                                        "name": "cus_id"
                                    },
                                    {
                                        "name": "ord_date"
                                    },
                                    {
                                        "name": "order_tot"
                                    },
                                    {
                                        "name": "order_total_with_tax"
                                    }
                                ]
                            },
                            "data": []
                        },
                        "text/html": [
                            "<table>",
                            "<tr><th>ord_id</th><th>cus_id</th><th>ord_date</th><th>order_tot</th><th>order_total_with_tax</th></tr>",
                            "</table>"
                        ]
                    }
                }
            ],
            "execution_count": 191
        },
        {
            "cell_type": "markdown",
            "source": [
                "Part 5"
            ],
            "metadata": {
                "language": "sql",
                "azdata_cell_guid": "88a7c280-0efa-4a12-ada6-8778c23888e0"
            },
            "attachments": {}
        },
        {
            "cell_type": "code",
            "source": [
                "SELECT SUM(CAST(cus_phone AS BIGINT)) AS cus_phone\r\n",
                "FROM dsci_504.customers\r\n",
                "WHERE cus_state = 4;"
            ],
            "metadata": {
                "language": "sql",
                "azdata_cell_guid": "609dff1a-9047-4e8e-90b1-18452e708322"
            },
            "outputs": [
                {
                    "output_type": "display_data",
                    "data": {
                        "text/html": "(1 row(s) affected)"
                    },
                    "metadata": {}
                },
                {
                    "output_type": "display_data",
                    "data": {
                        "text/html": "Total execution time: 00:00:00.007"
                    },
                    "metadata": {}
                },
                {
                    "output_type": "execute_result",
                    "metadata": {},
                    "execution_count": 196,
                    "data": {
                        "application/vnd.dataresource+json": {
                            "schema": {
                                "fields": [
                                    {
                                        "name": "cus_phone"
                                    }
                                ]
                            },
                            "data": [
                                {
                                    "cus_phone": "395577183626"
                                }
                            ]
                        },
                        "text/html": [
                            "<table>",
                            "<tr><th>cus_phone</th></tr>",
                            "<tr><td>395577183626</td></tr>",
                            "</table>"
                        ]
                    }
                }
            ],
            "execution_count": 196
        },
        {
            "cell_type": "code",
            "source": [
                "SELECT SUM(c.cus_zip) AS total_zip_code_sum\r\n",
                "FROM dsci_504.customers c\r\n",
                "JOIN dsci_504.orders o ON c.cus_id = o.cus_id\r\n",
                "WHERE c.cus_state = 29;"
            ],
            "metadata": {
                "language": "sql",
                "azdata_cell_guid": "adcc67dc-4449-4c74-88ae-09f8107ca481"
            },
            "outputs": [
                {
                    "output_type": "display_data",
                    "data": {
                        "text/html": "(1 row(s) affected)"
                    },
                    "metadata": {}
                },
                {
                    "output_type": "display_data",
                    "data": {
                        "text/html": "Total execution time: 00:00:00.005"
                    },
                    "metadata": {}
                },
                {
                    "output_type": "execute_result",
                    "metadata": {},
                    "execution_count": 203,
                    "data": {
                        "application/vnd.dataresource+json": {
                            "schema": {
                                "fields": [
                                    {
                                        "name": "total_zip_code_sum"
                                    }
                                ]
                            },
                            "data": [
                                {
                                    "total_zip_code_sum": "4848445"
                                }
                            ]
                        },
                        "text/html": [
                            "<table>",
                            "<tr><th>total_zip_code_sum</th></tr>",
                            "<tr><td>4848445</td></tr>",
                            "</table>"
                        ]
                    }
                }
            ],
            "execution_count": 203
        },
        {
            "cell_type": "code",
            "source": [
                "SELECT o.ord_tax_loc, COUNT(DISTINCT o.ord_id) AS order_count\r\n",
                "FROM dsci_504.orders o\r\n",
                "GROUP BY o.ord_tax_loc\r\n",
                "ORDER BY o.ord_tax_loc;"
            ],
            "metadata": {
                "language": "sql",
                "azdata_cell_guid": "a74bbf34-e6f2-43b4-ae11-85da5df6a74f"
            },
            "outputs": [
                {
                    "output_type": "display_data",
                    "data": {
                        "text/html": "(30 row(s) affected)"
                    },
                    "metadata": {}
                },
                {
                    "output_type": "display_data",
                    "data": {
                        "text/html": "Total execution time: 00:00:00.010"
                    },
                    "metadata": {}
                },
                {
                    "output_type": "execute_result",
                    "metadata": {},
                    "execution_count": 207,
                    "data": {
                        "application/vnd.dataresource+json": {
                            "schema": {
                                "fields": [
                                    {
                                        "name": "ord_tax_loc"
                                    },
                                    {
                                        "name": "order_count"
                                    }
                                ]
                            },
                            "data": [
                                {
                                    "ord_tax_loc": "1",
                                    "order_count": "83"
                                },
                                {
                                    "ord_tax_loc": "2",
                                    "order_count": "73"
                                },
                                {
                                    "ord_tax_loc": "3",
                                    "order_count": "87"
                                },
                                {
                                    "ord_tax_loc": "4",
                                    "order_count": "72"
                                },
                                {
                                    "ord_tax_loc": "5",
                                    "order_count": "81"
                                },
                                {
                                    "ord_tax_loc": "6",
                                    "order_count": "91"
                                },
                                {
                                    "ord_tax_loc": "7",
                                    "order_count": "93"
                                },
                                {
                                    "ord_tax_loc": "8",
                                    "order_count": "80"
                                },
                                {
                                    "ord_tax_loc": "9",
                                    "order_count": "87"
                                },
                                {
                                    "ord_tax_loc": "10",
                                    "order_count": "93"
                                },
                                {
                                    "ord_tax_loc": "11",
                                    "order_count": "76"
                                },
                                {
                                    "ord_tax_loc": "12",
                                    "order_count": "87"
                                },
                                {
                                    "ord_tax_loc": "13",
                                    "order_count": "87"
                                },
                                {
                                    "ord_tax_loc": "14",
                                    "order_count": "97"
                                },
                                {
                                    "ord_tax_loc": "15",
                                    "order_count": "89"
                                },
                                {
                                    "ord_tax_loc": "16",
                                    "order_count": "98"
                                },
                                {
                                    "ord_tax_loc": "17",
                                    "order_count": "87"
                                },
                                {
                                    "ord_tax_loc": "18",
                                    "order_count": "75"
                                },
                                {
                                    "ord_tax_loc": "19",
                                    "order_count": "85"
                                },
                                {
                                    "ord_tax_loc": "20",
                                    "order_count": "87"
                                },
                                {
                                    "ord_tax_loc": "21",
                                    "order_count": "90"
                                },
                                {
                                    "ord_tax_loc": "22",
                                    "order_count": "90"
                                },
                                {
                                    "ord_tax_loc": "23",
                                    "order_count": "90"
                                },
                                {
                                    "ord_tax_loc": "24",
                                    "order_count": "91"
                                },
                                {
                                    "ord_tax_loc": "25",
                                    "order_count": "71"
                                },
                                {
                                    "ord_tax_loc": "26",
                                    "order_count": "102"
                                },
                                {
                                    "ord_tax_loc": "27",
                                    "order_count": "87"
                                },
                                {
                                    "ord_tax_loc": "28",
                                    "order_count": "92"
                                },
                                {
                                    "ord_tax_loc": "29",
                                    "order_count": "95"
                                },
                                {
                                    "ord_tax_loc": "30",
                                    "order_count": "83"
                                }
                            ]
                        },
                        "text/html": [
                            "<table>",
                            "<tr><th>ord_tax_loc</th><th>order_count</th></tr>",
                            "<tr><td>1</td><td>83</td></tr>",
                            "<tr><td>2</td><td>73</td></tr>",
                            "<tr><td>3</td><td>87</td></tr>",
                            "<tr><td>4</td><td>72</td></tr>",
                            "<tr><td>5</td><td>81</td></tr>",
                            "<tr><td>6</td><td>91</td></tr>",
                            "<tr><td>7</td><td>93</td></tr>",
                            "<tr><td>8</td><td>80</td></tr>",
                            "<tr><td>9</td><td>87</td></tr>",
                            "<tr><td>10</td><td>93</td></tr>",
                            "<tr><td>11</td><td>76</td></tr>",
                            "<tr><td>12</td><td>87</td></tr>",
                            "<tr><td>13</td><td>87</td></tr>",
                            "<tr><td>14</td><td>97</td></tr>",
                            "<tr><td>15</td><td>89</td></tr>",
                            "<tr><td>16</td><td>98</td></tr>",
                            "<tr><td>17</td><td>87</td></tr>",
                            "<tr><td>18</td><td>75</td></tr>",
                            "<tr><td>19</td><td>85</td></tr>",
                            "<tr><td>20</td><td>87</td></tr>",
                            "<tr><td>21</td><td>90</td></tr>",
                            "<tr><td>22</td><td>90</td></tr>",
                            "<tr><td>23</td><td>90</td></tr>",
                            "<tr><td>24</td><td>91</td></tr>",
                            "<tr><td>25</td><td>71</td></tr>",
                            "<tr><td>26</td><td>102</td></tr>",
                            "<tr><td>27</td><td>87</td></tr>",
                            "<tr><td>28</td><td>92</td></tr>",
                            "<tr><td>29</td><td>95</td></tr>",
                            "<tr><td>30</td><td>83</td></tr>",
                            "</table>"
                        ]
                    }
                }
            ],
            "execution_count": 207
        },
        {
            "cell_type": "code",
            "source": [
                "WITH numbered_series AS (\r\n",
                "    SELECT generate_series(1, 10) AS iteration_number\r\n",
                ")\r\n",
                "SELECT \r\n",
                "    'OPC' || LPAD(CAST((random() * 10000000 + 10) * 195185 / 0.25 AS BIGINT)::TEXT, 8, '0') AS opc_customer_appreciation_number\r\n",
                "FROM \r\n",
                "    numbered_series;\r\n",
                ""
            ],
            "metadata": {
                "language": "sql",
                "azdata_cell_guid": "6bc0e0aa-0bd4-4025-8b17-d20c4b7f28d2"
            },
            "outputs": [
                {
                    "output_type": "display_data",
                    "data": {
                        "text/html": "(10 row(s) affected)"
                    },
                    "metadata": {}
                },
                {
                    "output_type": "display_data",
                    "data": {
                        "text/html": "Total execution time: 00:00:00.009"
                    },
                    "metadata": {}
                },
                {
                    "output_type": "execute_result",
                    "metadata": {},
                    "execution_count": 209,
                    "data": {
                        "application/vnd.dataresource+json": {
                            "schema": {
                                "fields": [
                                    {
                                        "name": "opc_customer_appreciation_number"
                                    }
                                ]
                            },
                            "data": [
                                {
                                    "opc_customer_appreciation_number": "OPC76977149"
                                },
                                {
                                    "opc_customer_appreciation_number": "OPC38584493"
                                },
                                {
                                    "opc_customer_appreciation_number": "OPC42772410"
                                },
                                {
                                    "opc_customer_appreciation_number": "OPC75356018"
                                },
                                {
                                    "opc_customer_appreciation_number": "OPC25919513"
                                },
                                {
                                    "opc_customer_appreciation_number": "OPC69564862"
                                },
                                {
                                    "opc_customer_appreciation_number": "OPC54127659"
                                },
                                {
                                    "opc_customer_appreciation_number": "OPC35607827"
                                },
                                {
                                    "opc_customer_appreciation_number": "OPC61290310"
                                },
                                {
                                    "opc_customer_appreciation_number": "OPC75980465"
                                }
                            ]
                        },
                        "text/html": [
                            "<table>",
                            "<tr><th>opc_customer_appreciation_number</th></tr>",
                            "<tr><td>OPC76977149</td></tr>",
                            "<tr><td>OPC38584493</td></tr>",
                            "<tr><td>OPC42772410</td></tr>",
                            "<tr><td>OPC75356018</td></tr>",
                            "<tr><td>OPC25919513</td></tr>",
                            "<tr><td>OPC69564862</td></tr>",
                            "<tr><td>OPC54127659</td></tr>",
                            "<tr><td>OPC35607827</td></tr>",
                            "<tr><td>OPC61290310</td></tr>",
                            "<tr><td>OPC75980465</td></tr>",
                            "</table>"
                        ]
                    }
                }
            ],
            "execution_count": 209
        },
        {
            "cell_type": "code",
            "source": [
                "CREATE TABLE public.customer_appreciation_numbers (\r\n",
                "    cus_app_num VARCHAR(20)\r\n",
                ");\r\n",
                ""
            ],
            "metadata": {
                "language": "sql",
                "azdata_cell_guid": "1961cd1d-f1e0-4bf7-a31b-1e7d50c231c0"
            },
            "outputs": [
                {
                    "output_type": "display_data",
                    "data": {
                        "text/html": "CREATE TABLE"
                    },
                    "metadata": {}
                },
                {
                    "output_type": "display_data",
                    "data": {
                        "text/html": "Total execution time: 00:00:00.007"
                    },
                    "metadata": {}
                }
            ],
            "execution_count": 211
        },
        {
            "cell_type": "code",
            "source": [
                "WITH numbered_series AS (\r\n",
                "    SELECT generate_series(1, (SELECT COUNT(*) FROM dsci_504.customers)) AS iteration_number\r\n",
                ")\r\n",
                "INSERT INTO public.customer_appreciation_numbers (cus_app_num)\r\n",
                "SELECT \r\n",
                "    'OPC' || LPAD(CAST((random() * 10000000 + 10) * 195185 / 0.25 AS BIGINT)::TEXT, 8, '0') AS opc_customer_appreciation_number\r\n",
                "FROM \r\n",
                "    numbered_series;\r\n",
                ""
            ],
            "metadata": {
                "language": "sql",
                "azdata_cell_guid": "a98d52a5-4915-40b3-a492-ee133b31028e",
                "tags": []
            },
            "outputs": [
                {
                    "output_type": "display_data",
                    "data": {
                        "text/html": "INSERT 0 2619"
                    },
                    "metadata": {}
                },
                {
                    "output_type": "display_data",
                    "data": {
                        "text/html": "Total execution time: 00:00:00.012"
                    },
                    "metadata": {}
                }
            ],
            "execution_count": 213
        },
        {
            "cell_type": "code",
            "source": [
                "SELECT cus_app_num\r\n",
                "FROM public.customer_appreciation_numbers\r\n",
                "ORDER BY cus_app_num\r\n",
                "LIMIT 1 OFFSET 499;"
            ],
            "metadata": {
                "language": "sql",
                "azdata_cell_guid": "34b8cfb0-2205-4549-9191-0dba9d43380a"
            },
            "outputs": [
                {
                    "output_type": "display_data",
                    "data": {
                        "text/html": "(1 row(s) affected)"
                    },
                    "metadata": {}
                },
                {
                    "output_type": "display_data",
                    "data": {
                        "text/html": "Total execution time: 00:00:00.013"
                    },
                    "metadata": {}
                },
                {
                    "output_type": "execute_result",
                    "metadata": {},
                    "execution_count": 215,
                    "data": {
                        "application/vnd.dataresource+json": {
                            "schema": {
                                "fields": [
                                    {
                                        "name": "cus_app_num"
                                    }
                                ]
                            },
                            "data": [
                                {
                                    "cus_app_num": "OPC23111923"
                                }
                            ]
                        },
                        "text/html": [
                            "<table>",
                            "<tr><th>cus_app_num</th></tr>",
                            "<tr><td>OPC23111923</td></tr>",
                            "</table>"
                        ]
                    }
                }
            ],
            "execution_count": 215
        },
        {
            "cell_type": "code",
            "source": [
                "UPDATE dsci_504.customers\r\n",
                "SET cus_app_num = NULL;"
            ],
            "metadata": {
                "language": "sql",
                "azdata_cell_guid": "081af52e-096d-4e8a-ab16-16c4ea07d579"
            },
            "outputs": [
                {
                    "output_type": "display_data",
                    "data": {
                        "text/html": "UPDATE 2619"
                    },
                    "metadata": {}
                },
                {
                    "output_type": "display_data",
                    "data": {
                        "text/html": "Total execution time: 00:00:00.029"
                    },
                    "metadata": {}
                }
            ],
            "execution_count": 217
        },
        {
            "cell_type": "code",
            "source": [
                "INSERT INTO dsci_504.customers (cus_app_num)\r\n",
                "SELECT cus_app_num\r\n",
                "FROM public.customer_appreciation_numbers;"
            ],
            "metadata": {
                "language": "sql",
                "azdata_cell_guid": "2dbaac41-4a38-4625-9de6-15e1376c47d2"
            },
            "outputs": [
                {
                    "output_type": "error",
                    "evalue": "null value in column \"cus_id\" of relation \"customers\" violates not-null constraint",
                    "ename": "",
                    "traceback": []
                },
                {
                    "output_type": "display_data",
                    "data": {
                        "text/html": "Total execution time: 00:00:00.002"
                    },
                    "metadata": {}
                }
            ],
            "execution_count": 224
        },
        {
            "cell_type": "code",
            "source": [
                "UPDATE dsci_504.customers\r\n",
                "SET cus_app_num = NULL;\r\n",
                "\r\n",
                "ALTER TABLE dsci_504.customers\r\n",
                "ALTER COLUMN cus_app_num TYPE VARCHAR(11);\r\n",
                "\r\n",
                "WITH appreciation_numbers AS (\r\n",
                "    SELECT appreciation_number, \r\n",
                "           ROW_NUMBER() OVER (ORDER BY id) AS rn\r\n",
                "    FROM public.opc_customer_appreciation\r\n",
                "),\r\n",
                "customers_with_rn AS (\r\n",
                "    SELECT cus_id, \r\n",
                "           ROW_NUMBER() OVER (ORDER BY cus_id) AS rn\r\n",
                "    FROM dsci_504.customers\r\n",
                ")\r\n",
                "UPDATE dsci_504.customers c\r\n",
                "SET cus_app_num = an.appreciation_number\r\n",
                "FROM appreciation_numbers an\r\n",
                "JOIN customers_with_rn crn ON c.cus_id = crn.cus_id AND an.rn = crn.rn;"
            ],
            "metadata": {
                "language": "sql",
                "azdata_cell_guid": "518d4b7f-5bdd-4ce3-a542-cf5f6ecb509b"
            },
            "outputs": [
                {
                    "output_type": "display_data",
                    "data": {
                        "text/html": "UPDATE 2619"
                    },
                    "metadata": {}
                },
                {
                    "output_type": "display_data",
                    "data": {
                        "text/html": "ALTER TABLE"
                    },
                    "metadata": {}
                },
                {
                    "output_type": "error",
                    "evalue": "invalid reference to FROM-clause entry for table \"c\"",
                    "ename": "",
                    "traceback": []
                },
                {
                    "output_type": "display_data",
                    "data": {
                        "text/html": "Total execution time: 00:00:00.023"
                    },
                    "metadata": {}
                }
            ],
            "execution_count": 225
        },
        {
            "cell_type": "code",
            "source": [
                "SELECT\r\n",
                "    CASE \r\n",
                "        WHEN ca.cus_app_num = 'OPC80448799' THEN c.cus_address\r\n",
                "        ELSE c429.cus_address\r\n",
                "    END AS customer_street\r\n",
                "FROM\r\n",
                "    dsci_504.customers c\r\n",
                "LEFT JOIN\r\n",
                "    dsci_504.customers c429 ON c429.cus_id = 429\r\n",
                "LEFT JOIN\r\n",
                "    dsci_504.customers ca ON c.cus_app_num = ca.cus_app_num\r\n",
                "WHERE\r\n",
                "    c.cus_id = 429;\r\n",
                ""
            ],
            "metadata": {
                "language": "sql",
                "azdata_cell_guid": "43941c3b-3369-4ba5-9885-d8909724e0d0"
            },
            "outputs": [
                {
                    "output_type": "display_data",
                    "data": {
                        "text/html": "(1 row(s) affected)"
                    },
                    "metadata": {}
                },
                {
                    "output_type": "display_data",
                    "data": {
                        "text/html": "Total execution time: 00:00:00.009"
                    },
                    "metadata": {}
                },
                {
                    "output_type": "execute_result",
                    "metadata": {},
                    "execution_count": 229,
                    "data": {
                        "application/vnd.dataresource+json": {
                            "schema": {
                                "fields": [
                                    {
                                        "name": "customer_street"
                                    }
                                ]
                            },
                            "data": [
                                {
                                    "customer_street": "Madison"
                                }
                            ]
                        },
                        "text/html": [
                            "<table>",
                            "<tr><th>customer_street</th></tr>",
                            "<tr><td>Madison</td></tr>",
                            "</table>"
                        ]
                    }
                }
            ],
            "execution_count": 229
        }
    ]
}